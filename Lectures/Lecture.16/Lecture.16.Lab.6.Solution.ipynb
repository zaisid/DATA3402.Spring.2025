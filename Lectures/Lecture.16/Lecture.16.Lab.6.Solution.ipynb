{
 "cells": [
  {
   "cell_type": "markdown",
   "metadata": {},
   "source": [
    "# Lecture 14- Lab 5 Solution\n",
    "\n",
    "We started from:"
   ]
  },
  {
   "cell_type": "code",
   "execution_count": 1,
   "metadata": {},
   "outputs": [],
   "source": [
    "suits = [\"Clubs\", \"Diamonds\", \"Hearts\", \"Spades\"]\n",
    "values = list(range(2,11)) + [ \"Jack\", \"Queen\", \"King\", \"Ace\"]\n",
    "\n",
    "def make_deck():\n",
    "    deck=list()\n",
    "    for suit in suits:\n",
    "        for value in values:\n",
    "            deck.append((suit,value))\n",
    "    return deck\n",
    "\n",
    "#make_deck()"
   ]
  },
  {
   "cell_type": "markdown",
   "metadata": {},
   "source": [
    "TODO:\n",
    "* Players don't have a down card! Only dealer! ==> Add down card to seen cards\n",
    "* Add function to show game status on screen\n",
    "* Add Toggleable DEBUG printouts\n",
    "* Properly handle Aces as 11 or 1\n",
    "* Add logic to appropriately place shufflecard\n",
    "* Check that players have chips\n",
    "* Handle Dealer's visable card correctly\n",
    "    \n",
    "    "
   ]
  },
  {
   "cell_type": "markdown",
   "metadata": {},
   "source": [
    "## Card/Deck Classes"
   ]
  },
  {
   "cell_type": "code",
   "execution_count": 50,
   "metadata": {},
   "outputs": [],
   "source": [
    "class base:\n",
    "    SILENT=6\n",
    "    DEBUG=1\n",
    "    INFO=2\n",
    "    WARNING=3\n",
    "    ERROR=4\n",
    "    CRITICAL=5\n",
    "    \n",
    "    def __init__(self,level=0):\n",
    "        self.level=level\n",
    "        \n",
    "    def message(self,level,*args):\n",
    "        if level >= self.level:\n",
    "            print(*args)\n",
    "        "
   ]
  },
  {
   "cell_type": "code",
   "execution_count": 51,
   "metadata": {},
   "outputs": [],
   "source": [
    "class Card(base):\n",
    "    __suits = [\"Clubs\", \"Diamonds\", \"Hearts\", \"Spades\", \"ShuffleCard\"]\n",
    "    __values = list(range(2,11)) + [ \"Jack\", \"Queen\", \"King\", \"Ace\"]\n",
    "\n",
    "    def __init__(self,suit,value=None):\n",
    "        base.__init__(self)\n",
    "        self.__suit = suit if suit in self.__suits else None\n",
    "        self.__value = value if value in self.__values else None\n",
    "        \n",
    "        if self.__suit is None:\n",
    "            self.message(self.ERROR, \"Error, bad suit:\",suit)\n",
    "\n",
    "        if self.__value is None and self.__suit != \"ShuffleCard\":\n",
    "            self.message(self.ERROR, \"Error, bad value:\",value)\n",
    "\n",
    "    def value(self):\n",
    "        return self.__value\n",
    "    \n",
    "    def suit(self):\n",
    "        return self.__suit\n",
    "    \n",
    "    def numerical_value(self):\n",
    "        # Special Handling of aces\n",
    "        if self.__value == \"Ace\":\n",
    "            return 1\n",
    "        elif self.__value in [ \"Jack\", \"Queen\", \"King\"]:\n",
    "            return 10\n",
    "        else:\n",
    "            return self.__value\n",
    "        \n",
    "    def shuffle_card(self):\n",
    "        return self.__suit == \"ShuffleCard\"\n",
    "\n",
    "    def __str__(self):\n",
    "        if self.shuffle_card():\n",
    "            return \"Shuffle Card\"\n",
    "        else:\n",
    "            return str(self.__value) + \" of \" + self.__suit\n",
    "\n",
    "    __repr__ = __str__"
   ]
  },
  {
   "cell_type": "code",
   "execution_count": 52,
   "metadata": {},
   "outputs": [],
   "source": [
    "import random\n",
    "\n",
    "class Deck(base):\n",
    "    __suits = [\"Clubs\", \"Diamonds\", \"Hearts\", \"Spades\"]\n",
    "    __values = list(range(2,11)) + [ \"Jack\", \"Queen\", \"King\", \"Ace\"]\n",
    "\n",
    "    def __init__(self,n_decks=6):\n",
    "        base.__init__(self)\n",
    "        self.__n_decks=n_decks\n",
    "        \n",
    "        self.__cards = list()\n",
    "        \n",
    "        for _ in range(self.__n_decks):\n",
    "            self.__cards.extend(self.__make_deck())            \n",
    "            \n",
    "        # TODO: Add logic to appropriately place shufflecard\n",
    "        self.__cards.append(Card(\"ShuffleCard\"))\n",
    "        \n",
    "    def __make_deck(self):\n",
    "        deck=list()\n",
    "        for suit in self.__suits:\n",
    "            for value in self.__values:\n",
    "                deck.append(Card(suit,value))\n",
    "        return deck\n",
    "    \n",
    "    def shuffle(self):\n",
    "        random.shuffle(self.__cards) \n",
    "        \n",
    "    def deal(self):\n",
    "        if len(self.__cards)>0:\n",
    "            return self.__cards.pop()\n",
    "        else:\n",
    "            for _ in range(self.__n_decks):\n",
    "                self.__cards.extend(self.__make_deck()) \n",
    "            self.shuffle()\n",
    "            return self.__cards.pop()        \n"
   ]
  },
  {
   "cell_type": "code",
   "execution_count": 53,
   "metadata": {},
   "outputs": [
    {
     "data": {
      "text/plain": [
       "[Jack of Diamonds,\n",
       " 10 of Spades,\n",
       " King of Clubs,\n",
       " 7 of Hearts,\n",
       " Queen of Clubs,\n",
       " 5 of Spades,\n",
       " 3 of Hearts,\n",
       " 9 of Clubs,\n",
       " 8 of Hearts,\n",
       " 5 of Clubs]"
      ]
     },
     "execution_count": 53,
     "metadata": {},
     "output_type": "execute_result"
    }
   ],
   "source": [
    "my_deck = Deck()\n",
    "my_deck.shuffle()\n",
    "\n",
    "[my_deck.deal() for _ in range(10)]"
   ]
  },
  {
   "cell_type": "markdown",
   "metadata": {},
   "source": [
    "## Calculating Value of Hand"
   ]
  },
  {
   "cell_type": "code",
   "execution_count": 54,
   "metadata": {},
   "outputs": [],
   "source": [
    "def calc_hand_value_0(hand):\n",
    "    return sum(map(lambda card: card.numerical_value(),hand))"
   ]
  },
  {
   "cell_type": "code",
   "execution_count": 55,
   "metadata": {},
   "outputs": [],
   "source": [
    "def calc_hand_value(hand):\n",
    "    card_values = list(map(lambda card: card.numerical_value(),hand))\n",
    "\n",
    "    n_As= len(list(filter(lambda x: x==1,card_values)))\n",
    "    \n",
    "    hand_value = sum(card_values)\n",
    "\n",
    "    if n_As==0:\n",
    "        return hand_value\n",
    "    \n",
    "    # Case the last Ace is a 1\n",
    "    Ace_as_one = hand_value\n",
    "    Ace_as_eleven = hand_value+10\n",
    "    \n",
    "    if Ace_as_eleven<=21:\n",
    "        return Ace_as_eleven\n",
    "    else:\n",
    "        return Ace_as_one\n",
    "       "
   ]
  },
  {
   "cell_type": "code",
   "execution_count": 56,
   "metadata": {},
   "outputs": [
    {
     "data": {
      "text/plain": [
       "13"
      ]
     },
     "execution_count": 56,
     "metadata": {},
     "output_type": "execute_result"
    }
   ],
   "source": [
    "calc_hand_value( [ Card(\"Clubs\",10), Card(\"Clubs\",2), Card(\"Hearts\",\"Ace\")] )"
   ]
  },
  {
   "cell_type": "code",
   "execution_count": 57,
   "metadata": {},
   "outputs": [
    {
     "data": {
      "text/plain": [
       "21"
      ]
     },
     "execution_count": 57,
     "metadata": {},
     "output_type": "execute_result"
    }
   ],
   "source": [
    "calc_hand_value( [ Card(\"Clubs\",10),  Card(\"Hearts\",\"Ace\")] )"
   ]
  },
  {
   "cell_type": "markdown",
   "metadata": {},
   "source": [
    "## Player Class"
   ]
  },
  {
   "cell_type": "code",
   "execution_count": 58,
   "metadata": {},
   "outputs": [],
   "source": [
    "class PlayerBase(base):\n",
    "    def __init__(self, name, n_chips):\n",
    "        base.__init__(self)\n",
    "        self.__name = name\n",
    "        self.__n_chips=n_chips\n",
    "    \n",
    "    def name(self):\n",
    "        return self.__name\n",
    "    \n",
    "    def chips(self):\n",
    "        return self.__n_chips\n",
    "    \n",
    "    def pay(self,value=2):\n",
    "        self.__n_chips+=value\n",
    "\n",
    "    def deduct(self,value=2):\n",
    "        # Logic to check if negative?\n",
    "        self.__n_chips-=value\n",
    "\n",
    "    def play_hand(self, down_card, up_cards, seen_cards ):\n",
    "        raise NotImplementedError\n",
    "        \n",
    "    def __str__(self):\n",
    "        return self.__name + \"(\"+ str(self.__n_chips) + \")\"\n",
    "    \n",
    "    __repr__=__str__\n",
    "    \n",
    "class DealerPlayer(PlayerBase):\n",
    "    def __init__(self,threshold=16):\n",
    "        self.__threshold = threshold\n",
    "        PlayerBase.__init__(self,\"Mr. Dealer\", 1000)\n",
    "\n",
    "    def play_hand(self, down_card, up_cards, seen_cards ):\n",
    "        hand_value = calc_hand_value([down_card] + up_cards)\n",
    "        return hand_value < self.__threshold\n",
    "        \n",
    "class ConsolePlayer(PlayerBase):\n",
    "    def play_hand(self, down_card, up_cards, seen_cards ):\n",
    "        print(\"Down Card:\", down_card)\n",
    "        print(\"Up Cards:\", up_cards)\n",
    "        print(\"Seen Cards:\", seen_cards)\n",
    "        hit_str= input(\"Hit(Y/N):\")\n",
    "        return hit_str.upper()==\"Y\"\n",
    "\n",
    "class Strategy_1_Player(PlayerBase):\n",
    "    def play_hand(self, down_card, up_cards, seen_cards ):\n",
    "        return True\n",
    "    \n",
    "    "
   ]
  },
  {
   "cell_type": "markdown",
   "metadata": {},
   "source": [
    "## Game Class"
   ]
  },
  {
   "cell_type": "code",
   "execution_count": 101,
   "metadata": {},
   "outputs": [],
   "source": [
    "class Game(base):\n",
    "    def __init__(self,n_decks=6):\n",
    "        base.__init__(self,self.INFO)\n",
    "        self.__n_decks=n_decks\n",
    "        self.__players = list()\n",
    "        self.__all_players = list()\n",
    "        \n",
    "        self.__shuffle = False\n",
    "        \n",
    "        \n",
    "    def players(self):\n",
    "        return self.__players\n",
    "    \n",
    "    def all_players(self):\n",
    "        return self.__all_players\n",
    "\n",
    "    def add_player(self,player):\n",
    "        self.__players.append(player)\n",
    "        self.__all_players.append(player)\n",
    "\n",
    "    def deal_and_check_shuffle(self,deck):\n",
    "        card = deck.deal()\n",
    "        if card.shuffle_card():\n",
    "            shuffle=True\n",
    "            card = deck.deal()\n",
    "        return card\n",
    "    \n",
    "    def show_status(self,hands,seen_cards):\n",
    "        self.message(self.INFO,\"----------------------------------------------------------------\")\n",
    "        self.message(self.INFO,\"Hands:\",hands)\n",
    "        self.message(self.INFO,\"Seen Cards:\",seen_cards)\n",
    "        self.message(self.INFO,\"*************************************************\")\n",
    "        self.message(self.INFO,\"Players:\")\n",
    "        self.message(self.INFO,\"*************************************************\")\n",
    "        for i,player in enumerate(self.__all_players):\n",
    "            self.message(self.INFO,i,\":\",player)\n",
    "        self.message(self.INFO,\"----------------------------------------------------------------\")\n",
    "\n",
    "        \n",
    "    def play_game(self,n_hands):\n",
    "        # Create Dealer\n",
    "        self.add_player(DealerPlayer())\n",
    "        \n",
    "        deck = None\n",
    "        self.__shuffle = False\n",
    "        \n",
    "        # TODO: Check that all players have chips... \n",
    "        \n",
    "        for i_hand in range(n_hands):\n",
    "            \n",
    "            # Remove Players with no money\n",
    "            self.__players = list(filter(lambda player: player.chips()>=2,self.__players))\n",
    "            self.message(self.DEBUG,\"n players, n all players\",len(self.__players),len(self.__all_players))            \n",
    "            self.message(self.DEBUG,\"Starting Hand:\",i_hand,\"/\",n_hands)\n",
    "            # New Hand\n",
    "            \n",
    "            # Do we have a deck or have to shuffle?\n",
    "            if deck is None or self.__shuffle:\n",
    "                self.message(self.DEBUG,\"Creating New Deck / Shuffling\")\n",
    "                deck = Deck()\n",
    "                # Shuffle Cards\n",
    "                deck.shuffle()\n",
    "                seen_cards = list()\n",
    "                self.__shuffle=False\n",
    "\n",
    "            hands = list()\n",
    "\n",
    "            # Deal Each Players Hand\n",
    "            # Down card deal\n",
    "            self.message(self.DEBUG,\"Dealing Cards\")\n",
    "            for player_i,player in enumerate(self.__players):\n",
    "                down_card = self.deal_and_check_shuffle(deck)\n",
    "                up_cards = list()\n",
    "                hands.append((down_card,up_cards))\n",
    "                if player_i < len(self.__players)-1:\n",
    "                    seen_cards.append(down_card)\n",
    "                \n",
    "            # Up card deal\n",
    "            for (down_card,up_cards) in hands:\n",
    "                up_cards.append(self.deal_and_check_shuffle(deck))                \n",
    "                seen_cards.append(up_cards[-1])\n",
    "                \n",
    "            # TODO: Show hands...\n",
    "            self.show_status(hands,seen_cards)\n",
    "            \n",
    "            # Play\n",
    "            # Deals cards and asks players to hit/stay\n",
    "            \n",
    "            for player_i,((down_card,up_cards),player) in enumerate(zip(hands,self.__players)):\n",
    "                self.message(self.DEBUG,\"Asking Player\",player_i,\"to Play\")\n",
    "                self.message(self.DEBUG,\"Player\",player_i,\"hand total:\",calc_hand_value([down_card]+up_cards))\n",
    "                hit = True\n",
    "                this_hand_up_cards=list()\n",
    "                while(hit):\n",
    "                    hit = player.play_hand(down_card,up_cards,seen_cards)\n",
    "\n",
    "                    if hit:\n",
    "                        self.message(self.DEBUG,\"Player\",player_i,\"Hit\")\n",
    "                        card = self.deal_and_check_shuffle(deck)\n",
    "                        up_cards.append(card)\n",
    "                        this_hand_up_cards.append(card)\n",
    "                        hand_value = calc_hand_value([down_card] + up_cards)\n",
    "                        self.message(self.DEBUG,\"Hand Value:\",hand_value)\n",
    "                        if hand_value < 21:\n",
    "                            hit = True\n",
    "                        else: \n",
    "                            hit = False\n",
    "                            if hand_value > 21:\n",
    "                                self.message(self.DEBUG,\"Player\",player_i,\"Busted\")     \n",
    "                            else:\n",
    "                                self.message(self.DEBUG,\"Player\",player_i,\"Got 21\")\n",
    "                    else:\n",
    "                        self.message(self.DEBUG,\"Player\",player_i,\"Stay\")\n",
    "\n",
    "                seen_cards.append(down_card)\n",
    "                seen_cards.extend(this_hand_up_cards)\n",
    "\n",
    "            # Pay:\n",
    "            # Compute the hand values\n",
    "            hand_values = [calc_hand_value([hand[0]]+hand[1]) for hand in hands]\n",
    "\n",
    "            self.message(self.DEBUG,\"Hand Values\",hand_values)\n",
    "            \n",
    "            # Determine who gets paid\n",
    "            if hand_values[-1]==21:\n",
    "                self.message(self.DEBUG,\"Dealer Got 21\")\n",
    "                for player_i,(hand_value,player) in enumerate(zip(hand_values[:-1],self.__players[:-1])):\n",
    "                    if hand_value==21:\n",
    "                        self.message(self.DEBUG,\"Player\",player_i,\"Got 21. Paying 3 chips.\")\n",
    "                        player.pay(3)\n",
    "                    else:\n",
    "                        self.message(self.DEBUG,\"Player\",player_i,\"Busted or dealer won. Deducting 2 chips.\")\n",
    "                        player.deduct(2)\n",
    "                    \n",
    "            if hand_values[-1]>21:        \n",
    "                self.message(self.DEBUG,\"Dealer Busted\")\n",
    "                for player_i,(hand_value,player) in enumerate(zip(hand_values[:-1],self.__players[:-1])):\n",
    "                    if hand_value==21:\n",
    "                        self.message(self.DEBUG,\"Player\",player_i,\"Got 21. Paying 3 chips.\")\n",
    "                        player.pay(3)\n",
    "                    elif hand_value>21:\n",
    "                        self.message(self.DEBUG,\"Player\",player_i,\"Busted. Deducting 2 chips.\")\n",
    "                        player.deduct(2)\n",
    "                    else:\n",
    "                        self.message(self.DEBUG,\"Player\",player_i,\"Paying 2 chips.\")\n",
    "                        player.pay(2)\n",
    "                        \n",
    "            if hand_values[-1]<21:\n",
    "                self.message(self.DEBUG,\"Dealer hand is:\",hand_values[-1])\n",
    "                for player_i,(hand_value,player) in enumerate(zip(hand_values[:-1],self.__players[:-1])):\n",
    "                    if hand_value==21:\n",
    "                        self.message(self.DEBUG,\"Player\",player_i,\"Got 21. Paying 3 chips.\")\n",
    "                        player.pay(3)\n",
    "                    elif hand_value>21:\n",
    "                        self.message(self.DEBUG,\"Player\",player_i,\"Busted. Deducting 2 chips.\")\n",
    "                        player.deduct(2)\n",
    "                    elif hand_value >  hand_values[-1]:\n",
    "                        self.message(self.DEBUG,\"Player\",player_i,\" hand was\",hand_value, \"versus Dealer hand\",\n",
    "                                     hand_values[-1],\"Paying 2 chips.\")\n",
    "                        player.pay(2)\n",
    "                    else:\n",
    "                        self.message(self.DEBUG,\"Player\",player_i,\" hand was\",hand_value, \"versus Dealer hand\",\n",
    "                                     hand_values[-1],\"Deducting 2 chips.\")\n",
    "                        player.deduct(2)\n"
   ]
  },
  {
   "cell_type": "code",
   "execution_count": 102,
   "metadata": {},
   "outputs": [],
   "source": [
    "my_game=Game()\n",
    "my_game.level=Game.DEBUG\n",
    "\n",
    "my_game.add_player(Strategy_1_Player(\"Dummy player\",100))\n",
    "my_game.add_player(ConsolePlayer(\"ME!\",100))\n",
    "\n",
    "#my_game.play_game(2)\n"
   ]
  },
  {
   "cell_type": "markdown",
   "metadata": {},
   "source": [
    "## Fully Automatic Game\n"
   ]
  },
  {
   "cell_type": "code",
   "execution_count": 103,
   "metadata": {},
   "outputs": [],
   "source": [
    "class Strategy_1_Player(PlayerBase):\n",
    "    def play_hand(self, down_card, up_cards, seen_cards ):\n",
    "        return True\n",
    "\n",
    "class Strategy_2_Player(PlayerBase):\n",
    "    def play_hand(self, down_card, up_cards, seen_cards ):\n",
    "        \"\"\"\n",
    "        Assign each card a value:\n",
    "        Cards 2 to 6 are +1\n",
    "        Cards 7 to 9 are 0\n",
    "        Cards 10 through Ace are -1\n",
    "        Compute the sum of the values for all cards seen so far.\n",
    "        Hit if sum is very negative, stay if sum is very positive. Select a threshold for hit/stay, e.g. 0 or -2.\n",
    "        \"\"\"                \n",
    "        return True\n",
    "\n",
    "class DealerLikePlayer(PlayerBase):\n",
    "    def __init__(self,name,chips,threshold=16):\n",
    "        self.__threshold = threshold\n",
    "        PlayerBase.__init__(self,name, chips)\n",
    "\n",
    "    def play_hand(self, down_card, up_cards, seen_cards ):\n",
    "        hand_value = calc_hand_value([down_card] + up_cards)\n",
    "        return hand_value < self.__threshold\n",
    "\n"
   ]
  },
  {
   "cell_type": "code",
   "execution_count": 129,
   "metadata": {
    "scrolled": true
   },
   "outputs": [],
   "source": [
    "my_game=Game()\n",
    "my_game.level=Game.SILENT\n",
    "\n",
    "my_game.add_player(Strategy_1_Player(\"Dummy player\",100))\n",
    "my_game.add_player(DealerLikePlayer(\"Stays on 13\",100,13))\n",
    "my_game.add_player(DealerLikePlayer(\"Stays on 14\",100,14))\n",
    "my_game.add_player(DealerLikePlayer(\"Stays on 15\",100,15))\n",
    "my_game.add_player(DealerLikePlayer(\"Stays on 16\",100,16))\n",
    "my_game.add_player(DealerLikePlayer(\"Stays on 17\",100,17))\n",
    "my_game.add_player(DealerLikePlayer(\"Stays on 18\",100,18))\n",
    "my_game.add_player(DealerLikePlayer(\"Stays on 19\",100,19))\n",
    "my_game.add_player(DealerLikePlayer(\"Stays on 20\",100,20))\n",
    "\n",
    "\n",
    "my_game.play_game(10)\n"
   ]
  },
  {
   "cell_type": "code",
   "execution_count": 105,
   "metadata": {
    "scrolled": true
   },
   "outputs": [
    {
     "data": {
      "text/plain": [
       "[95, 97, 93, 99, 1000]"
      ]
     },
     "execution_count": 105,
     "metadata": {},
     "output_type": "execute_result"
    }
   ],
   "source": [
    "[player.chips() for player in my_game.players()]"
   ]
  },
  {
   "cell_type": "code",
   "execution_count": 130,
   "metadata": {},
   "outputs": [],
   "source": [
    "def play_a_round(n_hands=50):\n",
    "    my_game=Game()\n",
    "    my_game.level=Game.ERROR\n",
    "\n",
    "    my_game.add_player(Strategy_1_Player(\"Dummy player\",100))\n",
    "    my_game.add_player(DealerLikePlayer(\"Stays on 13\",100,13))\n",
    "    my_game.add_player(DealerLikePlayer(\"Stays on 14\",100,14))\n",
    "    my_game.add_player(DealerLikePlayer(\"Stays on 15\",100,15))\n",
    "    my_game.add_player(DealerLikePlayer(\"Stays on 16\",100,16))\n",
    "    my_game.add_player(DealerLikePlayer(\"Stays on 17\",100,17))\n",
    "    my_game.add_player(DealerLikePlayer(\"Stays on 18\",100,18))\n",
    "    my_game.add_player(DealerLikePlayer(\"Stays on 19\",100,19))\n",
    "    my_game.add_player(DealerLikePlayer(\"Stays on 20\",100,20))\n",
    "    \n",
    "    my_game.play_game(n_hands)\n",
    "    \n",
    "    return [player.chips() for player in my_game.all_players()]\n",
    "    "
   ]
  },
  {
   "cell_type": "code",
   "execution_count": 107,
   "metadata": {},
   "outputs": [],
   "source": [
    "results=play_a_round(100)"
   ]
  },
  {
   "cell_type": "code",
   "execution_count": 108,
   "metadata": {
    "scrolled": true
   },
   "outputs": [
    {
     "data": {
      "text/plain": [
       "[0, 75, 110, 73, 1000]"
      ]
     },
     "execution_count": 108,
     "metadata": {},
     "output_type": "execute_result"
    }
   ],
   "source": [
    "results"
   ]
  },
  {
   "cell_type": "code",
   "execution_count": 131,
   "metadata": {},
   "outputs": [],
   "source": [
    "def play_many_rounds(n_rounds=100,n_hands=50):\n",
    "    \n",
    "    results = list()\n",
    "    \n",
    "    for i_round in range(n_rounds):\n",
    "        results.append(play_a_round(n_hands))\n",
    "        \n",
    "    return results"
   ]
  },
  {
   "cell_type": "code",
   "execution_count": 132,
   "metadata": {},
   "outputs": [],
   "source": [
    "results= play_many_rounds(1000)"
   ]
  },
  {
   "cell_type": "code",
   "execution_count": 133,
   "metadata": {},
   "outputs": [],
   "source": [
    "import numpy as np\n",
    "import matplotlib.pyplot as plt\n",
    "%matplotlib inline"
   ]
  },
  {
   "cell_type": "code",
   "execution_count": 137,
   "metadata": {},
   "outputs": [],
   "source": [
    "res = np.array(results)\n",
    "res = res [:,:-1]"
   ]
  },
  {
   "cell_type": "code",
   "execution_count": 139,
   "metadata": {},
   "outputs": [
    {
     "data": {
      "image/png": "[encoded data removed]",
      "text/plain": [
       "<Figure size 432x288 with 1 Axes>"
      ]
     },
     "metadata": {
      "needs_background": "light"
     },
     "output_type": "display_data"
    }
   ],
   "source": [
    "for i in range(res.shape[1]):\n",
    "    plt.hist(res[:,i],label=\"Player \"+str(i),alpha=0.5)\n",
    "    \n",
    "plt.legend()\n",
    "plt.show()\n"
   ]
  },
  {
   "cell_type": "code",
   "execution_count": 143,
   "metadata": {},
   "outputs": [],
   "source": [
    "m=np.mean(res,axis=0)"
   ]
  },
  {
   "cell_type": "code",
   "execution_count": 144,
   "metadata": {},
   "outputs": [],
   "source": [
    "s=np.std(res,axis=0)"
   ]
  },
  {
   "cell_type": "code",
   "execution_count": 145,
   "metadata": {},
   "outputs": [
    {
     "data": {
      "text/plain": [
       "<ErrorbarContainer object of 3 artists>"
      ]
     },
     "execution_count": 145,
     "metadata": {},
     "output_type": "execute_result"
    },
    {
     "data": {
      "image/png": "[encoded data removed]",
      "text/plain": [
       "<Figure size 432x288 with 1 Axes>"
      ]
     },
     "metadata": {
      "needs_background": "light"
     },
     "output_type": "display_data"
    }
   ],
   "source": [
    "plt.errorbar(range(len(m)),m,s)"
   ]
  },
  {
   "cell_type": "code",
   "execution_count": null,
   "metadata": {},
   "outputs": [],
   "source": []
  }
 ],
 "metadata": {
  "kernelspec": {
   "display_name": "Python 3 (ipykernel)",
   "language": "python",
   "name": "python3"
  },
  "language_info": {
   "codemirror_mode": {
    "name": "ipython",
    "version": 3
   },
   "file_extension": ".py",
   "mimetype": "text/x-python",
   "name": "python",
   "nbconvert_exporter": "python",
   "pygments_lexer": "ipython3",
   "version": "3.13.2"
  }
 },
 "nbformat": 4,
 "nbformat_minor": 4
}
