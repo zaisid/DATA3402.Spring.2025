{
 "cells": [
  {
   "cell_type": "markdown",
   "metadata": {},
   "source": [
    "## Lab 2- Tic Tac Toe\n",
    "\n",
    "In this lab your will build a n x n Tic Tac Toe game. As you do the exercises, make sure your solutions work for any size Tic Tac Toe game. "
   ]
  },
  {
   "cell_type": "markdown",
   "metadata": {},
   "source": [
    "*Exercise 1:* Write a function that creates an n by n matrix (of list of lists) which will represent the state of a Tie Tac Toe game. Let 0, 1, and 2 represent empty, \"X\", and \"O\", respectively.\n"
   ]
  },
  {
   "cell_type": "code",
   "execution_count": 295,
   "metadata": {},
   "outputs": [
    {
     "data": {
      "text/plain": [
       "[[0, 0, 0], [0, 0, 0], [0, 0, 0]]"
      ]
     },
     "execution_count": 295,
     "metadata": {},
     "output_type": "execute_result"
    }
   ],
   "source": [
    "# Write you solution here\n",
    "\n",
    "player_1 = 1\n",
    "playet_2 = 2\n",
    "empty = 0\n",
    "size = 3\n",
    "\n",
    "def create_board(size):\n",
    "    row=[]\n",
    "    for x in range(size):\n",
    "        row.append([empty]*size)\n",
    "    return row\n",
    "\n",
    "\n",
    "test_board=create_board(3)\n",
    "test_board"
   ]
  },
  {
   "cell_type": "code",
   "execution_count": 296,
   "metadata": {},
   "outputs": [
    {
     "data": {
      "text/plain": [
       "[[0, 0, 0], [0, 0, 1], [0, 0, 0]]"
      ]
     },
     "execution_count": 296,
     "metadata": {},
     "output_type": "execute_result"
    }
   ],
   "source": [
    "test_board[1][2]= 1\n",
    "test_board"
   ]
  },
  {
   "cell_type": "code",
   "execution_count": 344,
   "metadata": {},
   "outputs": [
    {
     "data": {
      "text/plain": [
       "[[0, 0, 0], [0, 0, 1], [2, 0, 0]]"
      ]
     },
     "execution_count": 344,
     "metadata": {},
     "output_type": "execute_result"
    }
   ],
   "source": [
    "test_board[2][0]=player_2\n",
    "test_board"
   ]
  },
  {
   "cell_type": "code",
   "execution_count": 297,
   "metadata": {},
   "outputs": [
    {
     "name": "stdout",
     "output_type": "stream",
     "text": [
      "[[0, 0, 0, 0], [0, 0, 0, 0], [0, 0, 0, 0], [0, 0, 0, 0]]\n",
      "[[0, 0, 0], [0, 0, 1], [0, 0, 0]]\n"
     ]
    }
   ],
   "source": [
    "new_board = create_board(4)\n",
    "print(new_board)\n",
    "print(test_board)"
   ]
  },
  {
   "cell_type": "code",
   "execution_count": 346,
   "metadata": {},
   "outputs": [
    {
     "name": "stdout",
     "output_type": "stream",
     "text": [
      "[0, 0, 0]\n",
      "[0, 0, 1]\n",
      "[2, 0, 0]\n"
     ]
    }
   ],
   "source": [
    "def view_board(board_name):\n",
    "    board_size = len(board_name)\n",
    "    for row_num in range(0,board_size):\n",
    "        print(board_name[row_num])\n",
    "\n",
    "view_board(test_board)"
   ]
  },
  {
   "cell_type": "code",
   "execution_count": 299,
   "metadata": {},
   "outputs": [
    {
     "name": "stdout",
     "output_type": "stream",
     "text": [
      "[0, 0, 0, 0]\n",
      "[0, 0, 0, 0]\n",
      "[0, 0, 0, 0]\n",
      "[0, 0, 0, 0]\n"
     ]
    }
   ],
   "source": [
    "view_board(new_board)"
   ]
  },
  {
   "cell_type": "markdown",
   "metadata": {},
   "source": [
    "*Exercise 2:* Write a function that takes 2 integers `n` and `m` as input and draws a `n` by `m` game board. For example the following is a 3x3 board:\n",
    "```\n",
    "   --- --- --- \n",
    "  |   |   |   | \n",
    "   --- --- ---  \n",
    "  |   |   |   | \n",
    "   --- --- ---  \n",
    "  |   |   |   | \n",
    "   --- --- --- \n",
    "   ```"
   ]
  },
  {
   "cell_type": "code",
   "execution_count": 419,
   "metadata": {},
   "outputs": [],
   "source": [
    "# Write you solution here\n",
    "def create_board_2(n,m=None):\n",
    "    if m == None:\n",
    "        m = n\n",
    "    row=list()\n",
    "    for x in range(n):\n",
    "        row.append([empty]*m)\n",
    "    return row"
   ]
  },
  {
   "cell_type": "code",
   "execution_count": 423,
   "metadata": {},
   "outputs": [
    {
     "data": {
      "text/plain": [
       "[[0, 0, 0], [0, 0, 0], [0, 0, 0]]"
      ]
     },
     "execution_count": 423,
     "metadata": {},
     "output_type": "execute_result"
    }
   ],
   "source": [
    "n_board=create_board_2(3)\n",
    "n_board"
   ]
  },
  {
   "cell_type": "code",
   "execution_count": 425,
   "metadata": {},
   "outputs": [
    {
     "data": {
      "text/plain": [
       "[[0, 0, 0, 0, 0], [0, 0, 0, 0, 0]]"
      ]
     },
     "execution_count": 425,
     "metadata": {},
     "output_type": "execute_result"
    }
   ],
   "source": [
    "nm_board=create_board_2(2,5)\n",
    "nm_board"
   ]
  },
  {
   "cell_type": "code",
   "execution_count": 427,
   "metadata": {},
   "outputs": [
    {
     "data": {
      "text/plain": [
       "[[0, 0, 0, 5, 0], [0, 0, 0, 0, 0]]"
      ]
     },
     "execution_count": 427,
     "metadata": {},
     "output_type": "execute_result"
    }
   ],
   "source": [
    "nm_board[0][3]=5\n",
    "nm_board"
   ]
  },
  {
   "cell_type": "code",
   "execution_count": 429,
   "metadata": {},
   "outputs": [
    {
     "data": {
      "text/plain": [
       "2"
      ]
     },
     "execution_count": 429,
     "metadata": {},
     "output_type": "execute_result"
    }
   ],
   "source": [
    "len(nm_board)"
   ]
  },
  {
   "cell_type": "code",
   "execution_count": 431,
   "metadata": {},
   "outputs": [
    {
     "data": {
      "text/plain": [
       "5"
      ]
     },
     "execution_count": 431,
     "metadata": {},
     "output_type": "execute_result"
    }
   ],
   "source": [
    "len(nm_board[0])"
   ]
  },
  {
   "cell_type": "code",
   "execution_count": 433,
   "metadata": {},
   "outputs": [],
   "source": [
    "def view_board_2(board_name):\n",
    "    board_size = len(board_name)\n",
    "    print(\" –– \"*(len(board_name[0]))) #line on top of board\n",
    "    for row_num in range(0,board_size): #separate into rows\n",
    "        print(\"|\",end=\"\") #right-most border line\n",
    "        \n",
    "        for entry in range(len(board_name[row_num])): #separate individual entries in the rows\n",
    "            print(f\" {board_name[row_num][entry]} |\",end=\"\") #lines between entries\n",
    "        print(\"\")    \n",
    "        print(\" –– \"*(len(board_name[0]))) #line under each row"
   ]
  },
  {
   "cell_type": "code",
   "execution_count": 435,
   "metadata": {},
   "outputs": [
    {
     "name": "stdout",
     "output_type": "stream",
     "text": [
      " ––  ––  ––  ––  –– \n",
      "| 0 | 0 | 0 | 5 | 0 |\n",
      " ––  ––  ––  ––  –– \n",
      "| 0 | 0 | 0 | 0 | 0 |\n",
      " ––  ––  ––  ––  –– \n"
     ]
    }
   ],
   "source": [
    "view_board_2(nm_board)"
   ]
  },
  {
   "cell_type": "code",
   "execution_count": 437,
   "metadata": {},
   "outputs": [
    {
     "name": "stdout",
     "output_type": "stream",
     "text": [
      " ––  ––  ––  –– \n",
      "| 0 | 0 | 0 | 0 |\n",
      " ––  ––  ––  –– \n",
      "| 0 | 0 | 0 | 0 |\n",
      " ––  ––  ––  –– \n",
      "| 0 | 0 | 0 | 0 |\n",
      " ––  ––  ––  –– \n",
      "| 0 | 0 | 0 | 0 |\n",
      " ––  ––  ––  –– \n"
     ]
    }
   ],
   "source": [
    "view_board_2(new_board)"
   ]
  },
  {
   "cell_type": "code",
   "execution_count": 439,
   "metadata": {},
   "outputs": [
    {
     "name": "stdout",
     "output_type": "stream",
     "text": [
      " ––  ––  ––  ––  ––  ––  ––  ––  ––  –– \n",
      "| 0 | 0 | 0 | 0 | 0 | 0 | 0 | 0 | 0 | 0 |\n",
      " ––  ––  ––  ––  ––  ––  ––  ––  ––  –– \n",
      "| 0 | 0 | 0 | 0 | 0 | 0 | 0 | 0 | 0 | 0 |\n",
      " ––  ––  ––  ––  ––  ––  ––  ––  ––  –– \n",
      "| 0 | 0 | 0 | 0 | 0 | 0 | 0 | 0 | 0 | 0 |\n",
      " ––  ––  ––  ––  ––  ––  ––  ––  ––  –– \n",
      "| 0 | 0 | 0 | 0 | 0 | 0 | 0 | 0 | 0 | 0 |\n",
      " ––  ––  ––  ––  ––  ––  ––  ––  ––  –– \n"
     ]
    }
   ],
   "source": [
    "big_board=create_board_2(4,10)\n",
    "view_board_2(big_board)"
   ]
  },
  {
   "cell_type": "markdown",
   "metadata": {},
   "source": [
    "*Exercise 3:* Modify exercise 2, so that it takes a matrix of the form from exercise 1 and draws a tic-tac-tie board with \"X\"s and \"O\"s.  "
   ]
  },
  {
   "cell_type": "code",
   "execution_count": 441,
   "metadata": {},
   "outputs": [],
   "source": [
    "# Write you solution here\n",
    "def create_board_3(n=3,m=None):\n",
    "    if m == None:\n",
    "        m=n\n",
    "    row=[]\n",
    "    for x in range(n):\n",
    "        row.append([empty]*m)\n",
    "    return row"
   ]
  },
  {
   "cell_type": "code",
   "execution_count": 445,
   "metadata": {},
   "outputs": [
    {
     "name": "stdout",
     "output_type": "stream",
     "text": [
      "0 1 2\n"
     ]
    }
   ],
   "source": [
    "print(empty,\n",
    "      player_1,\n",
    "      player_2)"
   ]
  },
  {
   "cell_type": "code",
   "execution_count": 447,
   "metadata": {},
   "outputs": [
    {
     "name": "stdout",
     "output_type": "stream",
     "text": [
      " ––  ––  –– \n",
      "| 0 | 0 | 0 |\n",
      " ––  ––  –– \n",
      "| 0 | 1 | 0 |\n",
      " ––  ––  –– \n",
      "| 0 | 0 | 0 |\n",
      " ––  ––  –– \n"
     ]
    }
   ],
   "source": [
    "t_board=create_board_3()\n",
    "t_board[1][1]=player_1\n",
    "view_board_2(t_board)"
   ]
  },
  {
   "cell_type": "code",
   "execution_count": 461,
   "metadata": {},
   "outputs": [],
   "source": [
    "def view_board_XO(board_name):\n",
    "    board_size = len(board_name)\n",
    "    print(\" –– \"*(len(board_name[0]))) #line on top of board\n",
    "    for row_num in range(0,board_size): #separate into rows\n",
    "        print(\"|\",end=\"\") #right-most border line\n",
    "        \n",
    "        for entry in range(len(board_name[row_num])): #separate individual entries in the rows\n",
    "            #blank space\n",
    "            if board_name[row_num][entry] == 0:\n",
    "                print(\"   |\",end=\"\") #lines between entries\n",
    "            #player 1 or X\n",
    "            if board_name[row_num][entry] == 1:\n",
    "                print(\" X |\",end=\"\")\n",
    "            #player 2 or O\n",
    "            if board_name[row_num][entry] == 2:\n",
    "                print(\" O |\",end=\"\")\n",
    "        print(\"\")    \n",
    "        print(\" –– \"*(len(board_name[0]))) #line under each row"
   ]
  },
  {
   "cell_type": "code",
   "execution_count": 463,
   "metadata": {},
   "outputs": [
    {
     "name": "stdout",
     "output_type": "stream",
     "text": [
      " ––  ––  –– \n",
      "| O | O |   |\n",
      " ––  ––  –– \n",
      "| O | X |   |\n",
      " ––  ––  –– \n",
      "| O | X | X |\n",
      " ––  ––  –– \n"
     ]
    }
   ],
   "source": [
    "XO_board= [[2, 2, 0],\n",
    "\t[2, 1, 0],\n",
    "\t[2, 1, 1]]\n",
    "view_board_XO(XO_board)"
   ]
  },
  {
   "cell_type": "code",
   "execution_count": 455,
   "metadata": {},
   "outputs": [
    {
     "name": "stdout",
     "output_type": "stream",
     "text": [
      " ––  ––  –– \n",
      "|   |   |   |\n",
      " ––  ––  –– \n",
      "|   |   | X |\n",
      " ––  ––  –– \n",
      "| O |   |   |\n",
      " ––  ––  –– \n"
     ]
    }
   ],
   "source": [
    "view_board_XO(test_board)"
   ]
  },
  {
   "cell_type": "code",
   "execution_count": null,
   "metadata": {},
   "outputs": [],
   "source": [
    "# Test your solution here"
   ]
  },
  {
   "cell_type": "markdown",
   "metadata": {},
   "source": [
    "*Exercise 4:* Write a function that takes a `n` by `n` matrix representing a tic-tac-toe game, and returns -1, 0, 1, or 2 indicating the game is incomplete, the game is a draw, player 1 has won, or player 2 has one, respectively. Here are some example inputs you can use to test your code:"
   ]
  },
  {
   "cell_type": "code",
   "execution_count": 578,
   "metadata": {},
   "outputs": [],
   "source": [
    "# Write you solution here\n",
    "def winner(board_name):\n",
    "    #test if square matrix\n",
    "    if len(board_name) != len(board_name[0]): \n",
    "        return \"Invalid Tic-Tac-Toe board\"\n",
    "        \n",
    "    else:\n",
    "########horizontal win\n",
    "        for row in board_name:\n",
    "            first_val=row[0]\n",
    "            if first_val != 0 and all(val == first_val for val in row):\n",
    "                return first_val\n",
    "                    \n",
    "########negative diagonal win\n",
    "        first_val = board_name[0][0]\n",
    "        if first_val != 0 and all(board_name[i][i] == first_val for i in range(len(board_name))):\n",
    "            return first_val\n",
    "                    \n",
    "########positive diagonal win\n",
    "        first_val = board_name[-1][0]\n",
    "        if first_val != 0 and all(board_name[len(board_name) - 1 - row_num][row_num] == first_val for row_num in range(len(board_name))):\n",
    "            return first_val\n",
    "\n",
    "        \n",
    "########vertical win\n",
    "        for colnum in range(len(board_name[0])):\n",
    "            first_val=board_name[0][colnum]\n",
    "            if first_val != 0 and all(row[colnum] == first_val for row in board_name):\n",
    "                return first_val\n",
    "                \n",
    "########check incomplete or tie\n",
    "        for rows in board_name:\n",
    "            if 0 in rows:\n",
    "                return -1\n",
    "        return 0"
   ]
  },
  {
   "cell_type": "code",
   "execution_count": 466,
   "metadata": {},
   "outputs": [],
   "source": [
    "winner_is_2 = [[2, 2, 0],\n",
    "\t[2, 1, 0],\n",
    "\t[2, 1, 1]]\n",
    "\n",
    "winner_is_1 = [[1, 2, 0],\n",
    "\t[2, 1, 0],\n",
    "\t[2, 1, 1]]\n",
    "\n",
    "winner_is_also_1 = [[0, 1, 0],\n",
    "\t[2, 1, 0],\n",
    "\t[2, 1, 1]]\n",
    "\n",
    "no_winner = [[1, 2, 0],\n",
    "\t[2, 1, 0],\n",
    "\t[2, 1, 2]]\n",
    "\n",
    "also_no_winner = [[1, 2, 0],\n",
    "\t[2, 1, 0],\n",
    "\t[2, 1, 0]]"
   ]
  },
  {
   "cell_type": "code",
   "execution_count": 1003,
   "metadata": {},
   "outputs": [],
   "source": [
    "draw=[[2,1,2],[2,1,1],[1,2,1]]"
   ]
  },
  {
   "cell_type": "code",
   "execution_count": 1005,
   "metadata": {},
   "outputs": [
    {
     "name": "stdout",
     "output_type": "stream",
     "text": [
      "[[2, 2, 0], [2, 1, 0], [2, 1, 1]] 2\n",
      "[[1, 2, 0], [2, 1, 0], [2, 1, 1]] 1\n",
      "[[0, 1, 0], [2, 1, 0], [2, 1, 1]] 1\n",
      "[[1, 2, 0], [2, 1, 0], [2, 1, 2]] -1\n",
      "[[1, 2, 0], [2, 1, 0], [2, 1, 0]] -1\n",
      "[[2, 1, 2], [2, 1, 1], [1, 2, 1]] 0\n"
     ]
    }
   ],
   "source": [
    "test_boards=[winner_is_2,winner_is_1,winner_is_also_1, no_winner,also_no_winner, draw]\n",
    "for x in test_boards:\n",
    "    print(x,winner(x))"
   ]
  },
  {
   "cell_type": "markdown",
   "metadata": {},
   "source": [
    "*Exercise 5:* Write a function that takes a game board, player number, and `(x,y)` coordinates and places \"X\" or \"O\" in the correct location of the game board. Make sure that you only allow filling previously empty locations. Return `True` or `False` to indicate successful placement of \"X\" or \"O\"."
   ]
  },
  {
   "cell_type": "code",
   "execution_count": 617,
   "metadata": {},
   "outputs": [],
   "source": [
    "# Write you solution here\n",
    "def make_move(board_name,player_num,coord):\n",
    "    if winner(board_name) == -1:\n",
    "        if board_name[coord[0]][coord[1]] != 0:\n",
    "            return False\n",
    "        else:\n",
    "            board_name[coord[0]][coord[1]] = player_num\n",
    "            return True\n",
    "    else:\n",
    "        return False"
   ]
  },
  {
   "cell_type": "code",
   "execution_count": 619,
   "metadata": {},
   "outputs": [
    {
     "data": {
      "text/plain": [
       "True"
      ]
     },
     "execution_count": 619,
     "metadata": {},
     "output_type": "execute_result"
    }
   ],
   "source": [
    "test = [[0,1,0],[0,0,0],[2,0,0]]\n",
    "make_move(test,1,(2,2))"
   ]
  },
  {
   "cell_type": "markdown",
   "metadata": {},
   "source": [
    "*Exercise 6:* Modify Exercise 3 to show column and row labels so that players can specify location using \"A2\" or \"C1\"."
   ]
  },
  {
   "cell_type": "code",
   "execution_count": 772,
   "metadata": {},
   "outputs": [
    {
     "name": "stdout",
     "output_type": "stream",
     "text": [
      "{0: 'A', 1: 'B', 2: 'C', 3: 'D', 4: 'E', 5: 'F', 6: 'G', 7: 'H', 8: 'I', 9: 'J', 10: 'K', 11: 'L', 12: 'M', 13: 'N', 14: 'O', 15: 'P', 16: 'Q', 17: 'R', 18: 'S', 19: 'T', 20: 'U', 21: 'V', 22: 'W', 23: 'X', 24: 'Y', 25: 'Z'}\n"
     ]
    }
   ],
   "source": [
    "import string\n",
    "uppercase = list(string.ascii_uppercase)\n",
    "uppercase_dict = dict()\n",
    "\n",
    "for x in range(26):\n",
    "    uppercase_dict[x]=uppercase[x]\n",
    "    \n",
    "print(uppercase_dict)"
   ]
  },
  {
   "cell_type": "code",
   "execution_count": 650,
   "metadata": {},
   "outputs": [
    {
     "data": {
      "text/plain": [
       "'C'"
      ]
     },
     "execution_count": 650,
     "metadata": {},
     "output_type": "execute_result"
    }
   ],
   "source": [
    "uppercase_dict[2]"
   ]
  },
  {
   "cell_type": "code",
   "execution_count": 832,
   "metadata": {},
   "outputs": [
    {
     "name": "stdout",
     "output_type": "stream",
     "text": [
      "     1   2   3  \n",
      "    ––– ––– –––\n",
      "A  | X | O |   | \n",
      "    ––– ––– –––\n",
      "B  | O | X |   | \n",
      "    ––– ––– –––\n",
      "C  | O | X | O | \n",
      "    ––– ––– –––\n"
     ]
    }
   ],
   "source": [
    "def view_board_coord(board_name):\n",
    "    board_size = len(board_name)\n",
    "    print(\" \",end=\"  \")\n",
    "    for x in range(len(board_name)):\n",
    "        print(f\"  {x+1} \",end=\"\")\n",
    "    print(\" \\n \",end=\"  \")\n",
    "    print(\" –––\"*(len(board_name[0]))) #line on top of board\n",
    "    for row_num in range(0,board_size): #separate into rows\n",
    "        print(f\"{uppercase_dict[row_num]}  |\",end=\"\") #right-most border line\n",
    "        \n",
    "        for entry in range(len(board_name[row_num])): #separate individual entries in the rows\n",
    "            #blank space\n",
    "            if board_name[row_num][entry] == 0:\n",
    "                print(\"   |\",end=\"\") #lines between entries\n",
    "            #player 1 or X\n",
    "            if board_name[row_num][entry] == 1:\n",
    "                print(\" X |\",end=\"\")\n",
    "            #player 2 or O\n",
    "            if board_name[row_num][entry] == 2:\n",
    "                print(\" O |\",end=\"\")\n",
    "        print(\" \\n \",end=\"  \")\n",
    "        print(\" –––\"*(len(board_name[0]))) #line under each row\n",
    "\n",
    "view_board_coord(no_winner)"
   ]
  },
  {
   "cell_type": "code",
   "execution_count": 834,
   "metadata": {},
   "outputs": [
    {
     "name": "stdout",
     "output_type": "stream",
     "text": [
      "     1   2   3   4   5   6   7   8   9   10  \n",
      "    ––– ––– ––– ––– ––– ––– ––– ––– ––– –––\n",
      "A  |   |   |   |   |   |   |   |   |   |   | \n",
      "    ––– ––– ––– ––– ––– ––– ––– ––– ––– –––\n",
      "B  |   |   |   |   |   |   |   |   |   |   | \n",
      "    ––– ––– ––– ––– ––– ––– ––– ––– ––– –––\n",
      "C  |   |   |   |   |   |   |   |   |   |   | \n",
      "    ––– ––– ––– ––– ––– ––– ––– ––– ––– –––\n",
      "D  |   |   |   |   |   |   |   |   |   |   | \n",
      "    ––– ––– ––– ––– ––– ––– ––– ––– ––– –––\n",
      "E  |   |   |   |   |   |   |   |   |   |   | \n",
      "    ––– ––– ––– ––– ––– ––– ––– ––– ––– –––\n",
      "F  |   |   |   |   |   |   |   |   |   |   | \n",
      "    ––– ––– ––– ––– ––– ––– ––– ––– ––– –––\n",
      "G  |   |   |   |   |   |   |   |   |   |   | \n",
      "    ––– ––– ––– ––– ––– ––– ––– ––– ––– –––\n",
      "H  |   |   |   |   |   |   |   |   |   |   | \n",
      "    ––– ––– ––– ––– ––– ––– ––– ––– ––– –––\n",
      "I  |   |   |   |   |   |   |   |   |   |   | \n",
      "    ––– ––– ––– ––– ––– ––– ––– ––– ––– –––\n",
      "J  |   |   |   |   |   |   |   |   |   |   | \n",
      "    ––– ––– ––– ––– ––– ––– ––– ––– ––– –––\n"
     ]
    }
   ],
   "source": [
    "view_board_coord(create_board_3(10))"
   ]
  },
  {
   "cell_type": "markdown",
   "metadata": {},
   "source": [
    "*Exercise 7:* Write a function that takes a board, player number, and location specified as in exercise 6 and then calls exercise 5 to correctly modify the board.  "
   ]
  },
  {
   "cell_type": "code",
   "execution_count": 1007,
   "metadata": {},
   "outputs": [],
   "source": [
    "def make_move_coord(board_name,player_num,coord):\n",
    "    if winner(board_name) == -1:\n",
    "        letter=(coord[0])\n",
    "        number=int(coord[1])-1\n",
    "        for key, val in uppercase_dict.items():\n",
    "            if uppercase_dict[key] == letter:\n",
    "                letter=key\n",
    "\n",
    "        if board_name[letter][number] != 0:\n",
    "            return False\n",
    "        else:\n",
    "            board_name[letter][number] = player_num\n",
    "            return True\n",
    "    else:\n",
    "        return False"
   ]
  },
  {
   "cell_type": "code",
   "execution_count": 1009,
   "metadata": {},
   "outputs": [
    {
     "data": {
      "text/plain": [
       "True"
      ]
     },
     "execution_count": 1009,
     "metadata": {},
     "output_type": "execute_result"
    }
   ],
   "source": [
    "test = [[0,1,0],\n",
    "        [0,0,0],\n",
    "        [2,0,0]]\n",
    "make_move_coord(test,2,\"A1\")"
   ]
  },
  {
   "cell_type": "code",
   "execution_count": 1011,
   "metadata": {},
   "outputs": [
    {
     "data": {
      "text/plain": [
       "False"
      ]
     },
     "execution_count": 1011,
     "metadata": {},
     "output_type": "execute_result"
    }
   ],
   "source": [
    "test = [[0,1,0],\n",
    "        [0,0,0],\n",
    "        [2,0,0]]\n",
    "make_move_coord(test,2,\"A2\")"
   ]
  },
  {
   "cell_type": "markdown",
   "metadata": {},
   "source": [
    "*Exercise 8:* Write a function is called with a board and player number, takes input from the player using python's `input`, and modifies the board using your function from exercise 7. Note that you should keep asking for input until you have gotten a valid input that results in a valid move."
   ]
  },
  {
   "cell_type": "code",
   "execution_count": 904,
   "metadata": {},
   "outputs": [],
   "source": [
    "def ask_move(board_name,player_num):\n",
    "    move_success = False\n",
    "    while move_success == False:\n",
    "        move_space=input(\"Enter the space you want to take: \")\n",
    "        move_success = make_move_coord(board_name,player_num,move_space)\n",
    "        if move_success == False:\n",
    "            print(\"Invalid move. Try again\\n\")"
   ]
  },
  {
   "cell_type": "code",
   "execution_count": 906,
   "metadata": {},
   "outputs": [
    {
     "name": "stdin",
     "output_type": "stream",
     "text": [
      "Enter the space you want to take:  A2\n"
     ]
    },
    {
     "name": "stdout",
     "output_type": "stream",
     "text": [
      "Invalid move. Try again\n",
      "\n"
     ]
    },
    {
     "name": "stdin",
     "output_type": "stream",
     "text": [
      "Enter the space you want to take:  C1\n"
     ]
    },
    {
     "name": "stdout",
     "output_type": "stream",
     "text": [
      "Invalid move. Try again\n",
      "\n"
     ]
    },
    {
     "name": "stdin",
     "output_type": "stream",
     "text": [
      "Enter the space you want to take:  B2\n"
     ]
    }
   ],
   "source": [
    "test = [[0,1,0],\n",
    "        [0,0,0],\n",
    "        [2,0,0]]\n",
    "ask_move(test,2)"
   ]
  },
  {
   "cell_type": "markdown",
   "metadata": {},
   "source": [
    "*Exercise 9:* Use all of the previous exercises to implement a full tic-tac-toe game, where an appropriate board is drawn, 2 players are repeatedly asked for a location coordinates of where they wish to place a mark, and the game status is checked until a player wins or a draw occurs."
   ]
  },
  {
   "cell_type": "code",
   "execution_count": 917,
   "metadata": {},
   "outputs": [],
   "source": [
    "def tic_tac_toe(size=3):\n",
    "    game_board=create_board_3(size) #make game board\n",
    "    view_board_coord(game_board) #show board\n",
    "    \n",
    "    current_player=1\n",
    "    win_status = winner(game_board)\n",
    "    while win_status == -1:\n",
    "        #player's move\n",
    "        print(f\"\\n{\"X\" if current_player == 1 else \"O\"}'s turn:\")\n",
    "        ask_move(game_board,current_player)\n",
    "        \n",
    "        win_status=winner(game_board) #check if won\n",
    "        view_board_coord(game_board)\n",
    "        #change player\n",
    "        current_player = 2 if current_player==1 else 1\n",
    "\n",
    "    #show winner\n",
    "    if win_status==0:\n",
    "        print(\"It's a draw!\")\n",
    "    elif win_status==1:\n",
    "        print(\"X wins!\")\n",
    "    elif win_status==2:\n",
    "        print(\"O wins!\")"
   ]
  },
  {
   "cell_type": "code",
   "execution_count": 919,
   "metadata": {},
   "outputs": [
    {
     "name": "stdout",
     "output_type": "stream",
     "text": [
      "     1   2   3  \n",
      "    ––– ––– –––\n",
      "A  |   |   |   | \n",
      "    ––– ––– –––\n",
      "B  |   |   |   | \n",
      "    ––– ––– –––\n",
      "C  |   |   |   | \n",
      "    ––– ––– –––\n",
      "\n",
      "X's turn:\n"
     ]
    },
    {
     "name": "stdin",
     "output_type": "stream",
     "text": [
      "Enter the space you want to take:  B2\n"
     ]
    },
    {
     "name": "stdout",
     "output_type": "stream",
     "text": [
      "     1   2   3  \n",
      "    ––– ––– –––\n",
      "A  |   |   |   | \n",
      "    ––– ––– –––\n",
      "B  |   | X |   | \n",
      "    ––– ––– –––\n",
      "C  |   |   |   | \n",
      "    ––– ––– –––\n",
      "\n",
      "O's turn:\n"
     ]
    },
    {
     "name": "stdin",
     "output_type": "stream",
     "text": [
      "Enter the space you want to take:  A1\n"
     ]
    },
    {
     "name": "stdout",
     "output_type": "stream",
     "text": [
      "     1   2   3  \n",
      "    ––– ––– –––\n",
      "A  | O |   |   | \n",
      "    ––– ––– –––\n",
      "B  |   | X |   | \n",
      "    ––– ––– –––\n",
      "C  |   |   |   | \n",
      "    ––– ––– –––\n",
      "\n",
      "X's turn:\n"
     ]
    },
    {
     "name": "stdin",
     "output_type": "stream",
     "text": [
      "Enter the space you want to take:  C1\n"
     ]
    },
    {
     "name": "stdout",
     "output_type": "stream",
     "text": [
      "     1   2   3  \n",
      "    ––– ––– –––\n",
      "A  | O |   |   | \n",
      "    ––– ––– –––\n",
      "B  |   | X |   | \n",
      "    ––– ––– –––\n",
      "C  | X |   |   | \n",
      "    ––– ––– –––\n",
      "\n",
      "O's turn:\n"
     ]
    },
    {
     "name": "stdin",
     "output_type": "stream",
     "text": [
      "Enter the space you want to take:  A3\n"
     ]
    },
    {
     "name": "stdout",
     "output_type": "stream",
     "text": [
      "     1   2   3  \n",
      "    ––– ––– –––\n",
      "A  | O |   | O | \n",
      "    ––– ––– –––\n",
      "B  |   | X |   | \n",
      "    ––– ––– –––\n",
      "C  | X |   |   | \n",
      "    ––– ––– –––\n",
      "\n",
      "X's turn:\n"
     ]
    },
    {
     "name": "stdin",
     "output_type": "stream",
     "text": [
      "Enter the space you want to take:  A2\n"
     ]
    },
    {
     "name": "stdout",
     "output_type": "stream",
     "text": [
      "     1   2   3  \n",
      "    ––– ––– –––\n",
      "A  | O | X | O | \n",
      "    ––– ––– –––\n",
      "B  |   | X |   | \n",
      "    ––– ––– –––\n",
      "C  | X |   |   | \n",
      "    ––– ––– –––\n",
      "\n",
      "O's turn:\n"
     ]
    },
    {
     "name": "stdin",
     "output_type": "stream",
     "text": [
      "Enter the space you want to take:  C3\n"
     ]
    },
    {
     "name": "stdout",
     "output_type": "stream",
     "text": [
      "     1   2   3  \n",
      "    ––– ––– –––\n",
      "A  | O | X | O | \n",
      "    ––– ––– –––\n",
      "B  |   | X |   | \n",
      "    ––– ––– –––\n",
      "C  | X |   | O | \n",
      "    ––– ––– –––\n",
      "\n",
      "X's turn:\n"
     ]
    },
    {
     "name": "stdin",
     "output_type": "stream",
     "text": [
      "Enter the space you want to take:  B3\n"
     ]
    },
    {
     "name": "stdout",
     "output_type": "stream",
     "text": [
      "     1   2   3  \n",
      "    ––– ––– –––\n",
      "A  | O | X | O | \n",
      "    ––– ––– –––\n",
      "B  |   | X | X | \n",
      "    ––– ––– –––\n",
      "C  | X |   | O | \n",
      "    ––– ––– –––\n",
      "\n",
      "O's turn:\n"
     ]
    },
    {
     "name": "stdin",
     "output_type": "stream",
     "text": [
      "Enter the space you want to take:  B1\n"
     ]
    },
    {
     "name": "stdout",
     "output_type": "stream",
     "text": [
      "     1   2   3  \n",
      "    ––– ––– –––\n",
      "A  | O | X | O | \n",
      "    ––– ––– –––\n",
      "B  | O | X | X | \n",
      "    ––– ––– –––\n",
      "C  | X |   | O | \n",
      "    ––– ––– –––\n",
      "\n",
      "X's turn:\n"
     ]
    },
    {
     "name": "stdin",
     "output_type": "stream",
     "text": [
      "Enter the space you want to take:  C2\n"
     ]
    },
    {
     "name": "stdout",
     "output_type": "stream",
     "text": [
      "     1   2   3  \n",
      "    ––– ––– –––\n",
      "A  | O | X | O | \n",
      "    ––– ––– –––\n",
      "B  | O | X | X | \n",
      "    ––– ––– –––\n",
      "C  | X | X | O | \n",
      "    ––– ––– –––\n",
      "X wins!\n"
     ]
    }
   ],
   "source": [
    "# Test your solution here\n",
    "tic_tac_toe()"
   ]
  },
  {
   "cell_type": "markdown",
   "metadata": {},
   "source": [
    "*Exercise 10:* Test that your game works for 5x5 Tic Tac Toe.  "
   ]
  },
  {
   "cell_type": "code",
   "execution_count": 1017,
   "metadata": {},
   "outputs": [
    {
     "name": "stdout",
     "output_type": "stream",
     "text": [
      "     1   2   3   4   5  \n",
      "    ––– ––– ––– ––– –––\n",
      "A  |   |   |   |   |   | \n",
      "    ––– ––– ––– ––– –––\n",
      "B  |   |   |   |   |   | \n",
      "    ––– ––– ––– ––– –––\n",
      "C  |   |   |   |   |   | \n",
      "    ––– ––– ––– ––– –––\n",
      "D  |   |   |   |   |   | \n",
      "    ––– ––– ––– ––– –––\n",
      "E  |   |   |   |   |   | \n",
      "    ––– ––– ––– ––– –––\n",
      "\n",
      "X's turn:\n"
     ]
    },
    {
     "name": "stdin",
     "output_type": "stream",
     "text": [
      "Enter the space you want to take:  C3\n"
     ]
    },
    {
     "name": "stdout",
     "output_type": "stream",
     "text": [
      "     1   2   3   4   5  \n",
      "    ––– ––– ––– ––– –––\n",
      "A  |   |   |   |   |   | \n",
      "    ––– ––– ––– ––– –––\n",
      "B  |   |   |   |   |   | \n",
      "    ––– ––– ––– ––– –––\n",
      "C  |   |   | X |   |   | \n",
      "    ––– ––– ––– ––– –––\n",
      "D  |   |   |   |   |   | \n",
      "    ––– ––– ––– ––– –––\n",
      "E  |   |   |   |   |   | \n",
      "    ––– ––– ––– ––– –––\n",
      "\n",
      "O's turn:\n"
     ]
    },
    {
     "name": "stdin",
     "output_type": "stream",
     "text": [
      "Enter the space you want to take:  C3\n"
     ]
    },
    {
     "name": "stdout",
     "output_type": "stream",
     "text": [
      "Invalid move. Try again\n",
      "\n"
     ]
    },
    {
     "name": "stdin",
     "output_type": "stream",
     "text": [
      "Enter the space you want to take:  C3\n"
     ]
    },
    {
     "name": "stdout",
     "output_type": "stream",
     "text": [
      "Invalid move. Try again\n",
      "\n"
     ]
    },
    {
     "name": "stdin",
     "output_type": "stream",
     "text": [
      "Enter the space you want to take:  C2\n"
     ]
    },
    {
     "name": "stdout",
     "output_type": "stream",
     "text": [
      "     1   2   3   4   5  \n",
      "    ––– ––– ––– ––– –––\n",
      "A  |   |   |   |   |   | \n",
      "    ––– ––– ––– ––– –––\n",
      "B  |   |   |   |   |   | \n",
      "    ––– ––– ––– ––– –––\n",
      "C  |   | O | X |   |   | \n",
      "    ––– ––– ––– ––– –––\n",
      "D  |   |   |   |   |   | \n",
      "    ––– ––– ––– ––– –––\n",
      "E  |   |   |   |   |   | \n",
      "    ––– ––– ––– ––– –––\n",
      "\n",
      "X's turn:\n"
     ]
    },
    {
     "name": "stdin",
     "output_type": "stream",
     "text": [
      "Enter the space you want to take:  C2\n"
     ]
    },
    {
     "name": "stdout",
     "output_type": "stream",
     "text": [
      "Invalid move. Try again\n",
      "\n"
     ]
    },
    {
     "name": "stdin",
     "output_type": "stream",
     "text": [
      "Enter the space you want to take:  C1\n"
     ]
    },
    {
     "name": "stdout",
     "output_type": "stream",
     "text": [
      "     1   2   3   4   5  \n",
      "    ––– ––– ––– ––– –––\n",
      "A  |   |   |   |   |   | \n",
      "    ––– ––– ––– ––– –––\n",
      "B  |   |   |   |   |   | \n",
      "    ––– ––– ––– ––– –––\n",
      "C  | X | O | X |   |   | \n",
      "    ––– ––– ––– ––– –––\n",
      "D  |   |   |   |   |   | \n",
      "    ––– ––– ––– ––– –––\n",
      "E  |   |   |   |   |   | \n",
      "    ––– ––– ––– ––– –––\n",
      "\n",
      "O's turn:\n"
     ]
    },
    {
     "name": "stdin",
     "output_type": "stream",
     "text": [
      "Enter the space you want to take:  B2\n"
     ]
    },
    {
     "name": "stdout",
     "output_type": "stream",
     "text": [
      "     1   2   3   4   5  \n",
      "    ––– ––– ––– ––– –––\n",
      "A  |   |   |   |   |   | \n",
      "    ––– ––– ––– ––– –––\n",
      "B  |   | O |   |   |   | \n",
      "    ––– ––– ––– ––– –––\n",
      "C  | X | O | X |   |   | \n",
      "    ––– ––– ––– ––– –––\n",
      "D  |   |   |   |   |   | \n",
      "    ––– ––– ––– ––– –––\n",
      "E  |   |   |   |   |   | \n",
      "    ––– ––– ––– ––– –––\n",
      "\n",
      "X's turn:\n"
     ]
    },
    {
     "name": "stdin",
     "output_type": "stream",
     "text": [
      "Enter the space you want to take:  D2\n"
     ]
    },
    {
     "name": "stdout",
     "output_type": "stream",
     "text": [
      "     1   2   3   4   5  \n",
      "    ––– ––– ––– ––– –––\n",
      "A  |   |   |   |   |   | \n",
      "    ––– ––– ––– ––– –––\n",
      "B  |   | O |   |   |   | \n",
      "    ––– ––– ––– ––– –––\n",
      "C  | X | O | X |   |   | \n",
      "    ––– ––– ––– ––– –––\n",
      "D  |   | X |   |   |   | \n",
      "    ––– ––– ––– ––– –––\n",
      "E  |   |   |   |   |   | \n",
      "    ––– ––– ––– ––– –––\n",
      "\n",
      "O's turn:\n"
     ]
    },
    {
     "name": "stdin",
     "output_type": "stream",
     "text": [
      "Enter the space you want to take:  E1\n"
     ]
    },
    {
     "name": "stdout",
     "output_type": "stream",
     "text": [
      "     1   2   3   4   5  \n",
      "    ––– ––– ––– ––– –––\n",
      "A  |   |   |   |   |   | \n",
      "    ––– ––– ––– ––– –––\n",
      "B  |   | O |   |   |   | \n",
      "    ––– ––– ––– ––– –––\n",
      "C  | X | O | X |   |   | \n",
      "    ––– ––– ––– ––– –––\n",
      "D  |   | X |   |   |   | \n",
      "    ––– ––– ––– ––– –––\n",
      "E  | O |   |   |   |   | \n",
      "    ––– ––– ––– ––– –––\n",
      "\n",
      "X's turn:\n"
     ]
    },
    {
     "name": "stdin",
     "output_type": "stream",
     "text": [
      "Enter the space you want to take:  B3\n"
     ]
    },
    {
     "name": "stdout",
     "output_type": "stream",
     "text": [
      "     1   2   3   4   5  \n",
      "    ––– ––– ––– ––– –––\n",
      "A  |   |   |   |   |   | \n",
      "    ––– ––– ––– ––– –––\n",
      "B  |   | O | X |   |   | \n",
      "    ––– ––– ––– ––– –––\n",
      "C  | X | O | X |   |   | \n",
      "    ––– ––– ––– ––– –––\n",
      "D  |   | X |   |   |   | \n",
      "    ––– ––– ––– ––– –––\n",
      "E  | O |   |   |   |   | \n",
      "    ––– ––– ––– ––– –––\n",
      "\n",
      "O's turn:\n"
     ]
    },
    {
     "name": "stdin",
     "output_type": "stream",
     "text": [
      "Enter the space you want to take:  E3\n"
     ]
    },
    {
     "name": "stdout",
     "output_type": "stream",
     "text": [
      "     1   2   3   4   5  \n",
      "    ––– ––– ––– ––– –––\n",
      "A  |   |   |   |   |   | \n",
      "    ––– ––– ––– ––– –––\n",
      "B  |   | O | X |   |   | \n",
      "    ––– ––– ––– ––– –––\n",
      "C  | X | O | X |   |   | \n",
      "    ––– ––– ––– ––– –––\n",
      "D  |   | X |   |   |   | \n",
      "    ––– ––– ––– ––– –––\n",
      "E  | O |   | O |   |   | \n",
      "    ––– ––– ––– ––– –––\n",
      "\n",
      "X's turn:\n"
     ]
    },
    {
     "name": "stdin",
     "output_type": "stream",
     "text": [
      "Enter the space you want to take:  C3\n"
     ]
    },
    {
     "name": "stdout",
     "output_type": "stream",
     "text": [
      "Invalid move. Try again\n",
      "\n"
     ]
    },
    {
     "name": "stdin",
     "output_type": "stream",
     "text": [
      "Enter the space you want to take:  C2\n"
     ]
    },
    {
     "name": "stdout",
     "output_type": "stream",
     "text": [
      "Invalid move. Try again\n",
      "\n"
     ]
    },
    {
     "name": "stdin",
     "output_type": "stream",
     "text": [
      "Enter the space you want to take:  D3\n"
     ]
    },
    {
     "name": "stdout",
     "output_type": "stream",
     "text": [
      "     1   2   3   4   5  \n",
      "    ––– ––– ––– ––– –––\n",
      "A  |   |   |   |   |   | \n",
      "    ––– ––– ––– ––– –––\n",
      "B  |   | O | X |   |   | \n",
      "    ––– ––– ––– ––– –––\n",
      "C  | X | O | X |   |   | \n",
      "    ––– ––– ––– ––– –––\n",
      "D  |   | X | X |   |   | \n",
      "    ––– ––– ––– ––– –––\n",
      "E  | O |   | O |   |   | \n",
      "    ––– ––– ––– ––– –––\n",
      "\n",
      "O's turn:\n"
     ]
    },
    {
     "name": "stdin",
     "output_type": "stream",
     "text": [
      "Enter the space you want to take:  E2\n"
     ]
    },
    {
     "name": "stdout",
     "output_type": "stream",
     "text": [
      "     1   2   3   4   5  \n",
      "    ––– ––– ––– ––– –––\n",
      "A  |   |   |   |   |   | \n",
      "    ––– ––– ––– ––– –––\n",
      "B  |   | O | X |   |   | \n",
      "    ––– ––– ––– ––– –––\n",
      "C  | X | O | X |   |   | \n",
      "    ––– ––– ––– ––– –––\n",
      "D  |   | X | X |   |   | \n",
      "    ––– ––– ––– ––– –––\n",
      "E  | O | O | O |   |   | \n",
      "    ––– ––– ––– ––– –––\n",
      "\n",
      "X's turn:\n"
     ]
    },
    {
     "name": "stdin",
     "output_type": "stream",
     "text": [
      "Enter the space you want to take:  E4\n"
     ]
    },
    {
     "name": "stdout",
     "output_type": "stream",
     "text": [
      "     1   2   3   4   5  \n",
      "    ––– ––– ––– ––– –––\n",
      "A  |   |   |   |   |   | \n",
      "    ––– ––– ––– ––– –––\n",
      "B  |   | O | X |   |   | \n",
      "    ––– ––– ––– ––– –––\n",
      "C  | X | O | X |   |   | \n",
      "    ––– ––– ––– ––– –––\n",
      "D  |   | X | X |   |   | \n",
      "    ––– ––– ––– ––– –––\n",
      "E  | O | O | O | X |   | \n",
      "    ––– ––– ––– ––– –––\n",
      "\n",
      "O's turn:\n"
     ]
    },
    {
     "name": "stdin",
     "output_type": "stream",
     "text": [
      "Enter the space you want to take:  D1\n"
     ]
    },
    {
     "name": "stdout",
     "output_type": "stream",
     "text": [
      "     1   2   3   4   5  \n",
      "    ––– ––– ––– ––– –––\n",
      "A  |   |   |   |   |   | \n",
      "    ––– ––– ––– ––– –––\n",
      "B  |   | O | X |   |   | \n",
      "    ––– ––– ––– ––– –––\n",
      "C  | X | O | X |   |   | \n",
      "    ––– ––– ––– ––– –––\n",
      "D  | O | X | X |   |   | \n",
      "    ––– ––– ––– ––– –––\n",
      "E  | O | O | O | X |   | \n",
      "    ––– ––– ––– ––– –––\n",
      "\n",
      "X's turn:\n"
     ]
    },
    {
     "name": "stdin",
     "output_type": "stream",
     "text": [
      "Enter the space you want to take:  C4\n"
     ]
    },
    {
     "name": "stdout",
     "output_type": "stream",
     "text": [
      "     1   2   3   4   5  \n",
      "    ––– ––– ––– ––– –––\n",
      "A  |   |   |   |   |   | \n",
      "    ––– ––– ––– ––– –––\n",
      "B  |   | O | X |   |   | \n",
      "    ––– ––– ––– ––– –––\n",
      "C  | X | O | X | X |   | \n",
      "    ––– ––– ––– ––– –––\n",
      "D  | O | X | X |   |   | \n",
      "    ––– ––– ––– ––– –––\n",
      "E  | O | O | O | X |   | \n",
      "    ––– ––– ––– ––– –––\n",
      "\n",
      "O's turn:\n"
     ]
    },
    {
     "name": "stdin",
     "output_type": "stream",
     "text": [
      "Enter the space you want to take:  E5\n"
     ]
    },
    {
     "name": "stdout",
     "output_type": "stream",
     "text": [
      "     1   2   3   4   5  \n",
      "    ––– ––– ––– ––– –––\n",
      "A  |   |   |   |   |   | \n",
      "    ––– ––– ––– ––– –––\n",
      "B  |   | O | X |   |   | \n",
      "    ––– ––– ––– ––– –––\n",
      "C  | X | O | X | X |   | \n",
      "    ––– ––– ––– ––– –––\n",
      "D  | O | X | X |   |   | \n",
      "    ––– ––– ––– ––– –––\n",
      "E  | O | O | O | X | O | \n",
      "    ––– ––– ––– ––– –––\n",
      "\n",
      "X's turn:\n"
     ]
    },
    {
     "name": "stdin",
     "output_type": "stream",
     "text": [
      "Enter the space you want to take:  A1\n"
     ]
    },
    {
     "name": "stdout",
     "output_type": "stream",
     "text": [
      "     1   2   3   4   5  \n",
      "    ––– ––– ––– ––– –––\n",
      "A  | X |   |   |   |   | \n",
      "    ––– ––– ––– ––– –––\n",
      "B  |   | O | X |   |   | \n",
      "    ––– ––– ––– ––– –––\n",
      "C  | X | O | X | X |   | \n",
      "    ––– ––– ––– ––– –––\n",
      "D  | O | X | X |   |   | \n",
      "    ––– ––– ––– ––– –––\n",
      "E  | O | O | O | X | O | \n",
      "    ––– ––– ––– ––– –––\n",
      "\n",
      "O's turn:\n"
     ]
    },
    {
     "name": "stdin",
     "output_type": "stream",
     "text": [
      "Enter the space you want to take:  B1\n"
     ]
    },
    {
     "name": "stdout",
     "output_type": "stream",
     "text": [
      "     1   2   3   4   5  \n",
      "    ––– ––– ––– ––– –––\n",
      "A  | X |   |   |   |   | \n",
      "    ––– ––– ––– ––– –––\n",
      "B  | O | O | X |   |   | \n",
      "    ––– ––– ––– ––– –––\n",
      "C  | X | O | X | X |   | \n",
      "    ––– ––– ––– ––– –––\n",
      "D  | O | X | X |   |   | \n",
      "    ––– ––– ––– ––– –––\n",
      "E  | O | O | O | X | O | \n",
      "    ––– ––– ––– ––– –––\n",
      "\n",
      "X's turn:\n"
     ]
    },
    {
     "name": "stdin",
     "output_type": "stream",
     "text": [
      "Enter the space you want to take:  A4\n"
     ]
    },
    {
     "name": "stdout",
     "output_type": "stream",
     "text": [
      "     1   2   3   4   5  \n",
      "    ––– ––– ––– ––– –––\n",
      "A  | X |   |   | X |   | \n",
      "    ––– ––– ––– ––– –––\n",
      "B  | O | O | X |   |   | \n",
      "    ––– ––– ––– ––– –––\n",
      "C  | X | O | X | X |   | \n",
      "    ––– ––– ––– ––– –––\n",
      "D  | O | X | X |   |   | \n",
      "    ––– ––– ––– ––– –––\n",
      "E  | O | O | O | X | O | \n",
      "    ––– ––– ––– ––– –––\n",
      "\n",
      "O's turn:\n"
     ]
    },
    {
     "name": "stdin",
     "output_type": "stream",
     "text": [
      "Enter the space you want to take:  B4\n"
     ]
    },
    {
     "name": "stdout",
     "output_type": "stream",
     "text": [
      "     1   2   3   4   5  \n",
      "    ––– ––– ––– ––– –––\n",
      "A  | X |   |   | X |   | \n",
      "    ––– ––– ––– ––– –––\n",
      "B  | O | O | X | O |   | \n",
      "    ––– ––– ––– ––– –––\n",
      "C  | X | O | X | X |   | \n",
      "    ––– ––– ––– ––– –––\n",
      "D  | O | X | X |   |   | \n",
      "    ––– ––– ––– ––– –––\n",
      "E  | O | O | O | X | O | \n",
      "    ––– ––– ––– ––– –––\n",
      "\n",
      "X's turn:\n"
     ]
    },
    {
     "name": "stdin",
     "output_type": "stream",
     "text": [
      "Enter the space you want to take:  A5\n"
     ]
    },
    {
     "name": "stdout",
     "output_type": "stream",
     "text": [
      "     1   2   3   4   5  \n",
      "    ––– ––– ––– ––– –––\n",
      "A  | X |   |   | X | X | \n",
      "    ––– ––– ––– ––– –––\n",
      "B  | O | O | X | O |   | \n",
      "    ––– ––– ––– ––– –––\n",
      "C  | X | O | X | X |   | \n",
      "    ––– ––– ––– ––– –––\n",
      "D  | O | X | X |   |   | \n",
      "    ––– ––– ––– ––– –––\n",
      "E  | O | O | O | X | O | \n",
      "    ––– ––– ––– ––– –––\n",
      "\n",
      "O's turn:\n"
     ]
    },
    {
     "name": "stdin",
     "output_type": "stream",
     "text": [
      "Enter the space you want to take:  A3\n"
     ]
    },
    {
     "name": "stdout",
     "output_type": "stream",
     "text": [
      "     1   2   3   4   5  \n",
      "    ––– ––– ––– ––– –––\n",
      "A  | X |   | O | X | X | \n",
      "    ––– ––– ––– ––– –––\n",
      "B  | O | O | X | O |   | \n",
      "    ––– ––– ––– ––– –––\n",
      "C  | X | O | X | X |   | \n",
      "    ––– ––– ––– ––– –––\n",
      "D  | O | X | X |   |   | \n",
      "    ––– ––– ––– ––– –––\n",
      "E  | O | O | O | X | O | \n",
      "    ––– ––– ––– ––– –––\n",
      "\n",
      "X's turn:\n"
     ]
    },
    {
     "name": "stdin",
     "output_type": "stream",
     "text": [
      "Enter the space you want to take:  A2\n"
     ]
    },
    {
     "name": "stdout",
     "output_type": "stream",
     "text": [
      "     1   2   3   4   5  \n",
      "    ––– ––– ––– ––– –––\n",
      "A  | X | X | O | X | X | \n",
      "    ––– ––– ––– ––– –––\n",
      "B  | O | O | X | O |   | \n",
      "    ––– ––– ––– ––– –––\n",
      "C  | X | O | X | X |   | \n",
      "    ––– ––– ––– ––– –––\n",
      "D  | O | X | X |   |   | \n",
      "    ––– ––– ––– ––– –––\n",
      "E  | O | O | O | X | O | \n",
      "    ––– ––– ––– ––– –––\n",
      "\n",
      "O's turn:\n"
     ]
    },
    {
     "name": "stdin",
     "output_type": "stream",
     "text": [
      "Enter the space you want to take:  B5\n"
     ]
    },
    {
     "name": "stdout",
     "output_type": "stream",
     "text": [
      "     1   2   3   4   5  \n",
      "    ––– ––– ––– ––– –––\n",
      "A  | X | X | O | X | X | \n",
      "    ––– ––– ––– ––– –––\n",
      "B  | O | O | X | O | O | \n",
      "    ––– ––– ––– ––– –––\n",
      "C  | X | O | X | X |   | \n",
      "    ––– ––– ––– ––– –––\n",
      "D  | O | X | X |   |   | \n",
      "    ––– ––– ––– ––– –––\n",
      "E  | O | O | O | X | O | \n",
      "    ––– ––– ––– ––– –––\n",
      "\n",
      "X's turn:\n"
     ]
    },
    {
     "name": "stdin",
     "output_type": "stream",
     "text": [
      "Enter the space you want to take:  C5\n"
     ]
    },
    {
     "name": "stdout",
     "output_type": "stream",
     "text": [
      "     1   2   3   4   5  \n",
      "    ––– ––– ––– ––– –––\n",
      "A  | X | X | O | X | X | \n",
      "    ––– ––– ––– ––– –––\n",
      "B  | O | O | X | O | O | \n",
      "    ––– ––– ––– ––– –––\n",
      "C  | X | O | X | X | X | \n",
      "    ––– ––– ––– ––– –––\n",
      "D  | O | X | X |   |   | \n",
      "    ––– ––– ––– ––– –––\n",
      "E  | O | O | O | X | O | \n",
      "    ––– ––– ––– ––– –––\n",
      "\n",
      "O's turn:\n"
     ]
    },
    {
     "name": "stdin",
     "output_type": "stream",
     "text": [
      "Enter the space you want to take:  D4\n"
     ]
    },
    {
     "name": "stdout",
     "output_type": "stream",
     "text": [
      "     1   2   3   4   5  \n",
      "    ––– ––– ––– ––– –––\n",
      "A  | X | X | O | X | X | \n",
      "    ––– ––– ––– ––– –––\n",
      "B  | O | O | X | O | O | \n",
      "    ––– ––– ––– ––– –––\n",
      "C  | X | O | X | X | X | \n",
      "    ––– ––– ––– ––– –––\n",
      "D  | O | X | X | O |   | \n",
      "    ––– ––– ––– ––– –––\n",
      "E  | O | O | O | X | O | \n",
      "    ––– ––– ––– ––– –––\n",
      "\n",
      "X's turn:\n"
     ]
    },
    {
     "name": "stdin",
     "output_type": "stream",
     "text": [
      "Enter the space you want to take:  D5\n"
     ]
    },
    {
     "name": "stdout",
     "output_type": "stream",
     "text": [
      "     1   2   3   4   5  \n",
      "    ––– ––– ––– ––– –––\n",
      "A  | X | X | O | X | X | \n",
      "    ––– ––– ––– ––– –––\n",
      "B  | O | O | X | O | O | \n",
      "    ––– ––– ––– ––– –––\n",
      "C  | X | O | X | X | X | \n",
      "    ––– ––– ––– ––– –––\n",
      "D  | O | X | X | O | X | \n",
      "    ––– ––– ––– ––– –––\n",
      "E  | O | O | O | X | O | \n",
      "    ––– ––– ––– ––– –––\n",
      "It's a draw!\n"
     ]
    }
   ],
   "source": [
    "tic_tac_toe(5)"
   ]
  },
  {
   "cell_type": "code",
   "execution_count": 1020,
   "metadata": {},
   "outputs": [
    {
     "name": "stdout",
     "output_type": "stream",
     "text": [
      "     1   2   3   4   5  \n",
      "    ––– ––– ––– ––– –––\n",
      "A  |   |   |   |   |   | \n",
      "    ––– ––– ––– ––– –––\n",
      "B  |   |   |   |   |   | \n",
      "    ––– ––– ––– ––– –––\n",
      "C  |   |   |   |   |   | \n",
      "    ––– ––– ––– ––– –––\n",
      "D  |   |   |   |   |   | \n",
      "    ––– ––– ––– ––– –––\n",
      "E  |   |   |   |   |   | \n",
      "    ––– ––– ––– ––– –––\n",
      "\n",
      "X's turn:\n"
     ]
    },
    {
     "name": "stdin",
     "output_type": "stream",
     "text": [
      "Enter the space you want to take:  A1\n"
     ]
    },
    {
     "name": "stdout",
     "output_type": "stream",
     "text": [
      "     1   2   3   4   5  \n",
      "    ––– ––– ––– ––– –––\n",
      "A  | X |   |   |   |   | \n",
      "    ––– ––– ––– ––– –––\n",
      "B  |   |   |   |   |   | \n",
      "    ––– ––– ––– ––– –––\n",
      "C  |   |   |   |   |   | \n",
      "    ––– ––– ––– ––– –––\n",
      "D  |   |   |   |   |   | \n",
      "    ––– ––– ––– ––– –––\n",
      "E  |   |   |   |   |   | \n",
      "    ––– ––– ––– ––– –––\n",
      "\n",
      "O's turn:\n"
     ]
    },
    {
     "name": "stdin",
     "output_type": "stream",
     "text": [
      "Enter the space you want to take:  B1\n"
     ]
    },
    {
     "name": "stdout",
     "output_type": "stream",
     "text": [
      "     1   2   3   4   5  \n",
      "    ––– ––– ––– ––– –––\n",
      "A  | X |   |   |   |   | \n",
      "    ––– ––– ––– ––– –––\n",
      "B  | O |   |   |   |   | \n",
      "    ––– ––– ––– ––– –––\n",
      "C  |   |   |   |   |   | \n",
      "    ––– ––– ––– ––– –––\n",
      "D  |   |   |   |   |   | \n",
      "    ––– ––– ––– ––– –––\n",
      "E  |   |   |   |   |   | \n",
      "    ––– ––– ––– ––– –––\n",
      "\n",
      "X's turn:\n"
     ]
    },
    {
     "name": "stdin",
     "output_type": "stream",
     "text": [
      "Enter the space you want to take:  B2\n"
     ]
    },
    {
     "name": "stdout",
     "output_type": "stream",
     "text": [
      "     1   2   3   4   5  \n",
      "    ––– ––– ––– ––– –––\n",
      "A  | X |   |   |   |   | \n",
      "    ––– ––– ––– ––– –––\n",
      "B  | O | X |   |   |   | \n",
      "    ––– ––– ––– ––– –––\n",
      "C  |   |   |   |   |   | \n",
      "    ––– ––– ––– ––– –––\n",
      "D  |   |   |   |   |   | \n",
      "    ––– ––– ––– ––– –––\n",
      "E  |   |   |   |   |   | \n",
      "    ––– ––– ––– ––– –––\n",
      "\n",
      "O's turn:\n"
     ]
    },
    {
     "name": "stdin",
     "output_type": "stream",
     "text": [
      "Enter the space you want to take:  C2\n"
     ]
    },
    {
     "name": "stdout",
     "output_type": "stream",
     "text": [
      "     1   2   3   4   5  \n",
      "    ––– ––– ––– ––– –––\n",
      "A  | X |   |   |   |   | \n",
      "    ––– ––– ––– ––– –––\n",
      "B  | O | X |   |   |   | \n",
      "    ––– ––– ––– ––– –––\n",
      "C  |   | O |   |   |   | \n",
      "    ––– ––– ––– ––– –––\n",
      "D  |   |   |   |   |   | \n",
      "    ––– ––– ––– ––– –––\n",
      "E  |   |   |   |   |   | \n",
      "    ––– ––– ––– ––– –––\n",
      "\n",
      "X's turn:\n"
     ]
    },
    {
     "name": "stdin",
     "output_type": "stream",
     "text": [
      "Enter the space you want to take:  C3\n"
     ]
    },
    {
     "name": "stdout",
     "output_type": "stream",
     "text": [
      "     1   2   3   4   5  \n",
      "    ––– ––– ––– ––– –––\n",
      "A  | X |   |   |   |   | \n",
      "    ––– ––– ––– ––– –––\n",
      "B  | O | X |   |   |   | \n",
      "    ––– ––– ––– ––– –––\n",
      "C  |   | O | X |   |   | \n",
      "    ––– ––– ––– ––– –––\n",
      "D  |   |   |   |   |   | \n",
      "    ––– ––– ––– ––– –––\n",
      "E  |   |   |   |   |   | \n",
      "    ––– ––– ––– ––– –––\n",
      "\n",
      "O's turn:\n"
     ]
    },
    {
     "name": "stdin",
     "output_type": "stream",
     "text": [
      "Enter the space you want to take:  C1\n"
     ]
    },
    {
     "name": "stdout",
     "output_type": "stream",
     "text": [
      "     1   2   3   4   5  \n",
      "    ––– ––– ––– ––– –––\n",
      "A  | X |   |   |   |   | \n",
      "    ––– ––– ––– ––– –––\n",
      "B  | O | X |   |   |   | \n",
      "    ––– ––– ––– ––– –––\n",
      "C  | O | O | X |   |   | \n",
      "    ––– ––– ––– ––– –––\n",
      "D  |   |   |   |   |   | \n",
      "    ––– ––– ––– ––– –––\n",
      "E  |   |   |   |   |   | \n",
      "    ––– ––– ––– ––– –––\n",
      "\n",
      "X's turn:\n"
     ]
    },
    {
     "name": "stdin",
     "output_type": "stream",
     "text": [
      "Enter the space you want to take:  D4\n"
     ]
    },
    {
     "name": "stdout",
     "output_type": "stream",
     "text": [
      "     1   2   3   4   5  \n",
      "    ––– ––– ––– ––– –––\n",
      "A  | X |   |   |   |   | \n",
      "    ––– ––– ––– ––– –––\n",
      "B  | O | X |   |   |   | \n",
      "    ––– ––– ––– ––– –––\n",
      "C  | O | O | X |   |   | \n",
      "    ––– ––– ––– ––– –––\n",
      "D  |   |   |   | X |   | \n",
      "    ––– ––– ––– ––– –––\n",
      "E  |   |   |   |   |   | \n",
      "    ––– ––– ––– ––– –––\n",
      "\n",
      "O's turn:\n"
     ]
    },
    {
     "name": "stdin",
     "output_type": "stream",
     "text": [
      "Enter the space you want to take:  E4\n"
     ]
    },
    {
     "name": "stdout",
     "output_type": "stream",
     "text": [
      "     1   2   3   4   5  \n",
      "    ––– ––– ––– ––– –––\n",
      "A  | X |   |   |   |   | \n",
      "    ––– ––– ––– ––– –––\n",
      "B  | O | X |   |   |   | \n",
      "    ––– ––– ––– ––– –––\n",
      "C  | O | O | X |   |   | \n",
      "    ––– ––– ––– ––– –––\n",
      "D  |   |   |   | X |   | \n",
      "    ––– ––– ––– ––– –––\n",
      "E  |   |   |   | O |   | \n",
      "    ––– ––– ––– ––– –––\n",
      "\n",
      "X's turn:\n"
     ]
    },
    {
     "name": "stdin",
     "output_type": "stream",
     "text": [
      "Enter the space you want to take:  E5\n"
     ]
    },
    {
     "name": "stdout",
     "output_type": "stream",
     "text": [
      "     1   2   3   4   5  \n",
      "    ––– ––– ––– ––– –––\n",
      "A  | X |   |   |   |   | \n",
      "    ––– ––– ––– ––– –––\n",
      "B  | O | X |   |   |   | \n",
      "    ––– ––– ––– ––– –––\n",
      "C  | O | O | X |   |   | \n",
      "    ––– ––– ––– ––– –––\n",
      "D  |   |   |   | X |   | \n",
      "    ––– ––– ––– ––– –––\n",
      "E  |   |   |   | O | X | \n",
      "    ––– ––– ––– ––– –––\n",
      "X wins!\n"
     ]
    }
   ],
   "source": [
    "tic_tac_toe(5)"
   ]
  },
  {
   "cell_type": "markdown",
   "metadata": {},
   "source": [
    "*Exercise 11:* (Advanced / Challenge) Develop a version of the game where one player is the computer. Note that you don't need to do an extensive seach for the best move. You can have the computer simply protect against loosing and otherwise try to win with straight or diagonal patterns."
   ]
  },
  {
   "cell_type": "code",
   "execution_count": 997,
   "metadata": {},
   "outputs": [],
   "source": [
    "import random\n",
    "def tic_tac_toe_AI(size=3):\n",
    "    game_board=create_board_3(size) #make game board\n",
    "    view_board_coord(game_board) #show board\n",
    "    \n",
    "    current_player=1\n",
    "    win_status = winner(game_board)\n",
    "    while win_status == -1:\n",
    "        print(f\"\\n{\"X\" if current_player == 1 else \"O\"}'s turn:\")\n",
    "        \n",
    "        #player's turn\n",
    "        if current_player == 1: \n",
    "            ask_move(game_board,current_player)\n",
    "        #computer's turn\n",
    "        else: \n",
    "            #possible_win= winner(game_board)\n",
    "            comp_board=[row[:] for row in game_board] #board for computer to test moves\n",
    "            possible_moves = list()\n",
    "\n",
    "            for row_choice in range(len(game_board)):\n",
    "                for col_choice in range(len(game_board)):\n",
    "                    if comp_board[row_choice][col_choice] != 0:\n",
    "                        continue\n",
    "                    else:\n",
    "                        make_move(comp_board,2,(row_choice,col_choice)) #choose move\n",
    "                        possible_win = winner(comp_board) #test move\n",
    "                        #list of possible moves\n",
    "                        possible_moves.append([row_choice,col_choice,possible_win])\n",
    "                        comp_board=[row[:] for row in game_board] #reset test board\n",
    "\n",
    "            winning_moves=list()\n",
    "            for move in possible_moves: #test for winning moves\n",
    "                if move[2]==2:\n",
    "                    winning_moves.append(move)\n",
    "            \n",
    "            random.shuffle(possible_moves) #randomize list of moves\n",
    "            if len(winning_moves) == 0:\n",
    "                #no winning moves found\n",
    "                for move in possible_moves:\n",
    "                    if move[2]==-1:\n",
    "                        make_move(game_board,2,(move[0],move[1]))\n",
    "                        break\n",
    "                    elif move[2]==0:\n",
    "                        make_move(game_board,2,(move[0],move[1]))\n",
    "                        break\n",
    "                    elif move[2]==1:\n",
    "                        make_move(game_board,2,(move[0],move[1]))  \n",
    "                        break\n",
    "            else:\n",
    "                make_move(game_board,2,(winning_moves[0][0],winning_moves[0][1]))\n",
    "                \n",
    "        win_status=winner(game_board) #check if won\n",
    "        view_board_coord(game_board)\n",
    "        #change player\n",
    "        current_player = 2 if current_player==1 else 1\n",
    "\n",
    "    #show winner\n",
    "    if win_status==0:\n",
    "        print(\"It's a draw!\")\n",
    "    elif win_status==1:\n",
    "        print(\"X wins!\")\n",
    "    elif win_status==2:\n",
    "        print(\"O wins!\")"
   ]
  },
  {
   "cell_type": "code",
   "execution_count": 1014,
   "metadata": {},
   "outputs": [
    {
     "name": "stdout",
     "output_type": "stream",
     "text": [
      "     1   2   3  \n",
      "    ––– ––– –––\n",
      "A  |   |   |   | \n",
      "    ––– ––– –––\n",
      "B  |   |   |   | \n",
      "    ––– ––– –––\n",
      "C  |   |   |   | \n",
      "    ––– ––– –––\n",
      "\n",
      "X's turn:\n"
     ]
    },
    {
     "name": "stdin",
     "output_type": "stream",
     "text": [
      "Enter the space you want to take:  B2\n"
     ]
    },
    {
     "name": "stdout",
     "output_type": "stream",
     "text": [
      "     1   2   3  \n",
      "    ––– ––– –––\n",
      "A  |   |   |   | \n",
      "    ––– ––– –––\n",
      "B  |   | X |   | \n",
      "    ––– ––– –––\n",
      "C  |   |   |   | \n",
      "    ––– ––– –––\n",
      "\n",
      "O's turn:\n",
      "     1   2   3  \n",
      "    ––– ––– –––\n",
      "A  |   |   |   | \n",
      "    ––– ––– –––\n",
      "B  |   | X | O | \n",
      "    ––– ––– –––\n",
      "C  |   |   |   | \n",
      "    ––– ––– –––\n",
      "\n",
      "X's turn:\n"
     ]
    },
    {
     "name": "stdin",
     "output_type": "stream",
     "text": [
      "Enter the space you want to take:  B2\n"
     ]
    },
    {
     "name": "stdout",
     "output_type": "stream",
     "text": [
      "Invalid move. Try again\n",
      "\n"
     ]
    },
    {
     "name": "stdin",
     "output_type": "stream",
     "text": [
      "Enter the space you want to take:  B2\n"
     ]
    },
    {
     "name": "stdout",
     "output_type": "stream",
     "text": [
      "Invalid move. Try again\n",
      "\n"
     ]
    },
    {
     "name": "stdin",
     "output_type": "stream",
     "text": [
      "Enter the space you want to take:  B1\n"
     ]
    },
    {
     "name": "stdout",
     "output_type": "stream",
     "text": [
      "     1   2   3  \n",
      "    ––– ––– –––\n",
      "A  |   |   |   | \n",
      "    ––– ––– –––\n",
      "B  | X | X | O | \n",
      "    ––– ––– –––\n",
      "C  |   |   |   | \n",
      "    ––– ––– –––\n",
      "\n",
      "O's turn:\n",
      "     1   2   3  \n",
      "    ––– ––– –––\n",
      "A  |   |   |   | \n",
      "    ––– ––– –––\n",
      "B  | X | X | O | \n",
      "    ––– ––– –––\n",
      "C  |   |   | O | \n",
      "    ––– ––– –––\n",
      "\n",
      "X's turn:\n"
     ]
    },
    {
     "name": "stdin",
     "output_type": "stream",
     "text": [
      "Enter the space you want to take:  A3\n"
     ]
    },
    {
     "name": "stdout",
     "output_type": "stream",
     "text": [
      "     1   2   3  \n",
      "    ––– ––– –––\n",
      "A  |   |   | X | \n",
      "    ––– ––– –––\n",
      "B  | X | X | O | \n",
      "    ––– ––– –––\n",
      "C  |   |   | O | \n",
      "    ––– ––– –––\n",
      "\n",
      "O's turn:\n",
      "     1   2   3  \n",
      "    ––– ––– –––\n",
      "A  | O |   | X | \n",
      "    ––– ––– –––\n",
      "B  | X | X | O | \n",
      "    ––– ––– –––\n",
      "C  |   |   | O | \n",
      "    ––– ––– –––\n",
      "\n",
      "X's turn:\n"
     ]
    },
    {
     "name": "stdin",
     "output_type": "stream",
     "text": [
      "Enter the space you want to take:  C1\n"
     ]
    },
    {
     "name": "stdout",
     "output_type": "stream",
     "text": [
      "     1   2   3  \n",
      "    ––– ––– –––\n",
      "A  | O |   | X | \n",
      "    ––– ––– –––\n",
      "B  | X | X | O | \n",
      "    ––– ––– –––\n",
      "C  | X |   | O | \n",
      "    ––– ––– –––\n",
      "X wins!\n"
     ]
    }
   ],
   "source": [
    "tic_tac_toe_AI()"
   ]
  },
  {
   "cell_type": "code",
   "execution_count": 1001,
   "metadata": {},
   "outputs": [
    {
     "name": "stdout",
     "output_type": "stream",
     "text": [
      "     1   2   3  \n",
      "    ––– ––– –––\n",
      "A  |   |   |   | \n",
      "    ––– ––– –––\n",
      "B  |   |   |   | \n",
      "    ––– ––– –––\n",
      "C  |   |   |   | \n",
      "    ––– ––– –––\n",
      "\n",
      "X's turn:\n"
     ]
    },
    {
     "name": "stdin",
     "output_type": "stream",
     "text": [
      "Enter the space you want to take:  C1\n"
     ]
    },
    {
     "name": "stdout",
     "output_type": "stream",
     "text": [
      "     1   2   3  \n",
      "    ––– ––– –––\n",
      "A  |   |   |   | \n",
      "    ––– ––– –––\n",
      "B  |   |   |   | \n",
      "    ––– ––– –––\n",
      "C  | X |   |   | \n",
      "    ––– ––– –––\n",
      "\n",
      "O's turn:\n",
      "     1   2   3  \n",
      "    ––– ––– –––\n",
      "A  |   |   |   | \n",
      "    ––– ––– –––\n",
      "B  | O |   |   | \n",
      "    ––– ––– –––\n",
      "C  | X |   |   | \n",
      "    ––– ––– –––\n",
      "\n",
      "X's turn:\n"
     ]
    },
    {
     "name": "stdin",
     "output_type": "stream",
     "text": [
      "Enter the space you want to take:  A1\n"
     ]
    },
    {
     "name": "stdout",
     "output_type": "stream",
     "text": [
      "     1   2   3  \n",
      "    ––– ––– –––\n",
      "A  | X |   |   | \n",
      "    ––– ––– –––\n",
      "B  | O |   |   | \n",
      "    ––– ––– –––\n",
      "C  | X |   |   | \n",
      "    ––– ––– –––\n",
      "\n",
      "O's turn:\n",
      "     1   2   3  \n",
      "    ––– ––– –––\n",
      "A  | X |   |   | \n",
      "    ––– ––– –––\n",
      "B  | O |   | O | \n",
      "    ––– ––– –––\n",
      "C  | X |   |   | \n",
      "    ––– ––– –––\n",
      "\n",
      "X's turn:\n"
     ]
    },
    {
     "name": "stdin",
     "output_type": "stream",
     "text": [
      "Enter the space you want to take:  C2\n"
     ]
    },
    {
     "name": "stdout",
     "output_type": "stream",
     "text": [
      "     1   2   3  \n",
      "    ––– ––– –––\n",
      "A  | X |   |   | \n",
      "    ––– ––– –––\n",
      "B  | O |   | O | \n",
      "    ––– ––– –––\n",
      "C  | X | X |   | \n",
      "    ––– ––– –––\n",
      "\n",
      "O's turn:\n",
      "     1   2   3  \n",
      "    ––– ––– –––\n",
      "A  | X |   |   | \n",
      "    ––– ––– –––\n",
      "B  | O | O | O | \n",
      "    ––– ––– –––\n",
      "C  | X | X |   | \n",
      "    ––– ––– –––\n",
      "O wins!\n"
     ]
    }
   ],
   "source": [
    "tic_tac_toe_AI()"
   ]
  },
  {
   "cell_type": "code",
   "execution_count": null,
   "metadata": {},
   "outputs": [],
   "source": []
  }
 ],
 "metadata": {
  "kernelspec": {
   "display_name": "Python 3 (ipykernel)",
   "language": "python",
   "name": "python3"
  },
  "language_info": {
   "codemirror_mode": {
    "name": "ipython",
    "version": 3
   },
   "file_extension": ".py",
   "mimetype": "text/x-python",
   "name": "python",
   "nbconvert_exporter": "python",
   "pygments_lexer": "ipython3",
   "version": "3.12.4"
  }
 },
 "nbformat": 4,
 "nbformat_minor": 4
}
