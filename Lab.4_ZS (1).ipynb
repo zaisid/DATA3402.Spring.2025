{
 "cells": [
  {
   "cell_type": "markdown",
   "metadata": {},
   "source": [
    "# Lab 4- Object Oriented Programming\n",
    "\n",
    "For all of the exercises below, make sure you provide tests of your solutions.\n"
   ]
  },
  {
   "cell_type": "markdown",
   "metadata": {},
   "source": [
    "1. Write a \"counter\" class that can be incremented up to a specified maximum value, will print an error if an attempt is made to increment beyond that value, and allows reseting the counter. "
   ]
  },
  {
   "cell_type": "code",
   "execution_count": 504,
   "metadata": {},
   "outputs": [],
   "source": [
    "class counter:\n",
    "    def __init__(self,max_val):\n",
    "        self.max_val=max_val\n",
    "        self.current_num=0\n",
    "\n",
    "    def counting(self,vals=1):\n",
    "        for times in range(vals):\n",
    "            if self.current_num <= self.max_val:\n",
    "                print(self.current_num)\n",
    "                self.current_num+=1\n",
    "            else:\n",
    "                print(\"Error: maximum value reached\")\n",
    "                self.current_num = self.max_val\n",
    "                return\n",
    "\n",
    "    def countdown(self):\n",
    "        while self.current_num <= self.max_val:\n",
    "            print(self.current_num)\n",
    "            self.current_num+=1\n",
    "        self.current_num = self.max_val\n",
    "\n",
    "    def reset_count(self):\n",
    "        self.current_num = 0\n",
    "        print(\"Counter reset\")"
   ]
  },
  {
   "cell_type": "code",
   "execution_count": 505,
   "metadata": {},
   "outputs": [
    {
     "name": "stdout",
     "output_type": "stream",
     "text": [
      "0\n"
     ]
    }
   ],
   "source": [
    "count_5 = counter(5)\n",
    "count_5.counting()"
   ]
  },
  {
   "cell_type": "code",
   "execution_count": 506,
   "metadata": {},
   "outputs": [
    {
     "name": "stdout",
     "output_type": "stream",
     "text": [
      "1\n"
     ]
    }
   ],
   "source": [
    "count_5.counting()"
   ]
  },
  {
   "cell_type": "code",
   "execution_count": 507,
   "metadata": {},
   "outputs": [
    {
     "name": "stdout",
     "output_type": "stream",
     "text": [
      "2\n",
      "3\n",
      "4\n"
     ]
    }
   ],
   "source": [
    "count_5.counting(3)"
   ]
  },
  {
   "cell_type": "code",
   "execution_count": 508,
   "metadata": {},
   "outputs": [
    {
     "name": "stdout",
     "output_type": "stream",
     "text": [
      "5\n",
      "Error: maximum value reached\n"
     ]
    }
   ],
   "source": [
    "count_5.counting(3)"
   ]
  },
  {
   "cell_type": "code",
   "execution_count": 509,
   "metadata": {},
   "outputs": [
    {
     "name": "stdout",
     "output_type": "stream",
     "text": [
      "0\n",
      "1\n",
      "2\n",
      "3\n",
      "4\n",
      "5\n",
      "6\n"
     ]
    }
   ],
   "source": [
    "count_6=counter(6)\n",
    "count_6.countdown()"
   ]
  },
  {
   "cell_type": "code",
   "execution_count": 510,
   "metadata": {},
   "outputs": [
    {
     "name": "stdout",
     "output_type": "stream",
     "text": [
      "Counter reset\n"
     ]
    }
   ],
   "source": [
    "count_6.reset_count()"
   ]
  },
  {
   "cell_type": "code",
   "execution_count": 511,
   "metadata": {},
   "outputs": [
    {
     "data": {
      "text/plain": [
       "0"
      ]
     },
     "execution_count": 511,
     "metadata": {},
     "output_type": "execute_result"
    }
   ],
   "source": [
    "count_6.current_num"
   ]
  },
  {
   "cell_type": "markdown",
   "metadata": {},
   "source": [
    "2. Copy and paste your solution to question 1 and modify it so that all the data held by the counter is private. Implement functions to check the value of the counter, check the maximum value, and check if the counter is at the maximum."
   ]
  },
  {
   "cell_type": "code",
   "execution_count": 513,
   "metadata": {},
   "outputs": [],
   "source": [
    "class counter_2:\n",
    "    def __init__(self,max_val):\n",
    "        self.__max_val=max_val\n",
    "        self.__current_num=0\n",
    "\n",
    "    def counting(self,vals=1):\n",
    "        for times in range(vals):\n",
    "            if self.__current_num <= self.__max_val:\n",
    "                print(self.__current_num)\n",
    "                self.__current_num+=1\n",
    "            else:\n",
    "                print(\"Error: maximum value reached\")\n",
    "                self.__current_num = self.__max_val\n",
    "                return\n",
    "\n",
    "    def countdown(self):\n",
    "        while self.__current_num <= self.__max_val:\n",
    "            print(self.__current_num)\n",
    "            self.__current_num+=1\n",
    "        self.__current_num = self.__max_val\n",
    "\n",
    "    def reset_count(self):\n",
    "        self.__current_num = 0\n",
    "        print(\"Counter reset\")\n",
    "\n",
    "\n",
    "    def check_val(self):\n",
    "        print(f\"Current count: {self.__current_num}\")\n",
    "\n",
    "    def check_max(self):\n",
    "        print(f\"Maximum count: {self.__max_val}\")\n",
    "\n",
    "    def check_count(self):\n",
    "        self.check_val()\n",
    "        self.check_max()\n",
    "        if self.__current_num >= self.__max_val:\n",
    "            print(\"Count reached\")\n",
    "        else:\n",
    "            print(\"Count has not been reached\")"
   ]
  },
  {
   "cell_type": "code",
   "execution_count": 514,
   "metadata": {},
   "outputs": [],
   "source": [
    "count_10=counter_2(10)"
   ]
  },
  {
   "cell_type": "code",
   "execution_count": 515,
   "metadata": {},
   "outputs": [
    {
     "name": "stdout",
     "output_type": "stream",
     "text": [
      "0\n",
      "1\n"
     ]
    }
   ],
   "source": [
    "count_10.counting(2)"
   ]
  },
  {
   "cell_type": "code",
   "execution_count": 516,
   "metadata": {},
   "outputs": [
    {
     "ename": "AttributeError",
     "evalue": "'counter_2' object has no attribute '__current_num'",
     "output_type": "error",
     "traceback": [
      "\u001b[0;31m---------------------------------------------------------------------------\u001b[0m",
      "\u001b[0;31mAttributeError\u001b[0m                            Traceback (most recent call last)",
      "Cell \u001b[0;32mIn[516], line 1\u001b[0m\n\u001b[0;32m----> 1\u001b[0m count_10\u001b[38;5;241m.\u001b[39m__current_num\n",
      "\u001b[0;31mAttributeError\u001b[0m: 'counter_2' object has no attribute '__current_num'"
     ]
    }
   ],
   "source": [
    "count_10.__current_num"
   ]
  },
  {
   "cell_type": "code",
   "execution_count": 526,
   "metadata": {},
   "outputs": [
    {
     "name": "stdout",
     "output_type": "stream",
     "text": [
      "2\n",
      "3\n",
      "4\n",
      "5\n",
      "6\n",
      "7\n",
      "8\n",
      "9\n",
      "10\n"
     ]
    }
   ],
   "source": [
    "count_10.countdown()"
   ]
  },
  {
   "cell_type": "code",
   "execution_count": 528,
   "metadata": {},
   "outputs": [
    {
     "name": "stdout",
     "output_type": "stream",
     "text": [
      "Current count: 10\n",
      "Maximum count: 10\n",
      "Count reached\n"
     ]
    }
   ],
   "source": [
    "count_10.check_count()"
   ]
  },
  {
   "cell_type": "code",
   "execution_count": 530,
   "metadata": {},
   "outputs": [
    {
     "name": "stdout",
     "output_type": "stream",
     "text": [
      "Counter reset\n"
     ]
    }
   ],
   "source": [
    "count_10.reset_count()"
   ]
  },
  {
   "cell_type": "code",
   "execution_count": 532,
   "metadata": {},
   "outputs": [
    {
     "name": "stdout",
     "output_type": "stream",
     "text": [
      "0\n",
      "1\n",
      "2\n",
      "3\n",
      "4\n",
      "5\n"
     ]
    }
   ],
   "source": [
    "count_10.counting(6)"
   ]
  },
  {
   "cell_type": "code",
   "execution_count": 534,
   "metadata": {},
   "outputs": [
    {
     "name": "stdout",
     "output_type": "stream",
     "text": [
      "Current count: 6\n",
      "Maximum count: 10\n",
      "Count has not been reached\n"
     ]
    }
   ],
   "source": [
    "count_10.check_count()"
   ]
  },
  {
   "cell_type": "markdown",
   "metadata": {},
   "source": [
    "3. Implement a class to represent a rectangle, holding the length, width, and $x$ and $y$ coordinates of a corner of the object. Implement functions that compute the area and perimeter of the rectangle. Make all data members private and privide accessors to retrieve values of data members. "
   ]
  },
  {
   "cell_type": "code",
   "execution_count": 537,
   "metadata": {},
   "outputs": [],
   "source": [
    "class rectangle:\n",
    "    def __init__(self,length,width,corner=(0,0)):\n",
    "        self.__length=abs(float(length))\n",
    "        self.__width=abs(float(width))\n",
    "        self.__corner=(0,0)\n",
    "\n",
    "    def info(self):\n",
    "        print(f\"\"\"Length: {self.__length}\\\n",
    "        Width: {self.__width}\\\n",
    "        Corner: {self.__corner}\"\"\")\n",
    "\n",
    "    def area(self):\n",
    "        return self.__width*self.__length\n",
    "\n",
    "    def perimeter(self):\n",
    "        return 2*(self.__width+self.__length)"
   ]
  },
  {
   "cell_type": "code",
   "execution_count": 539,
   "metadata": {},
   "outputs": [
    {
     "name": "stdout",
     "output_type": "stream",
     "text": [
      "Length: 2.0        Width: 2.0        Corner: (0, 0)\n"
     ]
    }
   ],
   "source": [
    "square = rectangle(2,2,(0,3))\n",
    "\n",
    "square.info()"
   ]
  },
  {
   "cell_type": "code",
   "execution_count": 541,
   "metadata": {},
   "outputs": [
    {
     "ename": "AttributeError",
     "evalue": "'rectangle' object has no attribute 'length'",
     "output_type": "error",
     "traceback": [
      "\u001b[0;31m---------------------------------------------------------------------------\u001b[0m",
      "\u001b[0;31mAttributeError\u001b[0m                            Traceback (most recent call last)",
      "Cell \u001b[0;32mIn[541], line 1\u001b[0m\n\u001b[0;32m----> 1\u001b[0m square\u001b[38;5;241m.\u001b[39mlength\n",
      "\u001b[0;31mAttributeError\u001b[0m: 'rectangle' object has no attribute 'length'"
     ]
    }
   ],
   "source": [
    "square.length"
   ]
  },
  {
   "cell_type": "code",
   "execution_count": 543,
   "metadata": {},
   "outputs": [
    {
     "data": {
      "text/plain": [
       "8.0"
      ]
     },
     "execution_count": 543,
     "metadata": {},
     "output_type": "execute_result"
    }
   ],
   "source": [
    "square.perimeter()"
   ]
  },
  {
   "cell_type": "code",
   "execution_count": 545,
   "metadata": {},
   "outputs": [
    {
     "data": {
      "text/plain": [
       "4.0"
      ]
     },
     "execution_count": 545,
     "metadata": {},
     "output_type": "execute_result"
    }
   ],
   "source": [
    "square.area()"
   ]
  },
  {
   "cell_type": "markdown",
   "metadata": {},
   "source": [
    "4. Implement a class to represent a circle, holding the radius and $x$ and $y$ coordinates of center of the object. Implement functions that compute the area and perimeter of the rectangle. Make all data members private and privide accessors to retrieve values of data members. "
   ]
  },
  {
   "cell_type": "code",
   "execution_count": 548,
   "metadata": {},
   "outputs": [],
   "source": [
    "class circle:\n",
    "    def __init__(self,radius,center=(0,0)):\n",
    "        self.__radius=abs(float(radius))\n",
    "        self.__center=(0,0)\n",
    "\n",
    "    def info(self):\n",
    "        print(f\"\"\"Radius: {self.__radius}\\\n",
    "        Center: {self.__center}\"\"\")\n",
    "        \n",
    "    def area(self):\n",
    "        return (3.14*(self.__radius**2))\n",
    "\n",
    "    def circumference(self):\n",
    "        return (3.14*(2*self.__radius))\n",
    "        "
   ]
  },
  {
   "cell_type": "code",
   "execution_count": 550,
   "metadata": {},
   "outputs": [
    {
     "name": "stdout",
     "output_type": "stream",
     "text": [
      "Radius: 3.0        Center: (0, 0)\n"
     ]
    }
   ],
   "source": [
    "circ = circle(3)\n",
    "circ.info()"
   ]
  },
  {
   "cell_type": "code",
   "execution_count": 552,
   "metadata": {},
   "outputs": [
    {
     "name": "stdout",
     "output_type": "stream",
     "text": [
      "28.26\n",
      "\n",
      "18.84\n"
     ]
    }
   ],
   "source": [
    "print(circ.area(),circ.circumference(),sep=\"\\n\\n\")"
   ]
  },
  {
   "cell_type": "markdown",
   "metadata": {},
   "source": [
    "5. Implement a common base class for the classes implemented in 3 and 4 above which implements all common methods as not implemented functions (virtual). Re-implement your regtangle and circule classes to inherit from the base class and overload the functions accordingly. "
   ]
  },
  {
   "cell_type": "code",
   "execution_count": 555,
   "metadata": {},
   "outputs": [],
   "source": [
    "class shapes:\n",
    "    def __init__(self,point=(0,0)):\n",
    "        self.__point=point\n",
    "\n",
    "    def area(self):\n",
    "        raise NotImplementedError\n",
    "\n",
    "    def info(self):\n",
    "        raise NotImplementedError\n",
    "\n",
    "#rectangle subclass\n",
    "class rectangle(shapes):\n",
    "    def __init__(self,length,width,point=(0,0)):\n",
    "        self._length=abs(float(length))\n",
    "        self._width=abs(float(width))\n",
    "        self._corner=point\n",
    "\n",
    "    def info(self):\n",
    "        print(f\"\"\"Length: {self._length}\\\n",
    "        Width: {self._width}\\\n",
    "        Corner: {self._corner}\"\"\")\n",
    "\n",
    "    def area(self):\n",
    "        super().info()\n",
    "        return self._width*self._length\n",
    "\n",
    "    def perimeter(self):\n",
    "        return 2*(self._width+self._length)\n",
    "\n",
    "#circle subclass\n",
    "class circle(shapes):\n",
    "    def __init__(self,radius,center=(0,0)):\n",
    "        self._radius=abs(float(radius))\n",
    "        self._center=center\n",
    "\n",
    "    def info(self):\n",
    "        print(f\"\"\"Radius: {self._radius}\\\n",
    "        Center: {self._center}\"\"\")\n",
    "        \n",
    "    def area(self):\n",
    "        return (3.14*(self._radius**2))\n",
    "\n",
    "    def circumference(self):\n",
    "        return (3.14*(2*self._radius))"
   ]
  },
  {
   "cell_type": "markdown",
   "metadata": {},
   "source": [
    "6. Implement a triangle class analogous to the rectangle and circle in question 5."
   ]
  },
  {
   "cell_type": "code",
   "execution_count": 558,
   "metadata": {},
   "outputs": [],
   "source": [
    "class triangle(shapes):\n",
    "    def __init__(self,side1,side2,side3,point=(0,0)):\n",
    "        self._side1=abs(float(side1))\n",
    "        self._side2=abs(float(side2))\n",
    "        self._side3=abs(float(side3))\n",
    "        self._point=point\n",
    "\n",
    "    def info(self):\n",
    "        print(f\"\"\"Side 1: {self._side1}\\\n",
    "        Side 2: {self._side2}\\\n",
    "        Side 3: {self._side3}\\\n",
    "        Corner: {self._point}\"\"\")\n",
    "\n",
    "    def perimeter(self):\n",
    "        return self._side1+self._side2+self._side3\n",
    "\n",
    "    def area(self):\n",
    "        s= self.perimeter()/2\n",
    "        return (s*(s - self._side1)*(s - self._side2)*(s - self._side3))**0.5"
   ]
  },
  {
   "cell_type": "code",
   "execution_count": 560,
   "metadata": {},
   "outputs": [
    {
     "name": "stdout",
     "output_type": "stream",
     "text": [
      "Side 1: 3.0        Side 2: 4.0        Side 3: 5.0        Corner: (2, 3)\n"
     ]
    }
   ],
   "source": [
    "tri = triangle(3,4,5,(2,3))\n",
    "tri.info()"
   ]
  },
  {
   "cell_type": "code",
   "execution_count": 562,
   "metadata": {},
   "outputs": [
    {
     "name": "stdout",
     "output_type": "stream",
     "text": [
      "12.0\n",
      "\n",
      "6.0\n"
     ]
    }
   ],
   "source": [
    "print(tri.perimeter(),tri.area(),sep=\"\\n\\n\")"
   ]
  },
  {
   "cell_type": "markdown",
   "metadata": {},
   "source": [
    "7. Add a function to the object classes, including the base, that returns a list of up to 16 pairs of  $x$ and $y$ points on the parameter of the object. "
   ]
  },
  {
   "cell_type": "code",
   "execution_count": 565,
   "metadata": {},
   "outputs": [],
   "source": [
    "from numpy import linspace\n",
    "class shapes:\n",
    "    def __init__(self,point=(0,0)):\n",
    "        self.__point=point\n",
    "\n",
    "    def area(self):\n",
    "        raise NotImplementedError\n",
    "\n",
    "    def info(self):\n",
    "        raise NotImplementedError\n",
    "\n",
    "    def points(self,n_points):\n",
    "        raise NotImplementedError\n",
    "\n",
    "#rectangle subclass\n",
    "class rectangle(shapes):\n",
    "    def __init__(self,length,width,point=(0,0)):\n",
    "        self._length=abs(float(length))\n",
    "        self._width=abs(float(width))\n",
    "        self._corner=point\n",
    "        if self._length == 0 or self._width == 0:\n",
    "            raise ValueError\n",
    "\n",
    "    def info(self):\n",
    "        print(f\"\"\"Length: {self._length}\\\n",
    "        Width: {self._width}\\\n",
    "        Corner: {self._corner}\"\"\")\n",
    "\n",
    "    def area(self):\n",
    "        super().info()\n",
    "        return self._width*self._length\n",
    "\n",
    "    def perimeter(self):\n",
    "        return 2*(self._width+self._length)\n",
    "\n",
    "##################################################################################################################################\n",
    "    def points(self,n_points):\n",
    "        l_points=list()    \n",
    "        n_points = int(n_points)\n",
    "        if n_points <= 0:\n",
    "            return []\n",
    "        elif n_points > 16:\n",
    "            n_points = 16\n",
    "        x,y=self._corner\n",
    "        x2= x + self._length \n",
    "        y2= y + self._width \n",
    "\n",
    "        l_points += [self._corner,(x2,y),(x,y2),(x2,y2)]\n",
    "\n",
    "        for x_coord in linspace(x,x2,num=3): \n",
    "            l_points.append((x_coord,y))\n",
    "            l_points.append((x_coord,y2))\n",
    "        \n",
    "        for y_coord in linspace(x,x2,num=3): \n",
    "            l_points.append((x,y_coord))\n",
    "            l_points.append((x2,y_coord))\n",
    "\n",
    "        return l_points[:n_points]\n",
    "\n",
    "#circle subclass\n",
    "class circle(shapes):\n",
    "    def __init__(self,radius,center=(0,0)):\n",
    "        self._radius=abs(float(radius))\n",
    "        self._center=center\n",
    "        if self._radius == 0:\n",
    "            raise ValueError\n",
    "\n",
    "    def info(self):\n",
    "        print(f\"\"\"Radius: {self._radius}\\\n",
    "        Center: {self._center}\"\"\")\n",
    "        \n",
    "    def area(self):\n",
    "        return (3.14*(self._radius**2))\n",
    "\n",
    "    def circumference(self):\n",
    "        return (3.14*(2*self._radius))\n",
    "\n",
    "##################################################################################################################################\n",
    "    def points(self,n_points):\n",
    "        l_points=list()    \n",
    "        n_points = int(n_points)\n",
    "        if n_points <= 0:\n",
    "            return []\n",
    "        elif n_points > 16:\n",
    "            n_points = 16\n",
    "        \n",
    "        x,y=self._center\n",
    "\n",
    "        l_points += [(x+self._radius,y), #0º\n",
    "                    (x,y+self._radius), #90º\n",
    "                    (x-self._radius,y), #180º\n",
    "                    (x,y-self._radius), #270º\n",
    "                    ((x+self._radius)*((3**0.5)/2),(y+self._radius)*0.5), #30º\n",
    "                    ((x+self._radius)*((2**0.5)/2),(y+self._radius)*((2**0.5)/2)), #45º\n",
    "                    ((x+self._radius)*0.5,(y+self._radius)*((3**0.5)/2)), #60º\n",
    "                    ((x+self._radius)*-0.5,(y+self._radius)*((3**0.5)/2)), #120º\n",
    "                    ((x+self._radius)*-1*((2**0.5)/2),(y+self._radius)*((2**0.5)/2)), #135º\n",
    "                    ((x+self._radius)*(-1*(3**0.5)/2),(y+self._radius)*0.5), #150º\n",
    "                    ((x+self._radius)*(-1*(3**0.5)/2),(y+self._radius)*-0.5), #210º\n",
    "                    ((x+self._radius)*(-1*(2**0.5)/2),(y+self._radius)*(-1*(2**0.5)/2)), #225º\n",
    "                    ((x+self._radius)*-0.5,(y+self._radius)*(-1*(3**0.5)/2)), #240º\n",
    "                    ((x+self._radius)*0.5,(y+self._radius)*(-1*(3**0.5)/2)), #300º\n",
    "                    ((x+self._radius)*((2**0.5)/2),(y+self._radius)*(-1*(2**0.5)/2)), #315º\n",
    "                    ((x+self._radius)*((3**0.5)/2),(y+self._radius)*-0.5)] #330º\n",
    "        return l_points[:n_points]\n",
    "\n",
    "\n",
    "#triangle sublcass\n",
    "class triangle(shapes):\n",
    "    def __init__(self,side1,side2,side3,point=(0,0)):\n",
    "        self._side1=abs(float(side1))\n",
    "        self._side2=abs(float(side2))\n",
    "        self._side3=abs(float(side3))\n",
    "        self._point=point\n",
    "        if not (self._side1+self._side2>self._side3 and self._side1+self._side3>self._side1,self._side2+self._side3>self._side1):\n",
    "            raise ValueError\n",
    "        if self._side1 == 0 or self._side2 == 0 or self._side3 == 0:\n",
    "            raise ValueError\n",
    "\n",
    "    def info(self):\n",
    "        print(f\"\"\"Side 1: {self._side1}\\\n",
    "        Side 2: {self._side2}\\\n",
    "        Side 3: {self._side3}\\\n",
    "        Corner: {self._point}\"\"\")\n",
    "\n",
    "    def perimeter(self):\n",
    "        return self._side1+self._side2+self._side3\n",
    "\n",
    "    def area(self):\n",
    "        s= self.perimeter()/2\n",
    "        return (s*(s - self._side1)*(s - self._side2)*(s - self._side3))**0.5\n",
    "\n",
    "##################################################################################################################################\n",
    "    def points(self,n_points):\n",
    "        l_points=list()    \n",
    "        n_points = int(n_points)\n",
    "        if n_points <= 0:\n",
    "            return []\n",
    "        elif n_points > 16:\n",
    "            n_points = 16\n",
    "        \n",
    "        x,y=self._point\n",
    "        x2 = x+self._side1 #point: (x2,y)\n",
    "\n",
    "        x3 = x + (self._side2**2 - self._side3**2 + self._side1**2)/(2*self._side1)\n",
    "        y3 = y + ((self._side3**2-((self._side2**2-self._side3**2+self._side1**2)/(2*self._side1))**2)**0.5)\n",
    "\n",
    "        l_points += [(x,y),(x2,y),(x3,y3)]\n",
    "\n",
    "        for x_coord in linspace(x,x2,num=5):\n",
    "            #base of triangle\n",
    "            l_points.append((x_coord,y))\n",
    "\n",
    "        def opp_func(x_point):\n",
    "            m = (y3-y)/(x3-x2)\n",
    "            b = y-m*x2\n",
    "            return m*x_point+b\n",
    "        def adj_func(x_point):\n",
    "            m = (y3-y)/(x3-x)\n",
    "            b = y-m*x\n",
    "            return m*x_point+b\n",
    "\n",
    "        #adj side\n",
    "        for x_coord in linspace(x,x3,num=4):\n",
    "            l_points.append((x_coord,adj_func(x_coord)))\n",
    "        #opp side\n",
    "        for x_coord in linspace(x,x3,num=4):\n",
    "            l_points.append((x_coord,opp_func(x_coord)))\n",
    "        \n",
    "        return l_points[:n_points]"
   ]
  },
  {
   "cell_type": "code",
   "execution_count": 567,
   "metadata": {},
   "outputs": [
    {
     "name": "stdout",
     "output_type": "stream",
     "text": [
      "Length: 6.0        Width: 4.0        Corner: (0, 0)\n"
     ]
    }
   ],
   "source": [
    "test = rectangle(6,4,(0,0))\n",
    "test.info()"
   ]
  },
  {
   "cell_type": "code",
   "execution_count": 569,
   "metadata": {},
   "outputs": [
    {
     "data": {
      "text/plain": [
       "[(0, 0),\n",
       " (6.0, 0),\n",
       " (0, 4.0),\n",
       " (6.0, 4.0),\n",
       " (0.0, 0),\n",
       " (0.0, 4.0),\n",
       " (3.0, 0),\n",
       " (3.0, 4.0),\n",
       " (6.0, 0),\n",
       " (6.0, 4.0),\n",
       " (0, 0.0),\n",
       " (6.0, 0.0),\n",
       " (0, 3.0),\n",
       " (6.0, 3.0),\n",
       " (0, 6.0),\n",
       " (6.0, 6.0)]"
      ]
     },
     "execution_count": 569,
     "metadata": {},
     "output_type": "execute_result"
    }
   ],
   "source": [
    "test.points(16)"
   ]
  },
  {
   "cell_type": "code",
   "execution_count": 571,
   "metadata": {},
   "outputs": [
    {
     "name": "stdout",
     "output_type": "stream",
     "text": [
      "Radius: 1.0        Center: (0, 0)\n"
     ]
    }
   ],
   "source": [
    "cir = circle(1)\n",
    "cir.info()"
   ]
  },
  {
   "cell_type": "code",
   "execution_count": 573,
   "metadata": {},
   "outputs": [
    {
     "data": {
      "text/plain": [
       "[(1.0, 0),\n",
       " (0, 1.0),\n",
       " (-1.0, 0),\n",
       " (0, -1.0),\n",
       " (0.8660254037844386, 0.5),\n",
       " (0.7071067811865476, 0.7071067811865476),\n",
       " (0.5, 0.8660254037844386),\n",
       " (-0.5, 0.8660254037844386),\n",
       " (-0.7071067811865476, 0.7071067811865476),\n",
       " (-0.8660254037844386, 0.5)]"
      ]
     },
     "execution_count": 573,
     "metadata": {},
     "output_type": "execute_result"
    }
   ],
   "source": [
    "cir.points(10)"
   ]
  },
  {
   "cell_type": "code",
   "execution_count": 575,
   "metadata": {},
   "outputs": [
    {
     "name": "stdout",
     "output_type": "stream",
     "text": [
      "Side 1: 8.0        Side 2: 5.0        Side 3: 7.0        Corner: (0, 0)\n"
     ]
    }
   ],
   "source": [
    "tr=triangle(8,5,7)\n",
    "tr.info()"
   ]
  },
  {
   "cell_type": "code",
   "execution_count": 577,
   "metadata": {},
   "outputs": [
    {
     "data": {
      "text/plain": [
       "[(0, 0),\n",
       " (8.0, 0),\n",
       " (2.5, 6.5383484153110105),\n",
       " (0.0, 0),\n",
       " (2.0, 0),\n",
       " (4.0, 0),\n",
       " (6.0, 0)]"
      ]
     },
     "execution_count": 577,
     "metadata": {},
     "output_type": "execute_result"
    }
   ],
   "source": [
    "tr.points(7)"
   ]
  },
  {
   "cell_type": "markdown",
   "metadata": {},
   "source": [
    "8. Add a function to the object classes, including the base, that tests if a given set of $x$ and $y$ coordinates are inside of the object. You'll have to think through how to determine if a set of coordinates are inside an object for each object type."
   ]
  },
  {
   "cell_type": "code",
   "execution_count": 728,
   "metadata": {},
   "outputs": [],
   "source": [
    "class shapes:\n",
    "    def __init__(self,point=(0,0)):\n",
    "        self.__point=point\n",
    "\n",
    "    def area(self):\n",
    "        raise NotImplementedError\n",
    "\n",
    "    def info(self):\n",
    "        raise NotImplementedError\n",
    "\n",
    "    def points(self,n_points):\n",
    "        raise NotImplementedError\n",
    "    \n",
    "    def inside(self,point):\n",
    "        raise NotImplementedError\n",
    "\n",
    "#rectangle subclass\n",
    "class rectangle(shapes):\n",
    "    def __init__(self,length,width,point=(0,0)):\n",
    "        self._length=abs(float(length))\n",
    "        self._width=abs(float(width))\n",
    "        self._corner=point\n",
    "        if self._length == 0 or self._width == 0:\n",
    "            raise ValueError\n",
    "\n",
    "    def info(self):\n",
    "        print(f\"\"\"Length: {self._length}\\\n",
    "        Width: {self._width}\\\n",
    "        Corner: {self._corner}\"\"\")\n",
    "\n",
    "    def area(self):\n",
    "        super().info()\n",
    "        return self._width*self._length\n",
    "\n",
    "    def perimeter(self):\n",
    "        return 2*(self._width+self._length)\n",
    "\n",
    "    def points(self,n_points):\n",
    "        l_points=list()    \n",
    "        n_points = int(n_points)\n",
    "        if n_points <= 0:\n",
    "            return []\n",
    "        elif n_points > 16:\n",
    "            n_points = 16\n",
    "        x,y=self._corner\n",
    "        x2= x + self._length \n",
    "        y2= y + self._width \n",
    "\n",
    "        l_points += [self._corner,(x2,y),(x,y2),(x2,y2)]\n",
    "\n",
    "        for x_coord in linspace(x,x2,num=3): \n",
    "            l_points.append((x_coord,y))\n",
    "            l_points.append((x_coord,y2))\n",
    "        \n",
    "        for y_coord in linspace(x,x2,num=3): \n",
    "            l_points.append((x,y_coord))\n",
    "            l_points.append((x2,y_coord))\n",
    "\n",
    "        return l_points[:n_points]\n",
    "\n",
    "    def inside(self,point=(0,0)):\n",
    "        if (self._corner[0] <= point[0] <= (self._corner[0]+self._length)) and \\\n",
    "        (self._corner[1] <= point[1] <= (self._corner[1]+self._width)):\n",
    "            return True\n",
    "        else:\n",
    "            return False\n",
    "\n",
    "#circle subclass\n",
    "class circle(shapes):\n",
    "    def __init__(self,radius,center=(0,0)):\n",
    "        self._radius=abs(float(radius))\n",
    "        self._center=center\n",
    "        if self._radius == 0:\n",
    "            raise ValueError\n",
    "\n",
    "    def info(self):\n",
    "        print(f\"\"\"Radius: {self._radius}\\\n",
    "        Center: {self._center}\"\"\")\n",
    "        \n",
    "    def area(self):\n",
    "        return (3.14*(self._radius**2))\n",
    "\n",
    "    def circumference(self):\n",
    "        return (3.14*(2*self._radius))\n",
    "\n",
    "    def points(self,n_points):\n",
    "        l_points=list()    \n",
    "        n_points = int(n_points)\n",
    "        if n_points <= 0:\n",
    "            return []\n",
    "        elif n_points > 16:\n",
    "            n_points = 16\n",
    "        \n",
    "        x,y=self._center\n",
    "\n",
    "        l_points += [(x+self._radius,y), #0º\n",
    "                    (x,y+self._radius), #90º\n",
    "                    (x-self._radius,y), #180º\n",
    "                    (x,y-self._radius), #270º\n",
    "                    ((x+self._radius)*((3**0.5)/2),(y+self._radius)*0.5), #30º\n",
    "                    ((x+self._radius)*((2**0.5)/2),(y+self._radius)*((2**0.5)/2)), #45º\n",
    "                    ((x+self._radius)*0.5,(y+self._radius)*((3**0.5)/2)), #60º\n",
    "                    ((x+self._radius)*-0.5,(y+self._radius)*((3**0.5)/2)), #120º\n",
    "                    ((x+self._radius)*-1*((2**0.5)/2),(y+self._radius)*((2**0.5)/2)), #135º\n",
    "                    ((x+self._radius)*(-1*(3**0.5)/2),(y+self._radius)*0.5), #150º\n",
    "                    ((x+self._radius)*(-1*(3**0.5)/2),(y+self._radius)*-0.5), #210º\n",
    "                    ((x+self._radius)*(-1*(2**0.5)/2),(y+self._radius)*(-1*(2**0.5)/2)), #225º\n",
    "                    ((x+self._radius)*-0.5,(y+self._radius)*(-1*(3**0.5)/2)), #240º\n",
    "                    ((x+self._radius)*0.5,(y+self._radius)*(-1*(3**0.5)/2)), #300º\n",
    "                    ((x+self._radius)*((2**0.5)/2),(y+self._radius)*(-1*(2**0.5)/2)), #315º\n",
    "                    ((x+self._radius)*((3**0.5)/2),(y+self._radius)*-0.5)] #330º\n",
    "        return l_points[:n_points]\n",
    "\n",
    "    def inside(self,point=(0,0)):\n",
    "        dist = ((point[0]-self._center[0])**2 + (point[1]-self._center[1])**2)**0.5 #distance from center\n",
    "        return dist<=self._radius\n",
    "\n",
    "\n",
    "\n",
    "#triangle sublcass\n",
    "class triangle(shapes):\n",
    "    def __init__(self,side1,side2,side3,point=(0,0)):\n",
    "        self._side1=abs(float(side1))\n",
    "        self._side2=abs(float(side2))\n",
    "        self._side3=abs(float(side3))\n",
    "        self._point=point\n",
    "        if not (self._side1+self._side2>self._side3 and self._side1+self._side3>self._side1,self._side2+self._side3>self._side1):\n",
    "            raise ValueError\n",
    "        if self._side1 == 0 or self._side2 == 0 or self._side3 == 0:\n",
    "            raise ValueError\n",
    "\n",
    "    def info(self):\n",
    "        print(f\"\"\"Side 1: {self._side1}\\\n",
    "        Side 2: {self._side2}\\\n",
    "        Side 3: {self._side3}\\\n",
    "        Corner: {self._point}\"\"\")\n",
    "\n",
    "    def perimeter(self):\n",
    "        return self._side1+self._side2+self._side3\n",
    "\n",
    "    def area(self):\n",
    "        s= self.perimeter()/2\n",
    "        return (s*(s - self._side1)*(s - self._side2)*(s - self._side3))**0.5\n",
    "\n",
    "    def points(self,n_points):\n",
    "        l_points=list()    \n",
    "        n_points = int(n_points)\n",
    "        if n_points <= 0:\n",
    "            return []\n",
    "        elif n_points > 16:\n",
    "            n_points = 16\n",
    "        \n",
    "        x,y=self._point\n",
    "        x2 = x+self._side1 #point: (x2,y)\n",
    "\n",
    "        x3 = x + (self._side2**2 - self._side3**2 + self._side1**2)/(2*self._side1)\n",
    "        y3 = y + ((self._side3**2-((self._side2**2-self._side3**2+self._side1**2)/(2*self._side1))**2)**0.5)\n",
    "\n",
    "        l_points += [(x,y),(x2,y),(x3,y3)]\n",
    "\n",
    "        for x_coord in linspace(x,x2,num=5):\n",
    "            #base of triangle\n",
    "            l_points.append((x_coord,y))\n",
    "\n",
    "        def opp_func(x_point):\n",
    "            m = (y3-y)/(x3-x2)\n",
    "            b = y-m*x2\n",
    "            return m*x_point+b\n",
    "        def adj_func(x_point):\n",
    "            m = (y3-y)/(x3-x)\n",
    "            b = y-m*x\n",
    "            return m*x_point+b\n",
    "\n",
    "        #adj side\n",
    "        for x_coord in linspace(x,x3,num=4):\n",
    "            l_points.append((x_coord,adj_func(x_coord)))\n",
    "        #opp side\n",
    "        for x_coord in linspace(x,x3,num=4):\n",
    "            l_points.append((x_coord,opp_func(x_coord)))\n",
    "        \n",
    "        return l_points[:n_points]\n",
    "\n",
    "    def inside(self,point=(0,0)):\n",
    "        xx,xy = point\n",
    "        x1,y = self._point\n",
    "        x2 = x1 + self._side1\n",
    "        x3 = x1 + (self._side2**2 - self._side3**2 + self._side1**2)/(2*self._side1)\n",
    "        y3 = y + ((self._side3**2-((self._side2**2-self._side3**2+self._side1**2)/(2*self._side1))**2)**0.5)\n",
    "\n",
    "        def func2(coord,i=False): #left\n",
    "            m=(y-y3)/(x1-x3)\n",
    "            b=y-m*x1\n",
    "            if i == False:\n",
    "                return m*coord+b\n",
    "            else:\n",
    "                return (coord-b)/m\n",
    "        def func3(coord,i=False): #right\n",
    "            m=(y-y3)/(x2-x3)\n",
    "            b=y-m*x2\n",
    "            if i == False:\n",
    "                return m*coord+b\n",
    "            else:\n",
    "                return (coord-b)/m\n",
    "            \n",
    "        return y<=xy<=y3 and (func2(xy,i=True) <= xx <= func3(xy,i=True))"
   ]
  },
  {
   "cell_type": "code",
   "execution_count": 730,
   "metadata": {},
   "outputs": [
    {
     "name": "stdout",
     "output_type": "stream",
     "text": [
      "Length: 6.0        Width: 4.0        Corner: (0, 0)\n",
      "Radius: 2.0        Center: (0, 0)\n",
      "Side 1: 5.0        Side 2: 4.0        Side 3: 4.0        Corner: (0, 0)\n"
     ]
    }
   ],
   "source": [
    "r=rectangle(6,4)\n",
    "c=circle(2)\n",
    "t=triangle(5,4,4)\n",
    "\n",
    "r.info()\n",
    "c.info()\n",
    "t.info()"
   ]
  },
  {
   "cell_type": "code",
   "execution_count": 732,
   "metadata": {},
   "outputs": [
    {
     "data": {
      "text/plain": [
       "True"
      ]
     },
     "execution_count": 732,
     "metadata": {},
     "output_type": "execute_result"
    }
   ],
   "source": [
    "r.inside((4,3))"
   ]
  },
  {
   "cell_type": "code",
   "execution_count": 734,
   "metadata": {},
   "outputs": [
    {
     "data": {
      "text/plain": [
       "False"
      ]
     },
     "execution_count": 734,
     "metadata": {},
     "output_type": "execute_result"
    }
   ],
   "source": [
    "r.inside((7,1))"
   ]
  },
  {
   "cell_type": "code",
   "execution_count": 736,
   "metadata": {},
   "outputs": [
    {
     "data": {
      "text/plain": [
       "True"
      ]
     },
     "execution_count": 736,
     "metadata": {},
     "output_type": "execute_result"
    }
   ],
   "source": [
    "c.inside((1,1))"
   ]
  },
  {
   "cell_type": "code",
   "execution_count": 738,
   "metadata": {},
   "outputs": [
    {
     "data": {
      "text/plain": [
       "False"
      ]
     },
     "execution_count": 738,
     "metadata": {},
     "output_type": "execute_result"
    }
   ],
   "source": [
    "c.inside((-1,7))"
   ]
  },
  {
   "cell_type": "code",
   "execution_count": 740,
   "metadata": {},
   "outputs": [
    {
     "data": {
      "text/plain": [
       "True"
      ]
     },
     "execution_count": 740,
     "metadata": {},
     "output_type": "execute_result"
    }
   ],
   "source": [
    "t.inside((3,1))"
   ]
  },
  {
   "cell_type": "code",
   "execution_count": 742,
   "metadata": {},
   "outputs": [
    {
     "data": {
      "text/plain": [
       "False"
      ]
     },
     "execution_count": 742,
     "metadata": {},
     "output_type": "execute_result"
    }
   ],
   "source": [
    "t.inside((5,2))"
   ]
  },
  {
   "cell_type": "markdown",
   "metadata": {},
   "source": [
    "9. Add a function in the base class of the object classes that returns true/false testing that the object overlaps with another object."
   ]
  },
  {
   "cell_type": "code",
   "execution_count": 788,
   "metadata": {},
   "outputs": [],
   "source": [
    "class shapes:\n",
    "    def __init__(self,point=(0,0)):\n",
    "        self.__point=point\n",
    "\n",
    "    def area(self):\n",
    "        raise NotImplementedError\n",
    "\n",
    "    def info(self):\n",
    "        raise NotImplementedError\n",
    "\n",
    "    def points(self,n_points):\n",
    "        raise NotImplementedError\n",
    "    \n",
    "    def inside(self,point):\n",
    "        raise NotImplementedError\n",
    "\n",
    "    def overlap(self,shape2):\n",
    "        outline=self.points(16)\n",
    "        for coord in outline:\n",
    "            if shape2.inside(coord) == True:\n",
    "                return True\n",
    "        return False\n",
    "\n",
    "#rectangle subclass\n",
    "class rectangle(shapes):\n",
    "    def __init__(self,length,width,point=(0,0)):\n",
    "        self._length=abs(float(length))\n",
    "        self._width=abs(float(width))\n",
    "        self._corner=point\n",
    "        if self._length == 0 or self._width == 0:\n",
    "            raise ValueError\n",
    "\n",
    "    def info(self):\n",
    "        print(f\"\"\"Length: {self._length}\\\n",
    "        Width: {self._width}\\\n",
    "        Corner: {self._corner}\"\"\")\n",
    "\n",
    "    def area(self):\n",
    "        super().info()\n",
    "        return self._width*self._length\n",
    "\n",
    "    def perimeter(self):\n",
    "        return 2*(self._width+self._length)\n",
    "\n",
    "    def points(self,n_points):\n",
    "        l_points=list()    \n",
    "        n_points = int(n_points)\n",
    "        if n_points <= 0:\n",
    "            return []\n",
    "        elif n_points > 16:\n",
    "            n_points = 16\n",
    "        x,y=self._corner\n",
    "        x2= x + self._length \n",
    "        y2= y + self._width \n",
    "\n",
    "        l_points += [self._corner,(x2,y),(x,y2),(x2,y2)]\n",
    "\n",
    "        for x_coord in linspace(x,x2,num=3): \n",
    "            l_points.append((x_coord,y))\n",
    "            l_points.append((x_coord,y2))\n",
    "        \n",
    "        for y_coord in linspace(x,x2,num=3): \n",
    "            l_points.append((x,y_coord))\n",
    "            l_points.append((x2,y_coord))\n",
    "\n",
    "        return l_points[:n_points]\n",
    "\n",
    "    def inside(self,point=(0,0)):\n",
    "        if (self._corner[0] <= point[0] <= (self._corner[0]+self._length)) and \\\n",
    "        (self._corner[1] <= point[1] <= (self._corner[1]+self._width)):\n",
    "            return True\n",
    "        else:\n",
    "            return False\n",
    "\n",
    "#circle subclass\n",
    "class circle(shapes):\n",
    "    def __init__(self,radius,center=(0,0)):\n",
    "        self._radius=abs(float(radius))\n",
    "        self._center=center\n",
    "        if self._radius == 0:\n",
    "            raise ValueError\n",
    "\n",
    "    def info(self):\n",
    "        print(f\"\"\"Radius: {self._radius}\\\n",
    "        Center: {self._center}\"\"\")\n",
    "        \n",
    "    def area(self):\n",
    "        return (3.14*(self._radius**2))\n",
    "\n",
    "    def circumference(self):\n",
    "        return (3.14*(2*self._radius))\n",
    "\n",
    "    def points(self,n_points):\n",
    "        l_points=list()    \n",
    "        n_points = int(n_points)\n",
    "        if n_points <= 0:\n",
    "            return []\n",
    "        elif n_points > 16:\n",
    "            n_points = 16\n",
    "        \n",
    "        x,y=self._center\n",
    "\n",
    "        l_points += [(x+self._radius,y), #0º\n",
    "                    (x,y+self._radius), #90º\n",
    "                    (x-self._radius,y), #180º\n",
    "                    (x,y-self._radius), #270º\n",
    "                    ((x+self._radius)*((3**0.5)/2),(y+self._radius)*0.5), #30º\n",
    "                    ((x+self._radius)*((2**0.5)/2),(y+self._radius)*((2**0.5)/2)), #45º\n",
    "                    ((x+self._radius)*0.5,(y+self._radius)*((3**0.5)/2)), #60º\n",
    "                    ((x+self._radius)*-0.5,(y+self._radius)*((3**0.5)/2)), #120º\n",
    "                    ((x+self._radius)*-1*((2**0.5)/2),(y+self._radius)*((2**0.5)/2)), #135º\n",
    "                    ((x+self._radius)*(-1*(3**0.5)/2),(y+self._radius)*0.5), #150º\n",
    "                    ((x+self._radius)*(-1*(3**0.5)/2),(y+self._radius)*-0.5), #210º\n",
    "                    ((x+self._radius)*(-1*(2**0.5)/2),(y+self._radius)*(-1*(2**0.5)/2)), #225º\n",
    "                    ((x+self._radius)*-0.5,(y+self._radius)*(-1*(3**0.5)/2)), #240º\n",
    "                    ((x+self._radius)*0.5,(y+self._radius)*(-1*(3**0.5)/2)), #300º\n",
    "                    ((x+self._radius)*((2**0.5)/2),(y+self._radius)*(-1*(2**0.5)/2)), #315º\n",
    "                    ((x+self._radius)*((3**0.5)/2),(y+self._radius)*-0.5)] #330º\n",
    "        return l_points[:n_points]\n",
    "\n",
    "    def inside(self,point=(0,0)):\n",
    "        dist = ((point[0]-self._center[0])**2 + (point[1]-self._center[1])**2)**0.5 #distance from center\n",
    "        return dist<=self._radius\n",
    "\n",
    "\n",
    "\n",
    "#triangle sublcass\n",
    "class triangle(shapes):\n",
    "    def __init__(self,side1,side2,side3,point=(0,0)):\n",
    "        self._side1=abs(float(side1))\n",
    "        self._side2=abs(float(side2))\n",
    "        self._side3=abs(float(side3))\n",
    "        self._point=point\n",
    "        if not (self._side1+self._side2>self._side3 and self._side1+self._side3>self._side1,self._side2+self._side3>self._side1):\n",
    "            raise ValueError\n",
    "        if self._side1 == 0 or self._side2 == 0 or self._side3 == 0:\n",
    "            raise ValueError\n",
    "\n",
    "    def info(self):\n",
    "        print(f\"\"\"Side 1: {self._side1}\\\n",
    "        Side 2: {self._side2}\\\n",
    "        Side 3: {self._side3}\\\n",
    "        Corner: {self._point}\"\"\")\n",
    "\n",
    "    def perimeter(self):\n",
    "        return self._side1+self._side2+self._side3\n",
    "\n",
    "    def area(self):\n",
    "        s= self.perimeter()/2\n",
    "        return (s*(s - self._side1)*(s - self._side2)*(s - self._side3))**0.5\n",
    "\n",
    "    def points(self,n_points):\n",
    "        l_points=list()    \n",
    "        n_points = int(n_points)\n",
    "        if n_points <= 0:\n",
    "            return []\n",
    "        elif n_points > 16:\n",
    "            n_points = 16\n",
    "        \n",
    "        x,y=self._point\n",
    "        x2 = x+self._side1 #point: (x2,y)\n",
    "\n",
    "        x3 = x + (self._side2**2 - self._side3**2 + self._side1**2)/(2*self._side1)\n",
    "        y3 = y + ((self._side3**2-((self._side2**2-self._side3**2+self._side1**2)/(2*self._side1))**2)**0.5)\n",
    "\n",
    "        l_points += [(x,y),(x2,y),(x3,y3)]\n",
    "\n",
    "        for x_coord in linspace(x,x2,num=5):\n",
    "            #base of triangle\n",
    "            l_points.append((x_coord,y))\n",
    "\n",
    "        def opp_func(x_point):\n",
    "            m = (y3-y)/(x3-x2)\n",
    "            b = y-m*x2\n",
    "            return m*x_point+b\n",
    "        def adj_func(x_point):\n",
    "            m = (y3-y)/(x3-x)\n",
    "            b = y-m*x\n",
    "            return m*x_point+b\n",
    "\n",
    "        #adj side\n",
    "        for x_coord in linspace(x,x3,num=4):\n",
    "            l_points.append((x_coord,adj_func(x_coord)))\n",
    "        #opp side\n",
    "        for x_coord in linspace(x,x3,num=4):\n",
    "            l_points.append((x_coord,opp_func(x_coord)))\n",
    "        \n",
    "        return l_points[:n_points]\n",
    "\n",
    "    def inside(self,point=(0,0)):\n",
    "        xx,xy = point\n",
    "        x1,y = self._point\n",
    "        x2 = x1 + self._side1\n",
    "        x3 = x1 + (self._side2**2 - self._side3**2 + self._side1**2)/(2*self._side1)\n",
    "        y3 = y + ((self._side3**2-((self._side2**2-self._side3**2+self._side1**2)/(2*self._side1))**2)**0.5)\n",
    "\n",
    "        def func2(coord,i=False): #left\n",
    "            m=(y-y3)/(x1-x3)\n",
    "            b=y-m*x1\n",
    "            if i == False:\n",
    "                return m*coord+b\n",
    "            else:\n",
    "                return (coord-b)/m\n",
    "        def func3(coord,i=False): #right\n",
    "            m=(y-y3)/(x2-x3)\n",
    "            b=y-m*x2\n",
    "            if i == False:\n",
    "                return m*coord+b\n",
    "            else:\n",
    "                return (coord-b)/m\n",
    "            \n",
    "        return y<=xy<=y3 and (func2(xy,i=True) <= xx <= func3(xy,i=True))"
   ]
  },
  {
   "cell_type": "code",
   "execution_count": 790,
   "metadata": {},
   "outputs": [
    {
     "name": "stdout",
     "output_type": "stream",
     "text": [
      "Length: 6.0        Width: 4.0        Corner: (0, 0)\n",
      "Radius: 2.0        Center: (0, 0)\n",
      "Side 1: 5.0        Side 2: 4.0        Side 3: 4.0        Corner: (20, 20)\n"
     ]
    }
   ],
   "source": [
    "r2=rectangle(6,4)\n",
    "c=circle(2)\n",
    "t=triangle(5,4,4, (20,20))\n",
    "\n",
    "r2.info()\n",
    "c.info()\n",
    "t.info()"
   ]
  },
  {
   "cell_type": "code",
   "execution_count": 792,
   "metadata": {},
   "outputs": [
    {
     "data": {
      "text/plain": [
       "True"
      ]
     },
     "execution_count": 792,
     "metadata": {},
     "output_type": "execute_result"
    }
   ],
   "source": [
    "r2.overlap(c)"
   ]
  },
  {
   "cell_type": "code",
   "execution_count": 794,
   "metadata": {},
   "outputs": [
    {
     "data": {
      "text/plain": [
       "False"
      ]
     },
     "execution_count": 794,
     "metadata": {},
     "output_type": "execute_result"
    }
   ],
   "source": [
    "r2.overlap(t)"
   ]
  },
  {
   "cell_type": "markdown",
   "metadata": {},
   "source": [
    "10. Copy the `Canvas` class from lecture to in a python file creating a `paint` module. Copy your classes from above into the module and implement paint functions. Implement a `CompoundShape` class. Create a simple drawing demonstrating that all of your classes are working."
   ]
  },
  {
   "cell_type": "code",
   "execution_count": 831,
   "metadata": {},
   "outputs": [],
   "source": [
    "import paint"
   ]
  },
  {
   "cell_type": "code",
   "execution_count": 876,
   "metadata": {},
   "outputs": [
    {
     "data": {
      "text/plain": [
       "<module 'paint' from '/Users/zainabsiddiqui/Downloads/paint.py'>"
      ]
     },
     "execution_count": 876,
     "metadata": {},
     "output_type": "execute_result"
    }
   ],
   "source": [
    "import importlib\n",
    "importlib.reload(paint)"
   ]
  },
  {
   "cell_type": "code",
   "execution_count": 878,
   "metadata": {},
   "outputs": [
    {
     "data": {
      "text/plain": [
       "['Canvas',\n",
       " 'CompoundShape',\n",
       " '__builtins__',\n",
       " '__cached__',\n",
       " '__doc__',\n",
       " '__file__',\n",
       " '__loader__',\n",
       " '__name__',\n",
       " '__package__',\n",
       " '__spec__',\n",
       " 'circle',\n",
       " 'linspace',\n",
       " 'math',\n",
       " 'rectangle',\n",
       " 'shapes',\n",
       " 'triangle']"
      ]
     },
     "execution_count": 878,
     "metadata": {},
     "output_type": "execute_result"
    }
   ],
   "source": [
    "dir(paint)"
   ]
  },
  {
   "cell_type": "code",
   "execution_count": 880,
   "metadata": {},
   "outputs": [
    {
     "name": "stdout",
     "output_type": "stream",
     "text": [
      "*              \n",
      "***            \n",
      "*  **          \n",
      "* **           \n",
      "**             \n",
      "*              \n",
      "               \n",
      "               \n",
      "               \n",
      "               \n",
      "               \n",
      "               \n",
      "               \n",
      "               \n",
      "               \n"
     ]
    }
   ],
   "source": [
    "canv = paint.Canvas(15,15)\n",
    "t = paint.triangle(5,5,5)\n",
    "t.paint(canv)"
   ]
  },
  {
   "cell_type": "code",
   "execution_count": 882,
   "metadata": {},
   "outputs": [
    {
     "name": "stdout",
     "output_type": "stream",
     "text": [
      "**** *              \n",
      "*    *              \n",
      "*    *              \n",
      "*    *              \n",
      "      ***           \n",
      "**** *   *          \n",
      "    *     *         \n",
      "    *     *         \n",
      "    *     *         \n",
      "     *   *          \n",
      "     * **           \n",
      "                    \n",
      "                    \n",
      "                    \n",
      "                    \n",
      "                    \n",
      "                    \n",
      "                    \n",
      "                    \n",
      "                    \n"
     ]
    }
   ],
   "source": [
    "c = paint.circle(3,(7,7))\n",
    "r = paint.rectangle(5,5)\n",
    "cr = paint.CompoundShape()\n",
    "cr.add_shape(c)\n",
    "cr.add_shape(r)\n",
    "canv2 = paint.Canvas(20,20)\n",
    "cr.paint(canv2)"
   ]
  },
  {
   "cell_type": "markdown",
   "metadata": {},
   "source": [
    "11. Create a `RasterDrawing` class. Demonstrate that you can create a drawing made of several shapes, paint the drawing, modify the drawing, and paint it again. "
   ]
  },
  {
   "cell_type": "code",
   "execution_count": 885,
   "metadata": {},
   "outputs": [],
   "source": [
    "class RasterDrawing:\n",
    "    def __init__(self,width,height):\n",
    "        self.canvas=Canvas(width,height)\n",
    "        self.shapes=[]\n",
    "\n",
    "    def add_shape(self,shape):\n",
    "        self.shapes.append(shape)\n",
    "\n",
    "    def draw(self):\n",
    "        for s in self.shapes:\n",
    "            s.paint(self.canvas,False)\n",
    "        self.canvas.display()\n",
    "\n",
    "    def remove_shape(self,shape):\n",
    "        if shape in self.shapes:\n",
    "            self.shapes.remove(shape)\n",
    "\n",
    "    def redraw(self):\n",
    "        self.canvas.clear_canvas()\n",
    "        self.draw()"
   ]
  },
  {
   "cell_type": "code",
   "execution_count": 887,
   "metadata": {},
   "outputs": [
    {
     "name": "stdout",
     "output_type": "stream",
     "text": [
      "**** *              \n",
      "*    *              \n",
      "*    *              \n",
      "*    *              \n",
      "      ***           \n",
      "**** *   *          \n",
      "    *     *         \n",
      "    *     *         \n",
      "    *     *         \n",
      "     *   *          \n",
      "*    * **           \n",
      "***                 \n",
      "*  **               \n",
      "* **                \n",
      "**                  \n",
      "*                   \n",
      "                    \n",
      "                    \n",
      "                    \n",
      "                    \n"
     ]
    }
   ],
   "source": [
    "c = paint.circle(3,(7,7))\n",
    "r = paint.rectangle(5,5)\n",
    "t = paint.triangle(5,5,5,(10,0))\n",
    "\n",
    "drawing = RasterDrawing(20,20)\n",
    "drawing.add_shape(c)\n",
    "drawing.add_shape(r)\n",
    "drawing.add_shape(t)\n",
    "\n",
    "drawing.draw()"
   ]
  },
  {
   "cell_type": "code",
   "execution_count": 889,
   "metadata": {},
   "outputs": [
    {
     "name": "stdout",
     "output_type": "stream",
     "text": [
      "**** *              \n",
      "*    *              \n",
      "*    *              \n",
      "*    *              \n",
      "      ***           \n",
      "**** *   *          \n",
      "    *     *         \n",
      "    *     *         \n",
      "    *     *         \n",
      "     *   *          \n",
      "     * **           \n",
      "                    \n",
      "                    \n",
      "                    \n",
      "                    \n",
      "                    \n",
      "                    \n",
      "                    \n",
      "                    \n",
      "                    \n"
     ]
    }
   ],
   "source": [
    "drawing.remove_shape(t)\n",
    "drawing.redraw()"
   ]
  },
  {
   "cell_type": "markdown",
   "metadata": {},
   "source": [
    "12. Implement the ability to load/save raster drawings and demonstate that your method works. One way to implement this ability:\n",
    "\n",
    "   * Overload `__repr__` functions of all objects to return strings of the python code that would construct the object.\n",
    "   \n",
    "   * In the save method of raster drawing class, store the representations into the file.\n",
    "   * Write a loader function that reads the file and uses `eval` to instantiate the object.\n",
    "\n",
    "For example:"
   ]
  },
  {
   "cell_type": "code",
   "execution_count": 892,
   "metadata": {},
   "outputs": [],
   "source": [
    "class foo:\n",
    "    def __init__(self,a,b=None):\n",
    "        self.a=a\n",
    "        self.b=b\n",
    "        \n",
    "    def __repr__(self):\n",
    "        return \"foo(\"+repr(self.a)+\",\"+repr(self.b)+\")\"\n",
    "    \n",
    "    def save(self,filename):\n",
    "        f=open(filename,\"w\")\n",
    "        f.write(self.__repr__())\n",
    "        f.close()\n",
    "        \n",
    "   \n",
    "def foo_loader(filename):\n",
    "    f=open(filename,\"r\")\n",
    "    tmp=eval(f.read())\n",
    "    f.close()\n",
    "    return tmp\n"
   ]
  },
  {
   "cell_type": "code",
   "execution_count": 894,
   "metadata": {},
   "outputs": [
    {
     "name": "stdout",
     "output_type": "stream",
     "text": [
      "foo(1,'hello')\n"
     ]
    }
   ],
   "source": [
    "# Test\n",
    "print(repr(foo(1,\"hello\")))"
   ]
  },
  {
   "cell_type": "code",
   "execution_count": 896,
   "metadata": {},
   "outputs": [],
   "source": [
    "# Create an object and save it\n",
    "ff=foo(1,\"hello\")\n",
    "ff.save(\"Test.foo\")"
   ]
  },
  {
   "cell_type": "code",
   "execution_count": 898,
   "metadata": {},
   "outputs": [
    {
     "name": "stdout",
     "output_type": "stream",
     "text": [
      "foo(1,'hello')"
     ]
    }
   ],
   "source": [
    "# Check contents of the saved file\n",
    "!cat Test.foo"
   ]
  },
  {
   "cell_type": "code",
   "execution_count": 900,
   "metadata": {},
   "outputs": [
    {
     "data": {
      "text/plain": [
       "foo(1,'hello')"
      ]
     },
     "execution_count": 900,
     "metadata": {},
     "output_type": "execute_result"
    }
   ],
   "source": [
    "# Load the object\n",
    "ff_reloaded=foo_loader(\"Test.foo\")\n",
    "ff_reloaded"
   ]
  },
  {
   "cell_type": "code",
   "execution_count": 943,
   "metadata": {},
   "outputs": [],
   "source": [
    "class RasterDrawing:\n",
    "    def __init__(self,width,height):\n",
    "        self.canvas=Canvas(width,height)\n",
    "        self.shapes=[]\n",
    "\n",
    "    def add_shape(self,shape):\n",
    "        self.shapes.append(shape)\n",
    "\n",
    "    def draw(self):\n",
    "        for s in self.shapes:\n",
    "            s.paint(self.canvas,False)\n",
    "        self.canvas.display()\n",
    "\n",
    "    def remove_shape(self,shape):\n",
    "        if shape in self.shapes:\n",
    "            self.shapes.remove(shape)\n",
    "\n",
    "    def redraw(self):\n",
    "        self.canvas.clear_canvas()\n",
    "        self.draw()\n",
    "\n",
    "    def save_drawing(self,save_name):\n",
    "        f=open(save_name,\"w\")\n",
    "        for shape in self.shapes:\n",
    "            f.write(repr(shape) + \"\\n\")\n",
    "        f.close()\n",
    "\n",
    "    def load_drawing(self,save_name):\n",
    "        from paint import rectangle, circle, triangle\n",
    "        class_map = {\"rectangle\": rectangle, \"circle\": circle, \"triangle\": triangle}\n",
    "\n",
    "        with open(save_name, \"r\") as f:\n",
    "            for line in f:\n",
    "                self.add_shape(eval(line.strip(), {\"__builtins__\": None}, class_map))\n",
    "        return self.redraw()"
   ]
  },
  {
   "cell_type": "code",
   "execution_count": 945,
   "metadata": {},
   "outputs": [
    {
     "name": "stdout",
     "output_type": "stream",
     "text": [
      "**** *              \n",
      "*    *              \n",
      "*    *              \n",
      "*    *              \n",
      "      ***           \n",
      "**** *   *          \n",
      "    *     *         \n",
      "    *     *         \n",
      "    *     *         \n",
      "     *   *          \n",
      "*    * **           \n",
      "***                 \n",
      "*  **               \n",
      "* **                \n",
      "**                  \n",
      "*                   \n",
      "                    \n",
      "                    \n",
      "                    \n",
      "                    \n"
     ]
    }
   ],
   "source": [
    "c = paint.circle(3,(7,7))\n",
    "r = paint.rectangle(5,5)\n",
    "t = paint.triangle(5,5,5,(10,0))\n",
    "\n",
    "drawing = RasterDrawing(20,20)\n",
    "drawing.add_shape(c)\n",
    "drawing.add_shape(r)\n",
    "drawing.add_shape(t)\n",
    "\n",
    "drawing.draw()"
   ]
  },
  {
   "cell_type": "code",
   "execution_count": 947,
   "metadata": {},
   "outputs": [
    {
     "name": "stdout",
     "output_type": "stream",
     "text": [
      "                    \n",
      "                    \n",
      "                    \n",
      "                    \n",
      "                    \n",
      "                    \n",
      "                    \n",
      "                    \n",
      "                    \n",
      "                    \n",
      "*                   \n",
      "***                 \n",
      "*  **               \n",
      "* **                \n",
      "**                  \n",
      "*                   \n",
      "                    \n",
      "                    \n",
      "                    \n",
      "                    \n"
     ]
    }
   ],
   "source": [
    "drawing.save_drawing(\"drawing1\")\n",
    "drawing.remove_shape(c)\n",
    "drawing.remove_shape(r)\n",
    "drawing.redraw()"
   ]
  },
  {
   "cell_type": "code",
   "execution_count": 949,
   "metadata": {},
   "outputs": [
    {
     "name": "stdout",
     "output_type": "stream",
     "text": [
      "**** *              \n",
      "*    *              \n",
      "*    *              \n",
      "*    *              \n",
      "      ***           \n",
      "**** *   *          \n",
      "    *     *         \n",
      "    *     *         \n",
      "    *     *         \n",
      "     *   *          \n",
      "*    * **           \n",
      "***                 \n",
      "*  **               \n",
      "* **                \n",
      "**                  \n",
      "*                   \n",
      "                    \n",
      "                    \n",
      "                    \n",
      "                    \n"
     ]
    }
   ],
   "source": [
    "drawing.load_drawing(\"drawing1\")"
   ]
  },
  {
   "cell_type": "code",
   "execution_count": null,
   "metadata": {},
   "outputs": [],
   "source": []
  }
 ],
 "metadata": {
  "kernelspec": {
   "display_name": "Python 3 (ipykernel)",
   "language": "python",
   "name": "python3"
  },
  "language_info": {
   "codemirror_mode": {
    "name": "ipython",
    "version": 3
   },
   "file_extension": ".py",
   "mimetype": "text/x-python",
   "name": "python",
   "nbconvert_exporter": "python",
   "pygments_lexer": "ipython3",
   "version": "3.12.4"
  }
 },
 "nbformat": 4,
 "nbformat_minor": 4
}
