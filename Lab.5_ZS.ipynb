{
 "cells": [
  {
   "cell_type": "markdown",
   "metadata": {},
   "source": [
    "# Lab 5\n"
   ]
  },
  {
   "cell_type": "markdown",
   "metadata": {},
   "source": [
    "#### Write a function make_deck that returns a list of all of the cards in a standard card deck. The return should be a list of tuples of pairs of suit and value. For example the 10 of Clubs would be ('Clubs', 10) and Queen of Hearts would be ('Hearts', 'Queen'). Recall that a deck has 52 cards, divided into 4 suits (Clubs, Diamonds, Hearts, and Spades), and that each suit has 13 cards: 2 to 10, Jack, Queen, King, and Ace. Submit your solution with Lab 5."
   ]
  },
  {
   "cell_type": "code",
   "execution_count": 5,
   "metadata": {},
   "outputs": [],
   "source": [
    "def make_deck():\n",
    "    suits = [\"Hearts\",\"Clubs\",\"Diamonds\",\"Spades\"]\n",
    "    numbers = [\"A\",2,3,4,5,6,7,8,9,10,\"J\",\"Q\",\"K\"]\n",
    "    \n",
    "    cards = []\n",
    "    for num in numbers:\n",
    "      for suit in suits:\n",
    "        card = (suit,num)\n",
    "        cards.append(card)\n",
    "    return cards"
   ]
  },
  {
   "cell_type": "code",
   "execution_count": 6,
   "metadata": {
    "scrolled": true
   },
   "outputs": [
    {
     "data": {
      "text/plain": [
       "[('Hearts', 'A'),\n",
       " ('Clubs', 'A'),\n",
       " ('Diamonds', 'A'),\n",
       " ('Spades', 'A'),\n",
       " ('Hearts', 2),\n",
       " ('Clubs', 2),\n",
       " ('Diamonds', 2),\n",
       " ('Spades', 2),\n",
       " ('Hearts', 3),\n",
       " ('Clubs', 3),\n",
       " ('Diamonds', 3),\n",
       " ('Spades', 3),\n",
       " ('Hearts', 4),\n",
       " ('Clubs', 4),\n",
       " ('Diamonds', 4),\n",
       " ('Spades', 4),\n",
       " ('Hearts', 5),\n",
       " ('Clubs', 5),\n",
       " ('Diamonds', 5),\n",
       " ('Spades', 5),\n",
       " ('Hearts', 6),\n",
       " ('Clubs', 6),\n",
       " ('Diamonds', 6),\n",
       " ('Spades', 6),\n",
       " ('Hearts', 7),\n",
       " ('Clubs', 7),\n",
       " ('Diamonds', 7),\n",
       " ('Spades', 7),\n",
       " ('Hearts', 8),\n",
       " ('Clubs', 8),\n",
       " ('Diamonds', 8),\n",
       " ('Spades', 8),\n",
       " ('Hearts', 9),\n",
       " ('Clubs', 9),\n",
       " ('Diamonds', 9),\n",
       " ('Spades', 9),\n",
       " ('Hearts', 10),\n",
       " ('Clubs', 10),\n",
       " ('Diamonds', 10),\n",
       " ('Spades', 10),\n",
       " ('Hearts', 'J'),\n",
       " ('Clubs', 'J'),\n",
       " ('Diamonds', 'J'),\n",
       " ('Spades', 'J'),\n",
       " ('Hearts', 'Q'),\n",
       " ('Clubs', 'Q'),\n",
       " ('Diamonds', 'Q'),\n",
       " ('Spades', 'Q'),\n",
       " ('Hearts', 'K'),\n",
       " ('Clubs', 'K'),\n",
       " ('Diamonds', 'K'),\n",
       " ('Spades', 'K')]"
      ]
     },
     "execution_count": 6,
     "metadata": {},
     "output_type": "execute_result"
    }
   ],
   "source": [
    "deck1 = make_deck()\n",
    "deck1"
   ]
  },
  {
   "cell_type": "code",
   "execution_count": 7,
   "metadata": {},
   "outputs": [
    {
     "data": {
      "text/plain": [
       "52"
      ]
     },
     "execution_count": 7,
     "metadata": {},
     "output_type": "execute_result"
    }
   ],
   "source": [
    "len(deck1)"
   ]
  },
  {
   "cell_type": "markdown",
   "metadata": {},
   "source": [
    "## Matrix Representation: \n",
    "In this lab you will be creating a simple linear algebra system. In memory, we will represent matrices as nested python lists as we have done in lecture. In the exercises below, you are required to explicitly test every feature you implement, demonstrating it works.\n",
    "\n",
    "1. Create a `matrix` class with the following properties:\n",
    "    * It can be initialized in 2 ways:\n",
    "        1. with arguments `n` and `m`, the size of the matrix. A newly instanciated matrix will contain all zeros.\n",
    "        2. with a list of lists of values. Note that since we are using lists of lists to implement matrices, it is possible that not all rows have the same number of columns. Test explicitly that the matrix is properly specified.\n",
    "    * Matrix instances `M` can be indexed with `M[i][j]` and `M[i,j]`."
   ]
  },
  {
   "cell_type": "code",
   "execution_count": 9,
   "metadata": {},
   "outputs": [],
   "source": [
    "class Matrix:\n",
    "    def __init__(self,n_rows,m_cols):\n",
    "        self._n_rows = abs(int(n_rows))\n",
    "        self._m_cols = abs(int(m_cols))\n",
    "        self._matrix = list(self.zero_matrix(self._n_rows, self._m_cols))\n",
    "\n",
    "    def zero_matrix(self,n_rows,m_cols):\n",
    "        m = list()\n",
    "        \n",
    "        for rows in range(n_rows):\n",
    "            line = list()\n",
    "            for cols in range(m_cols):\n",
    "                line.append(0)\n",
    "            m.append(line)\n",
    "\n",
    "        m=list(m)\n",
    "        return m\n",
    "\n",
    "    def __getitem__(self,ind):\n",
    "        if isinstance(ind, tuple):\n",
    "            i, j = ind\n",
    "            return self._matrix[i-1][j-1]\n",
    "            \n",
    "        elif isinstance(ind, int):\n",
    "            return self._matrix[ind-1]\n",
    "   \n",
    "    def __setitem__(self,ind,num):\n",
    "        if isinstance(ind, tuple):\n",
    "            i, j = ind\n",
    "            self._matrix[i-1][j-1] = num\n",
    "            \n",
    "        elif isinstance(ind, int):\n",
    "            self._matrix[i-1][j-1] = num\n",
    "\n",
    "    def __len__(self,i=None):\n",
    "        if i == None:\n",
    "            return self._n_rows\n",
    "        else:\n",
    "            return self._m_cols\n",
    "\n",
    "    def __call__(self,i,j):\n",
    "        return self._matrix[i-1][j-1]\n",
    "\n",
    "    def __repr__(self):  \n",
    "        return \"\\n\".join(str(row) for row in self._matrix)"
   ]
  },
  {
   "cell_type": "code",
   "execution_count": 10,
   "metadata": {},
   "outputs": [],
   "source": [
    "test = Matrix(3,5)"
   ]
  },
  {
   "cell_type": "code",
   "execution_count": 11,
   "metadata": {},
   "outputs": [
    {
     "data": {
      "text/plain": [
       "3"
      ]
     },
     "execution_count": 11,
     "metadata": {},
     "output_type": "execute_result"
    }
   ],
   "source": [
    "len(test)"
   ]
  },
  {
   "cell_type": "code",
   "execution_count": 12,
   "metadata": {},
   "outputs": [
    {
     "data": {
      "text/plain": [
       "5"
      ]
     },
     "execution_count": 12,
     "metadata": {},
     "output_type": "execute_result"
    }
   ],
   "source": [
    "len(test[0])"
   ]
  },
  {
   "cell_type": "code",
   "execution_count": 13,
   "metadata": {},
   "outputs": [
    {
     "data": {
      "text/plain": [
       "[0, 0, 0, 0, 0]\n",
       "[0, 0, 0, 0, 0]\n",
       "[0, 0, 0, 0, 0]"
      ]
     },
     "execution_count": 13,
     "metadata": {},
     "output_type": "execute_result"
    }
   ],
   "source": [
    "test"
   ]
  },
  {
   "cell_type": "code",
   "execution_count": 14,
   "metadata": {},
   "outputs": [
    {
     "data": {
      "text/plain": [
       "[0, 0, 0, 0, 0]\n",
       "[0, 0, 0, 5, 0]\n",
       "[0, 0, 0, 0, 0]"
      ]
     },
     "execution_count": 14,
     "metadata": {},
     "output_type": "execute_result"
    }
   ],
   "source": [
    "test[2][3] = 5\n",
    "test"
   ]
  },
  {
   "cell_type": "code",
   "execution_count": 15,
   "metadata": {},
   "outputs": [
    {
     "name": "stdout",
     "output_type": "stream",
     "text": [
      "[0, 0, 0, 0, 0]\n",
      "[0, 0, 0, 5, 0]\n",
      "[0, 0, 0, 0, 0]\n"
     ]
    }
   ],
   "source": [
    "print(test)"
   ]
  },
  {
   "cell_type": "markdown",
   "metadata": {},
   "source": [
    "2. Add the following methods:\n",
    "    * `shape()`: returns a tuple `(n,m)` of the shape of the matrix.\n",
    "    * `transpose()`: returns a new matrix instance which is the transpose of the matrix.\n",
    "    * `row(n)` and `column(n)`: that return the nth row or column of the matrix M as a new appropriately shaped matrix object.\n",
    "    * `to_list()`: which returns the matrix as a list of lists.\n",
    "    *  `block(n_0,n_1,m_0,m_1)` that returns a smaller matrix located at the n_0 to n_1 columns and m_0 to m_1 rows. \n",
    "    * (Extra credit) Modify `__getitem__` implemented above to support slicing.\n",
    "        "
   ]
  },
  {
   "cell_type": "code",
   "execution_count": 17,
   "metadata": {},
   "outputs": [],
   "source": [
    "class MatrixRow:\n",
    "    def __init__(self, row):\n",
    "        self._row = row\n",
    "\n",
    "    def __getitem__(self, j):\n",
    "        return self._row[j-1]\n",
    "        \n",
    "    def __setitem__(self, j, num): \n",
    "        if not isinstance(num, (int, float)):\n",
    "            raise ValueError(\"Matrix entries must be numbers\")\n",
    "        self._row[j-1] = num \n",
    "\n",
    "    def __repr__(self):\n",
    "        return repr(self._row)\n",
    "\n",
    "    def __len__(self):\n",
    "        return len(self._row)\n",
    "\n",
    "class Matrix:\n",
    "    def __init__(self,matrix_data=None,n_rows=1,m_cols=1):\n",
    "        if matrix_data == None:\n",
    "            self._n_rows = abs(int(n_rows))\n",
    "            self._m_cols = abs(int(m_cols))\n",
    "            self._matrix = list(self.zero_matrix(self._n_rows, self._m_cols))\n",
    "    #def make_matrix(self,matrix_data):\n",
    "        #pre-existing matrix/list\n",
    "        else:\n",
    "            self._matrix = matrix_data\n",
    "            self._n_rows = len(matrix_data)\n",
    "            for ind in range(self._n_rows-1):\n",
    "                if len(self._matrix[ind]) != len(self._matrix[ind+1]):\n",
    "                    raise ValueError(\"Invalid Matrix\")\n",
    "            self._m_cols = len(matrix_data[0]) if self._n_rows > 0 else 0\n",
    "        \n",
    "    def zero_matrix(self,n_rows,m_cols):\n",
    "        m = list()\n",
    "        \n",
    "        for rows in range(n_rows):\n",
    "            line = list()\n",
    "            for cols in range(m_cols):\n",
    "                line.append(0)\n",
    "            m.append(line)\n",
    "\n",
    "        m=list(m)\n",
    "        return m\n",
    "\n",
    "    def __getitem__(self,ind):\n",
    "        if isinstance(ind, tuple):\n",
    "            #M[i,j]        \n",
    "            i, j = ind\n",
    "            return self._matrix[i-1][j-1]\n",
    "\n",
    "        #M[i][j]    \n",
    "        elif isinstance(ind, int):\n",
    "            return self.row(ind)\n",
    "   \n",
    "    def __setitem__(self,ind,num):\n",
    "        t = type(num)\n",
    "        if t != int and t != float: #make sure values are only numbers\n",
    "            raise ValueError(\"Matrix entries must be numbers\")\n",
    "        else:\n",
    "            #M[i,j]\n",
    "            if isinstance(ind, tuple):\n",
    "                i, j = ind\n",
    "                self._matrix[i-1][j-1] = num\n",
    "            #M[i][j]\n",
    "            else:\n",
    "                print(ind,j)\n",
    "                self._row(ind)[j] = num\n",
    "\n",
    "    def __len__(self,i=None):\n",
    "        if i == None:\n",
    "            return self._n_rows\n",
    "        else:\n",
    "            return self._m_cols\n",
    "\n",
    "    def __call__(self,i,j):\n",
    "        return self._matrix[i-1][j-1]\n",
    "\n",
    "    def __repr__(self):  \n",
    "        return \"\\n\".join(str(row) for row in self._matrix)\n",
    "\n",
    "#####################################################################################################################################\n",
    "    def shape(self):\n",
    "        return (self._n_rows,self._m_cols)\n",
    "\n",
    "    def transpose(self):\n",
    "        T = list()\n",
    "        for col_num in range(self._m_cols):\n",
    "            new_row=list()\n",
    "            for row_num in range(self._n_rows):\n",
    "                new_row.append(self._matrix[row_num][col_num])\n",
    "            T.append(new_row)\n",
    "        matrix_T = Matrix(None,self._m_cols, self._n_rows)\n",
    "        matrix_T._matrix = T\n",
    "        return matrix_T\n",
    "\n",
    "    def row(self,n):\n",
    "        return MatrixRow(self._matrix[n-1])\n",
    "    def column(self,n):\n",
    "        col = [self._matrix[row_num][n-1] for row_num in range(self._n_rows)]\n",
    "        return col\n",
    "\n",
    "    def to_list(self):\n",
    "        l = list()\n",
    "        for row_num in range(self._n_rows):\n",
    "            row = self._matrix[row_num]\n",
    "            l.append(list(row))\n",
    "        return l\n",
    "\n",
    "    def block(self,n_0,n_1,m_0,m_1):\n",
    "        n_0,n_1,m_0,m_1 = int(n_0),int(n_1),int(m_0),int(m_1)\n",
    "        cut = list()\n",
    "        for row in range(n_0,n_1+1):\n",
    "            new_row=list()\n",
    "            for col in range(m_0,m_1+1):\n",
    "                new_row.append(self._matrix[row-1][col-1])\n",
    "            cut.append(new_row)\n",
    "        block=Matrix(cut)\n",
    "        return block"
   ]
  },
  {
   "cell_type": "code",
   "execution_count": 18,
   "metadata": {},
   "outputs": [
    {
     "data": {
      "text/plain": [
       "[0, 0, 0, 0, 0]\n",
       "[0, 0, 0, 0, 0]\n",
       "[0, 0, 0, 0, 0]"
      ]
     },
     "execution_count": 18,
     "metadata": {},
     "output_type": "execute_result"
    }
   ],
   "source": [
    "test2 = Matrix(None,3,5)\n",
    "test2"
   ]
  },
  {
   "cell_type": "code",
   "execution_count": 19,
   "metadata": {},
   "outputs": [
    {
     "name": "stdout",
     "output_type": "stream",
     "text": [
      "0\n",
      "1\n",
      "2\n",
      "3\n"
     ]
    }
   ],
   "source": [
    "for x in range(1,4+1):\n",
    "    print(x-1)"
   ]
  },
  {
   "cell_type": "code",
   "execution_count": 29,
   "metadata": {},
   "outputs": [
    {
     "ename": "IndexError",
     "evalue": "list index out of range",
     "output_type": "error",
     "traceback": [
      "\u001b[0;31m---------------------------------------------------------------------------\u001b[0m",
      "\u001b[0;31mIndexError\u001b[0m                                Traceback (most recent call last)",
      "Cell \u001b[0;32mIn[29], line 1\u001b[0m\n\u001b[0;32m----> 1\u001b[0m test2[\u001b[38;5;241m7\u001b[39m][\u001b[38;5;241m2\u001b[39m]\u001b[38;5;241m=\u001b[39m\u001b[38;5;241m5\u001b[39m\n\u001b[1;32m      2\u001b[0m test2\n",
      "Cell \u001b[0;32mIn[17], line 55\u001b[0m, in \u001b[0;36mMatrix.__getitem__\u001b[0;34m(self, ind)\u001b[0m\n\u001b[1;32m     53\u001b[0m \u001b[38;5;66;03m#M[i][j]    \u001b[39;00m\n\u001b[1;32m     54\u001b[0m \u001b[38;5;28;01melif\u001b[39;00m \u001b[38;5;28misinstance\u001b[39m(ind, \u001b[38;5;28mint\u001b[39m):\n\u001b[0;32m---> 55\u001b[0m     \u001b[38;5;28;01mreturn\u001b[39;00m \u001b[38;5;28mself\u001b[39m\u001b[38;5;241m.\u001b[39mrow(ind)\n",
      "Cell \u001b[0;32mIn[17], line 99\u001b[0m, in \u001b[0;36mMatrix.row\u001b[0;34m(self, n)\u001b[0m\n\u001b[1;32m     98\u001b[0m \u001b[38;5;28;01mdef\u001b[39;00m \u001b[38;5;21mrow\u001b[39m(\u001b[38;5;28mself\u001b[39m,n):\n\u001b[0;32m---> 99\u001b[0m     \u001b[38;5;28;01mreturn\u001b[39;00m MatrixRow(\u001b[38;5;28mself\u001b[39m\u001b[38;5;241m.\u001b[39m_matrix[n\u001b[38;5;241m-\u001b[39m\u001b[38;5;241m1\u001b[39m])\n",
      "\u001b[0;31mIndexError\u001b[0m: list index out of range"
     ]
    }
   ],
   "source": [
    "test2[7][2]=5\n",
    "test2"
   ]
  },
  {
   "cell_type": "code",
   "execution_count": 31,
   "metadata": {},
   "outputs": [
    {
     "data": {
      "text/plain": [
       "[0, 0, 0, 0, 0]\n",
       "[0, 5, 0, 0, 0]\n",
       "[0, 0, 0, 0, 0]"
      ]
     },
     "execution_count": 31,
     "metadata": {},
     "output_type": "execute_result"
    }
   ],
   "source": [
    "test2[2][2]=5\n",
    "test2"
   ]
  },
  {
   "cell_type": "code",
   "execution_count": 33,
   "metadata": {},
   "outputs": [
    {
     "data": {
      "text/plain": [
       "[0, 4, 0, 0, 0]\n",
       "[0, 5, 0, 0, 0]\n",
       "[0, 0, 0, 0, 0]"
      ]
     },
     "execution_count": 33,
     "metadata": {},
     "output_type": "execute_result"
    }
   ],
   "source": [
    "test2[1,2]=4\n",
    "test2"
   ]
  },
  {
   "cell_type": "code",
   "execution_count": 35,
   "metadata": {},
   "outputs": [
    {
     "data": {
      "text/plain": [
       "4"
      ]
     },
     "execution_count": 35,
     "metadata": {},
     "output_type": "execute_result"
    }
   ],
   "source": [
    "test2[1][2]"
   ]
  },
  {
   "cell_type": "code",
   "execution_count": 37,
   "metadata": {},
   "outputs": [
    {
     "data": {
      "text/plain": [
       "0"
      ]
     },
     "execution_count": 37,
     "metadata": {},
     "output_type": "execute_result"
    }
   ],
   "source": [
    "test2[2,4]"
   ]
  },
  {
   "cell_type": "code",
   "execution_count": 39,
   "metadata": {},
   "outputs": [
    {
     "ename": "ValueError",
     "evalue": "Matrix entries must be numbers",
     "output_type": "error",
     "traceback": [
      "\u001b[0;31m---------------------------------------------------------------------------\u001b[0m",
      "\u001b[0;31mValueError\u001b[0m                                Traceback (most recent call last)",
      "Cell \u001b[0;32mIn[39], line 1\u001b[0m\n\u001b[0;32m----> 1\u001b[0m test2[\u001b[38;5;241m1\u001b[39m][\u001b[38;5;241m2\u001b[39m]\u001b[38;5;241m=\u001b[39m[\u001b[38;5;241m9\u001b[39m,\u001b[38;5;241m8\u001b[39m,\u001b[38;5;241m7\u001b[39m]\n\u001b[1;32m      2\u001b[0m test2\n",
      "Cell \u001b[0;32mIn[17], line 10\u001b[0m, in \u001b[0;36mMatrixRow.__setitem__\u001b[0;34m(self, j, num)\u001b[0m\n\u001b[1;32m      8\u001b[0m \u001b[38;5;28;01mdef\u001b[39;00m \u001b[38;5;21m__setitem__\u001b[39m(\u001b[38;5;28mself\u001b[39m, j, num): \n\u001b[1;32m      9\u001b[0m     \u001b[38;5;28;01mif\u001b[39;00m \u001b[38;5;129;01mnot\u001b[39;00m \u001b[38;5;28misinstance\u001b[39m(num, (\u001b[38;5;28mint\u001b[39m, \u001b[38;5;28mfloat\u001b[39m)):\n\u001b[0;32m---> 10\u001b[0m         \u001b[38;5;28;01mraise\u001b[39;00m \u001b[38;5;167;01mValueError\u001b[39;00m(\u001b[38;5;124m\"\u001b[39m\u001b[38;5;124mMatrix entries must be numbers\u001b[39m\u001b[38;5;124m\"\u001b[39m)\n\u001b[1;32m     11\u001b[0m     \u001b[38;5;28mself\u001b[39m\u001b[38;5;241m.\u001b[39m_row[j\u001b[38;5;241m-\u001b[39m\u001b[38;5;241m1\u001b[39m] \u001b[38;5;241m=\u001b[39m num\n",
      "\u001b[0;31mValueError\u001b[0m: Matrix entries must be numbers"
     ]
    }
   ],
   "source": [
    "test2[1][2]=[9,8,7]\n",
    "test2"
   ]
  },
  {
   "cell_type": "code",
   "execution_count": 41,
   "metadata": {},
   "outputs": [
    {
     "data": {
      "text/plain": [
       "[0, 4, 0, 0, 0]\n",
       "[0, 5, 0, 0, 0]\n",
       "[0, 0, 0, 0, 0]"
      ]
     },
     "execution_count": 41,
     "metadata": {},
     "output_type": "execute_result"
    }
   ],
   "source": [
    "test2"
   ]
  },
  {
   "cell_type": "code",
   "execution_count": 43,
   "metadata": {},
   "outputs": [
    {
     "data": {
      "text/plain": [
       "[0, 5, 0, 0, 0]"
      ]
     },
     "execution_count": 43,
     "metadata": {},
     "output_type": "execute_result"
    }
   ],
   "source": [
    "test2.row(2)"
   ]
  },
  {
   "cell_type": "code",
   "execution_count": 45,
   "metadata": {},
   "outputs": [
    {
     "data": {
      "text/plain": [
       "[4, 5, 0]"
      ]
     },
     "execution_count": 45,
     "metadata": {},
     "output_type": "execute_result"
    }
   ],
   "source": [
    "test2.column(2)"
   ]
  },
  {
   "cell_type": "code",
   "execution_count": 47,
   "metadata": {},
   "outputs": [
    {
     "data": {
      "text/plain": [
       "(3, 5)"
      ]
     },
     "execution_count": 47,
     "metadata": {},
     "output_type": "execute_result"
    }
   ],
   "source": [
    "test2.shape()"
   ]
  },
  {
   "cell_type": "code",
   "execution_count": 49,
   "metadata": {},
   "outputs": [
    {
     "data": {
      "text/plain": [
       "[0, 0, 0]\n",
       "[4, 5, 0]\n",
       "[0, 0, 0]\n",
       "[0, 0, 0]\n",
       "[0, 0, 0]"
      ]
     },
     "execution_count": 49,
     "metadata": {},
     "output_type": "execute_result"
    }
   ],
   "source": [
    "test2.transpose()"
   ]
  },
  {
   "cell_type": "code",
   "execution_count": 51,
   "metadata": {},
   "outputs": [
    {
     "name": "stdout",
     "output_type": "stream",
     "text": [
      "[[0, 4, 0, 0, 0], [0, 5, 0, 0, 0], [0, 0, 0, 0, 0]]\n",
      "<class 'list'>\n"
     ]
    }
   ],
   "source": [
    "test_list=test2.to_list()\n",
    "print(test_list,type(test_list),sep=\"\\n\")"
   ]
  },
  {
   "cell_type": "code",
   "execution_count": 53,
   "metadata": {},
   "outputs": [
    {
     "data": {
      "text/plain": [
       "__main__.Matrix"
      ]
     },
     "execution_count": 53,
     "metadata": {},
     "output_type": "execute_result"
    }
   ],
   "source": [
    "new=Matrix(test_list)\n",
    "type(new)"
   ]
  },
  {
   "cell_type": "code",
   "execution_count": 55,
   "metadata": {},
   "outputs": [
    {
     "data": {
      "text/plain": [
       "[0, 4, 0, 0, 0]\n",
       "[0, 5, 0, 0, 0]\n",
       "[0, 0, 0, 0, 0]"
      ]
     },
     "execution_count": 55,
     "metadata": {},
     "output_type": "execute_result"
    }
   ],
   "source": [
    "test2"
   ]
  },
  {
   "cell_type": "code",
   "execution_count": 57,
   "metadata": {},
   "outputs": [
    {
     "data": {
      "text/plain": [
       "0"
      ]
     },
     "execution_count": 57,
     "metadata": {},
     "output_type": "execute_result"
    }
   ],
   "source": [
    "test2[3,1]"
   ]
  },
  {
   "cell_type": "code",
   "execution_count": 59,
   "metadata": {},
   "outputs": [
    {
     "data": {
      "text/plain": [
       "[4, 0]\n",
       "[5, 0]"
      ]
     },
     "execution_count": 59,
     "metadata": {},
     "output_type": "execute_result"
    }
   ],
   "source": [
    "test2.block(1,2,2,3)"
   ]
  },
  {
   "cell_type": "markdown",
   "metadata": {},
   "source": [
    "3. Write functions that create special matrices (note these are standalone functions, not member functions of your `matrix` class):\n",
    "    * `constant(n,m,c)`: returns a `n` by `m` matrix filled with floats of value `c`.\n",
    "    * `zeros(n,m)` and `ones(n,m)`: return `n` by `m` matrices filled with floats of value `0` and `1`, respectively.\n",
    "    * `eye(n)`: returns the n by n identity matrix."
   ]
  },
  {
   "cell_type": "code",
   "execution_count": 62,
   "metadata": {},
   "outputs": [
    {
     "data": {
      "text/plain": [
       "[-2.5, -2.5]\n",
       "[-2.5, -2.5]"
      ]
     },
     "execution_count": 62,
     "metadata": {},
     "output_type": "execute_result"
    }
   ],
   "source": [
    "def constant(n,m,c):\n",
    "    new_matrix = Matrix(None,n,m)\n",
    "    for row_num in range(0,n):\n",
    "        for col_num in range(0,m):\n",
    "            new_matrix[row_num,col_num]=c\n",
    "    return new_matrix\n",
    "\n",
    "constant(2,2,-2.5)"
   ]
  },
  {
   "cell_type": "code",
   "execution_count": 64,
   "metadata": {},
   "outputs": [
    {
     "data": {
      "text/plain": [
       "[0, 0]\n",
       "[0, 0]\n",
       "[0, 0]\n",
       "[0, 0]\n",
       "[0, 0]"
      ]
     },
     "execution_count": 64,
     "metadata": {},
     "output_type": "execute_result"
    }
   ],
   "source": [
    "def zeros(n,m):\n",
    "    return Matrix(None,n,m)\n",
    "\n",
    "zeros(5,2)"
   ]
  },
  {
   "cell_type": "code",
   "execution_count": 66,
   "metadata": {},
   "outputs": [
    {
     "data": {
      "text/plain": [
       "[1, 1, 1]\n",
       "[1, 1, 1]\n",
       "[1, 1, 1]"
      ]
     },
     "execution_count": 66,
     "metadata": {},
     "output_type": "execute_result"
    }
   ],
   "source": [
    "def ones(n,m):\n",
    "    return constant(n,m,1)\n",
    "\n",
    "ones(3,3)"
   ]
  },
  {
   "cell_type": "code",
   "execution_count": 68,
   "metadata": {},
   "outputs": [
    {
     "data": {
      "text/plain": [
       "[1, 0, 0, 0]\n",
       "[0, 1, 0, 0]\n",
       "[0, 0, 1, 0]\n",
       "[0, 0, 0, 1]"
      ]
     },
     "execution_count": 68,
     "metadata": {},
     "output_type": "execute_result"
    }
   ],
   "source": [
    "def eye(n):\n",
    "    matrix = zeros(n,n)\n",
    "    for row_num in range(0,n):\n",
    "        matrix[row_num,row_num] = 1\n",
    "    return matrix\n",
    "\n",
    "eye(4)"
   ]
  },
  {
   "cell_type": "markdown",
   "metadata": {},
   "source": [
    "4. Add the following member functions to your class. Make sure to appropriately test the dimensions of the matrices to make sure the operations are correct.\n",
    "    * `M.scalarmul(c)`: a matrix that is scalar product $cM$, where every element of $M$ is multiplied by $c$.\n",
    "    * `M.add(N)`: adds two matrices $M$ and $N$. Don’t forget to test that the sizes of the matrices are compatible for this and all other operations.\n",
    "    * `M.sub(N)`: subtracts two matrices $M$ and $N$.\n",
    "    * `M.mat_mult(N)`: returns a matrix that is the matrix product of two matrices $M$ and $N$.\n",
    "    * `M.element_mult(N)`: returns a matrix that is the element-wise product of two matrices $M$ and $N$.\n",
    "    * `M.equals(N)`: returns true/false if $M==N$."
   ]
  },
  {
   "cell_type": "code",
   "execution_count": 387,
   "metadata": {},
   "outputs": [],
   "source": [
    "class MatrixRow:\n",
    "    def __init__(self, row):\n",
    "        self._row = row\n",
    "\n",
    "    def __getitem__(self, j):\n",
    "        return self._row[j-1]\n",
    "        \n",
    "    def __setitem__(self, j, num): \n",
    "        if not isinstance(num, (int, float)):\n",
    "            raise ValueError(\"Matrix entries must be numbers\")\n",
    "        self._row[j-1] = num \n",
    "\n",
    "    def __repr__(self):\n",
    "        return repr(self._row)\n",
    "\n",
    "    def __len__(self):\n",
    "        return len(self._row)\n",
    "\n",
    "    def element_mult(self,other):\n",
    "        if len(self) != len(other):\n",
    "            raise ValueError(\"Must be same size\")               \n",
    "        prod=list()\n",
    "        for entry in range(len(self)):\n",
    "            prod.append(self[entry]*other[entry])\n",
    "        return prod\n",
    "\n",
    "class Matrix:\n",
    "    def __init__(self,matrix_data=None,n_rows=1,m_cols=1):\n",
    "        if matrix_data == None:\n",
    "            self._n_rows = abs(int(n_rows))\n",
    "            self._m_cols = abs(int(m_cols))\n",
    "            self._matrix = self.zero_matrix(self._n_rows,self._m_cols)\n",
    "\n",
    "        else:\n",
    "            self._matrix = matrix_data\n",
    "            self._n_rows = len(matrix_data)\n",
    "            for ind in range(self._n_rows-1):\n",
    "                if len(self._matrix[ind]) != len(self._matrix[ind+1]):\n",
    "                    raise ValueError(\"Invalid Matrix\")\n",
    "            self._m_cols = len(matrix_data[0]) if self._n_rows > 0 else 0\n",
    "        \n",
    "    def zero_matrix(self,n_rows,m_cols):\n",
    "        m = list()\n",
    "        \n",
    "        for rows in range(n_rows):\n",
    "            line = list()\n",
    "            for cols in range(m_cols):\n",
    "                line.append(0)\n",
    "            m.append(line)\n",
    "\n",
    "        m=list(m)\n",
    "        return m\n",
    "\n",
    "    def __getitem__(self,ind):\n",
    "        if isinstance(ind, tuple):\n",
    "            #M[i,j]        \n",
    "            i, j = ind\n",
    "            return self._matrix[i-1][j-1]\n",
    "\n",
    "        #M[i][j]    \n",
    "        elif isinstance(ind, int):\n",
    "            return self.row(ind)\n",
    "   \n",
    "    def __setitem__(self,ind,num):\n",
    "        t = type(num)\n",
    "        if t != int and t != float: #make sure values are only numbers\n",
    "            raise ValueError(\"Matrix entries must be numbers\")\n",
    "        else:\n",
    "            #M[i,j]\n",
    "            if isinstance(ind, tuple):\n",
    "                i, j = ind\n",
    "                self._matrix[i-1][j-1] = num\n",
    "            #M[i][j]\n",
    "            else:\n",
    "                print(ind,j)\n",
    "                self._row(ind)[j] = num\n",
    "\n",
    "    def __len__(self,i=None):\n",
    "        if i == None:\n",
    "            return self._n_rows\n",
    "        else:\n",
    "            return self._m_cols\n",
    "\n",
    "    def __call__(self,i,j):\n",
    "        return self._matrix[i-1][j-1]\n",
    "\n",
    "    def __repr__(self):  \n",
    "        return \"\\n\".join(str(row) for row in self._matrix)\n",
    "\n",
    "    def shape(self):\n",
    "        return (self._n_rows,self._m_cols)\n",
    "\n",
    "    def transpose(self):\n",
    "        T = list()\n",
    "        for col_num in range(self._m_cols):\n",
    "            new_row=list()\n",
    "            for row_num in range(self._n_rows):\n",
    "                new_row.append(self._matrix[row_num][col_num])\n",
    "            T.append(new_row)\n",
    "        matrix_T = Matrix(None,self._m_cols, self._n_rows)\n",
    "        matrix_T._matrix = T\n",
    "        return matrix_T\n",
    "\n",
    "    def row(self,n):\n",
    "        return MatrixRow(self._matrix[n-1])\n",
    "    def column(self,n):\n",
    "        col = [self._matrix[row_num][n-1] for row_num in range(self._n_rows)]\n",
    "        return col\n",
    "\n",
    "    def to_list(self):\n",
    "        l = list()\n",
    "        for row_num in range(self._n_rows):\n",
    "            row = self._matrix[row_num]\n",
    "            l.append(list(row))\n",
    "        return l\n",
    "\n",
    "    def block(self,n_0,n_1,m_0,m_1):\n",
    "        n_0,n_1,m_0,m_1 = int(n_0),int(n_1),int(m_0),int(m_1)\n",
    "        cut = list()\n",
    "        for row in range(n_0,n_1+1):\n",
    "            new_row=list()\n",
    "            for col in range(m_0,m_1+1):\n",
    "                new_row.append(self._matrix[row-1][col-1])\n",
    "            cut.append(new_row)\n",
    "        block=Matrix(cut)\n",
    "        return block\n",
    "\n",
    "#####################################################################################################################################\n",
    "#####################################################################################################################################\n",
    "\n",
    "    def scalarmul(self,c):\n",
    "        new=self._matrix\n",
    "        for row_num in range(0,self._n_rows):\n",
    "            for col_num in range(0,self._m_cols):\n",
    "                new[row_num][col_num] *= c\n",
    "        new=Matrix(self._matrix)\n",
    "        return new\n",
    "\n",
    "    def add(self, other):\n",
    "        if self._n_rows != other._n_rows or self._m_cols != other._m_cols:\n",
    "            raise ValueError(\"Matrices must be same size\")\n",
    "        else:\n",
    "            sum = Matrix(None,self._n_rows,self._m_cols)\n",
    "            for row_num in range(1,self._n_rows+1):\n",
    "                for col_num in range(1,self._m_cols+1):\n",
    "                    sum[row_num][col_num] = self[row_num][col_num]+other[row_num][col_num]\n",
    "            return sum\n",
    "\n",
    "    def sub(self,other):\n",
    "        if self._n_rows != other._n_rows or self._m_cols != other._m_cols:\n",
    "            raise ValueError(\"Matrices must be same size\")\n",
    "        else:\n",
    "            other_negative = other.scalarmul(-1)\n",
    "            return self.add(other_negative)\n",
    "\n",
    "    def mat_mult(self,other):\n",
    "        if self._m_cols != other._n_rows:\n",
    "            raise ValueError(\"Multiplication is not defined\")\n",
    "        else:\n",
    "            product = ones(self._n_rows,other._m_cols)\n",
    "            other_T = other.transpose()\n",
    "            for row_num in range(1,self._n_rows+1):\n",
    "                for col_num in range(1,other._m_cols+1):\n",
    "                    \n",
    "                    row1=self.row(row_num)\n",
    "                    row2=other_T.row(col_num)\n",
    "                    prod1 = row1.element_mult(row2)\n",
    "                    row_sum = sum(prod1)\n",
    "\n",
    "                    product[row_num][col_num] = row_sum\n",
    "            return product       \n",
    "                    #for col_num2 in range(1,other._m_cols+1):\n",
    "                        #for row_num2 in range (1,other._n_rows+1):\n",
    "                            #product[row_num,col_num]\n",
    "    \n",
    "    def element_mult(self,other):\n",
    "        if self._n_rows != other._n_rows or self._m_cols != other._m_cols:\n",
    "            raise ValueError(\"Matrices must be same size\")\n",
    "        else:\n",
    "            product = ones(self._n_rows,self._m_cols)\n",
    "            for row_num in range(1,self._n_rows+1):\n",
    "                for col_num in range(1,self._m_cols+1):\n",
    "                    product[row_num][col_num]=self[row_num][col_num]*other[row_num][col_num]\n",
    "            return product\n",
    "\n",
    "    def equals(self,other):\n",
    "        if self._n_rows != other._n_rows or self._m_cols != other._m_cols:\n",
    "            return False\n",
    "        else:\n",
    "            for row_num in range(1,self._n_rows+1):\n",
    "                for col_num in range(1,self._m_cols+1):\n",
    "                    if self._matrix[row_num-1][col_num-1] == other._matrix[row_num-1][col_num-1]:\n",
    "                        continue\n",
    "                    else:\n",
    "                        return False\n",
    "            return True"
   ]
  },
  {
   "cell_type": "code",
   "execution_count": 389,
   "metadata": {},
   "outputs": [
    {
     "data": {
      "text/plain": [
       "[3, 3, 3]\n",
       "[3, 3, 3]\n",
       "[3, 3, 3]"
      ]
     },
     "execution_count": 389,
     "metadata": {},
     "output_type": "execute_result"
    }
   ],
   "source": [
    "threes=constant(3,3,3)\n",
    "threes"
   ]
  },
  {
   "cell_type": "code",
   "execution_count": 391,
   "metadata": {},
   "outputs": [
    {
     "data": {
      "text/plain": [
       "[9, 9, 9]\n",
       "[9, 9, 9]\n",
       "[9, 9, 9]"
      ]
     },
     "execution_count": 391,
     "metadata": {},
     "output_type": "execute_result"
    }
   ],
   "source": [
    "threes.scalarmul(3)"
   ]
  },
  {
   "cell_type": "code",
   "execution_count": 393,
   "metadata": {},
   "outputs": [
    {
     "data": {
      "text/plain": [
       "[1.0, 1.0, 1.0]\n",
       "[1.0, 1.0, 1.0]\n",
       "[1.0, 1.0, 1.0]"
      ]
     },
     "execution_count": 393,
     "metadata": {},
     "output_type": "execute_result"
    }
   ],
   "source": [
    "threes.scalarmul(1/9)"
   ]
  },
  {
   "cell_type": "code",
   "execution_count": 395,
   "metadata": {},
   "outputs": [
    {
     "data": {
      "text/plain": [
       "[1, 0, 0]\n",
       "[0, 1, 0]\n",
       "[0, 0, 1]"
      ]
     },
     "execution_count": 395,
     "metadata": {},
     "output_type": "execute_result"
    }
   ],
   "source": [
    "i3=eye(3)\n",
    "i3"
   ]
  },
  {
   "cell_type": "code",
   "execution_count": 397,
   "metadata": {},
   "outputs": [
    {
     "data": {
      "text/plain": [
       "[2.0, 1.0, 1.0]\n",
       "[1.0, 2.0, 1.0]\n",
       "[1.0, 1.0, 2.0]"
      ]
     },
     "execution_count": 397,
     "metadata": {},
     "output_type": "execute_result"
    }
   ],
   "source": [
    "summed=i3.add(threes)\n",
    "summed"
   ]
  },
  {
   "cell_type": "code",
   "execution_count": 399,
   "metadata": {},
   "outputs": [
    {
     "data": {
      "text/plain": [
       "[0.0, 1.0, 1.0]\n",
       "[1.0, 0.0, 1.0]\n",
       "[1.0, 1.0, 0.0]"
      ]
     },
     "execution_count": 399,
     "metadata": {},
     "output_type": "execute_result"
    }
   ],
   "source": [
    "diff = threes.sub(i3)\n",
    "diff"
   ]
  },
  {
   "cell_type": "code",
   "execution_count": 401,
   "metadata": {},
   "outputs": [
    {
     "data": {
      "text/plain": [
       "[10, 12]\n",
       "[10, 12]"
      ]
     },
     "execution_count": 401,
     "metadata": {},
     "output_type": "execute_result"
    }
   ],
   "source": [
    "twos = constant(2,2,2)\n",
    "l = [[3,3],[2,3]]\n",
    "M = Matrix(l)\n",
    "\n",
    "twos.mat_mult(M)"
   ]
  },
  {
   "cell_type": "code",
   "execution_count": 403,
   "metadata": {},
   "outputs": [
    {
     "name": "stdout",
     "output_type": "stream",
     "text": [
      "[0.0, 1.0, 1.0]\n",
      "[1.0, 0.0, 1.0]\n",
      "[1.0, 1.0, 0.0]\n",
      "\n",
      "[2, 2]\n",
      "[2, 2]\n",
      "\n"
     ]
    },
    {
     "ename": "ValueError",
     "evalue": "Multiplication is not defined",
     "output_type": "error",
     "traceback": [
      "\u001b[0;31m---------------------------------------------------------------------------\u001b[0m",
      "\u001b[0;31mValueError\u001b[0m                                Traceback (most recent call last)",
      "Cell \u001b[0;32mIn[403], line 2\u001b[0m\n\u001b[1;32m      1\u001b[0m \u001b[38;5;28mprint\u001b[39m(diff,twos,sep\u001b[38;5;241m=\u001b[39m\u001b[38;5;124m\"\u001b[39m\u001b[38;5;130;01m\\n\u001b[39;00m\u001b[38;5;130;01m\\n\u001b[39;00m\u001b[38;5;124m\"\u001b[39m,end\u001b[38;5;241m=\u001b[39m\u001b[38;5;124m\"\u001b[39m\u001b[38;5;130;01m\\n\u001b[39;00m\u001b[38;5;130;01m\\n\u001b[39;00m\u001b[38;5;124m\"\u001b[39m)\n\u001b[0;32m----> 2\u001b[0m diff\u001b[38;5;241m.\u001b[39mmat_mult(twos)\n",
      "Cell \u001b[0;32mIn[387], line 158\u001b[0m, in \u001b[0;36mMatrix.mat_mult\u001b[0;34m(self, other)\u001b[0m\n\u001b[1;32m    156\u001b[0m \u001b[38;5;28;01mdef\u001b[39;00m \u001b[38;5;21mmat_mult\u001b[39m(\u001b[38;5;28mself\u001b[39m,other):\n\u001b[1;32m    157\u001b[0m     \u001b[38;5;28;01mif\u001b[39;00m \u001b[38;5;28mself\u001b[39m\u001b[38;5;241m.\u001b[39m_m_cols \u001b[38;5;241m!=\u001b[39m other\u001b[38;5;241m.\u001b[39m_n_rows:\n\u001b[0;32m--> 158\u001b[0m         \u001b[38;5;28;01mraise\u001b[39;00m \u001b[38;5;167;01mValueError\u001b[39;00m(\u001b[38;5;124m\"\u001b[39m\u001b[38;5;124mMultiplication is not defined\u001b[39m\u001b[38;5;124m\"\u001b[39m)\n\u001b[1;32m    159\u001b[0m     \u001b[38;5;28;01melse\u001b[39;00m:\n\u001b[1;32m    160\u001b[0m         product \u001b[38;5;241m=\u001b[39m ones(\u001b[38;5;28mself\u001b[39m\u001b[38;5;241m.\u001b[39m_n_rows,other\u001b[38;5;241m.\u001b[39m_m_cols)\n",
      "\u001b[0;31mValueError\u001b[0m: Multiplication is not defined"
     ]
    }
   ],
   "source": [
    "print(diff,twos,sep=\"\\n\\n\",end=\"\\n\\n\")\n",
    "diff.mat_mult(twos)"
   ]
  },
  {
   "cell_type": "code",
   "execution_count": 405,
   "metadata": {},
   "outputs": [
    {
     "data": {
      "text/plain": [
       "[0.0, 9.0, 9.0]\n",
       "[9.0, 0.0, 9.0]\n",
       "[9.0, 9.0, 0.0]"
      ]
     },
     "execution_count": 405,
     "metadata": {},
     "output_type": "execute_result"
    }
   ],
   "source": [
    "nines = constant(3,3,9)\n",
    "nines.element_mult(diff)"
   ]
  },
  {
   "cell_type": "code",
   "execution_count": 413,
   "metadata": {},
   "outputs": [],
   "source": [
    "nines_2 = constant(2,2,9)"
   ]
  },
  {
   "cell_type": "code",
   "execution_count": 415,
   "metadata": {},
   "outputs": [
    {
     "name": "stdout",
     "output_type": "stream",
     "text": [
      "[9, 9, 9]\n",
      "[9, 9, 9]\n",
      "[9, 9, 9]\n",
      "\n",
      "[9, 9]\n",
      "[9, 9]\n"
     ]
    },
    {
     "data": {
      "text/plain": [
       "False"
      ]
     },
     "execution_count": 415,
     "metadata": {},
     "output_type": "execute_result"
    }
   ],
   "source": [
    "print(nines,nines_2,sep=\"\\n\\n\")\n",
    "nines.equals(nines_2)"
   ]
  },
  {
   "cell_type": "code",
   "execution_count": 409,
   "metadata": {},
   "outputs": [
    {
     "name": "stdout",
     "output_type": "stream",
     "text": [
      "[0, 0, 0]\n",
      "[0, 0, 0]\n",
      "[0, 0, 0]\n",
      "\n",
      "[0, 0, 0]\n",
      "[0, 0, 0]\n",
      "[0, 0, 0]\n"
     ]
    },
    {
     "data": {
      "text/plain": [
       "True"
      ]
     },
     "execution_count": 409,
     "metadata": {},
     "output_type": "execute_result"
    }
   ],
   "source": [
    "one=Matrix(None,3,3)\n",
    "two=zeros(3,3)\n",
    "print(one,two,sep=\"\\n\\n\")\n",
    "one.equals(two)"
   ]
  },
  {
   "cell_type": "markdown",
   "metadata": {},
   "source": [
    "5. Overload python operators to appropriately use your functions in 4 and allow expressions like:\n",
    "    * 2*M\n",
    "    * M*2\n",
    "    * M+N\n",
    "    * M-N\n",
    "    * M*N\n",
    "    * M==N\n",
    "    * M=N\n"
   ]
  },
  {
   "cell_type": "code",
   "execution_count": 439,
   "metadata": {},
   "outputs": [],
   "source": [
    "class MatrixRow:\n",
    "    def __init__(self, row):\n",
    "        self._row = row\n",
    "\n",
    "    def __getitem__(self, j):\n",
    "        return self._row[j-1]\n",
    "        \n",
    "    def __setitem__(self, j, num): \n",
    "        if not isinstance(num, (int, float)):\n",
    "            raise ValueError(\"Matrix entries must be numbers\")\n",
    "        self._row[j-1] = num \n",
    "\n",
    "    def __repr__(self):\n",
    "        return repr(self._row)\n",
    "\n",
    "    def __len__(self):\n",
    "        return len(self._row)\n",
    "\n",
    "    def element_mult(self,other):\n",
    "        if len(self) != len(other):\n",
    "            raise ValueError(\"Must be same size\")               \n",
    "        prod=list()\n",
    "        for entry in range(len(self)):\n",
    "            prod.append(self[entry]*other[entry])\n",
    "        return prod\n",
    "\n",
    "class Matrix:\n",
    "    def __init__(self,matrix_data=None,n_rows=1,m_cols=1):\n",
    "        if matrix_data == None:\n",
    "            self._n_rows = abs(int(n_rows))\n",
    "            self._m_cols = abs(int(m_cols))\n",
    "            self._matrix = self.zero_matrix(self._n_rows,self._m_cols)\n",
    "\n",
    "        else:\n",
    "            self._matrix = matrix_data\n",
    "            self._n_rows = len(matrix_data)\n",
    "            for ind in range(self._n_rows-1):\n",
    "                if len(self._matrix[ind]) != len(self._matrix[ind+1]):\n",
    "                    raise ValueError(\"Invalid Matrix\")\n",
    "            self._m_cols = len(matrix_data[0]) if self._n_rows > 0 else 0\n",
    "        \n",
    "    def zero_matrix(self,n_rows,m_cols):\n",
    "        m = list()\n",
    "        \n",
    "        for rows in range(n_rows):\n",
    "            line = list()\n",
    "            for cols in range(m_cols):\n",
    "                line.append(0)\n",
    "            m.append(line)\n",
    "\n",
    "        m=list(m)\n",
    "        return m\n",
    "\n",
    "    def __getitem__(self,ind):\n",
    "        if isinstance(ind, tuple):\n",
    "            #M[i,j]        \n",
    "            i, j = ind\n",
    "            return self._matrix[i-1][j-1]\n",
    "\n",
    "        #M[i][j]    \n",
    "        elif isinstance(ind, int):\n",
    "            return self.row(ind)\n",
    "   \n",
    "    def __setitem__(self,ind,num):\n",
    "        t = type(num)\n",
    "        if t != int and t != float: #make sure values are only numbers\n",
    "            raise ValueError(\"Matrix entries must be numbers\")\n",
    "        else:\n",
    "            #M[i,j]\n",
    "            if isinstance(ind, tuple):\n",
    "                i, j = ind\n",
    "                self._matrix[i-1][j-1] = num\n",
    "            #M[i][j]\n",
    "            else:\n",
    "                print(ind,j)\n",
    "                self._row(ind)[j] = num\n",
    "\n",
    "    def __len__(self,i=None):\n",
    "        if i == None:\n",
    "            return self._n_rows\n",
    "        else:\n",
    "            return self._m_cols\n",
    "\n",
    "    def __call__(self,i,j):\n",
    "        return self._matrix[i-1][j-1]\n",
    "\n",
    "    def __repr__(self):  \n",
    "        return \"\\n\".join(str(row) for row in self._matrix)\n",
    "\n",
    "    def shape(self):\n",
    "        return (self._n_rows,self._m_cols)\n",
    "\n",
    "    def transpose(self):\n",
    "        T = list()\n",
    "        for col_num in range(self._m_cols):\n",
    "            new_row=list()\n",
    "            for row_num in range(self._n_rows):\n",
    "                new_row.append(self._matrix[row_num][col_num])\n",
    "            T.append(new_row)\n",
    "        matrix_T = Matrix(None,self._m_cols, self._n_rows)\n",
    "        matrix_T._matrix = T\n",
    "        return matrix_T\n",
    "\n",
    "    def row(self,n):\n",
    "        return MatrixRow(self._matrix[n-1])\n",
    "    def column(self,n):\n",
    "        col = [self._matrix[row_num][n-1] for row_num in range(self._n_rows)]\n",
    "        return col\n",
    "\n",
    "    def to_list(self):\n",
    "        l = list()\n",
    "        for row_num in range(self._n_rows):\n",
    "            row = self._matrix[row_num]\n",
    "            l.append(list(row))\n",
    "        return l\n",
    "\n",
    "    def block(self,n_0,n_1,m_0,m_1):\n",
    "        n_0,n_1,m_0,m_1 = int(n_0),int(n_1),int(m_0),int(m_1)\n",
    "        cut = list()\n",
    "        for row in range(n_0,n_1+1):\n",
    "            new_row=list()\n",
    "            for col in range(m_0,m_1+1):\n",
    "                new_row.append(self._matrix[row-1][col-1])\n",
    "            cut.append(new_row)\n",
    "        block=Matrix(cut)\n",
    "        return block\n",
    "\n",
    "    def scalarmul(self,c):\n",
    "        new=self._matrix\n",
    "        for row_num in range(0,self._n_rows):\n",
    "            for col_num in range(0,self._m_cols):\n",
    "                new[row_num][col_num] *= c\n",
    "        new=Matrix(self._matrix)\n",
    "        return new\n",
    "\n",
    "    def add(self, other):\n",
    "        if self._n_rows != other._n_rows or self._m_cols != other._m_cols:\n",
    "            raise ValueError(\"Matrices must be same size\")\n",
    "        else:\n",
    "            sum = Matrix(None,self._n_rows,self._m_cols)\n",
    "            for row_num in range(1,self._n_rows+1):\n",
    "                for col_num in range(1,self._m_cols+1):\n",
    "                    sum[row_num][col_num] = self[row_num][col_num]+other[row_num][col_num]\n",
    "            return sum\n",
    "\n",
    "    def sub(self,other):\n",
    "        if self._n_rows != other._n_rows or self._m_cols != other._m_cols:\n",
    "            raise ValueError(\"Matrices must be same size\")\n",
    "        else:\n",
    "            other_negative = other.scalarmul(-1)\n",
    "            return self.add(other_negative)\n",
    "\n",
    "    def mat_mult(self,other):\n",
    "        if self._m_cols != other._n_rows:\n",
    "            raise ValueError(\"Multiplication is not defined\")\n",
    "        else:\n",
    "            product = ones(self._n_rows,other._m_cols)\n",
    "            other_T = other.transpose()\n",
    "            for row_num in range(1,self._n_rows+1):\n",
    "                for col_num in range(1,other._m_cols+1):\n",
    "                    \n",
    "                    row1=self.row(row_num)\n",
    "                    row2=other_T.row(col_num)\n",
    "                    prod1 = row1.element_mult(row2)\n",
    "                    row_sum = sum(prod1)\n",
    "\n",
    "                    product[row_num][col_num] = row_sum\n",
    "            return product       \n",
    "    \n",
    "    def element_mult(self,other):\n",
    "        if self._n_rows != other._n_rows or self._m_cols != other._m_cols:\n",
    "            raise ValueError(\"Matrices must be same size\")\n",
    "        else:\n",
    "            product = ones(self._n_rows,self._m_cols)\n",
    "            for row_num in range(1,self._n_rows+1):\n",
    "                for col_num in range(1,self._m_cols+1):\n",
    "                    product[row_num][col_num]=self[row_num][col_num]*other[row_num][col_num]\n",
    "            return product\n",
    "\n",
    "    def equals(self,other):\n",
    "        if self._n_rows != other._n_rows or self._m_cols != other._m_cols:\n",
    "            return False\n",
    "        else:\n",
    "            for row_num in range(1,self._n_rows+1):\n",
    "                for col_num in range(1,self._m_cols+1):\n",
    "                    if self._matrix[row_num-1][col_num-1] == other._matrix[row_num-1][col_num-1]:\n",
    "                        continue\n",
    "                    else:\n",
    "                        return False\n",
    "            return True\n",
    "            \n",
    "#####################################################################################################################################\n",
    "#####################################################################################################################################\n",
    "    def __mul__(self,other):\n",
    "        if isinstance(other, (int,float)):\n",
    "            return self.scalarmul(other)\n",
    "        else:\n",
    "            return self.mat_mult(other)\n",
    "\n",
    "    def __add__(self,other):\n",
    "        return self.add(other)\n",
    "\n",
    "    def __sub__(self,other):\n",
    "        return self.sub(other)\n",
    "\n",
    "    def __eq__(self, other):\n",
    "        return self.equals(other)\n",
    "\n",
    "    def __rmul__(self,other):\n",
    "        if isinstance(other, (int,float)):\n",
    "            return self.scalarmul(other)\n",
    "        else:\n",
    "            return self.mat_mult(other)"
   ]
  },
  {
   "cell_type": "code",
   "execution_count": 458,
   "metadata": {},
   "outputs": [
    {
     "name": "stdout",
     "output_type": "stream",
     "text": [
      "[2, 2]\n",
      "[2, 2]\n",
      "\n",
      "[1, 0]\n",
      "[0, 1]\n",
      "\n",
      "[3, 3, 3]\n",
      "[3, 3, 3]\n"
     ]
    }
   ],
   "source": [
    "M = constant(2,2,2)\n",
    "i2 = eye(2)\n",
    "N = constant(2,3,3)\n",
    "print(M,i2,N,sep=\"\\n\\n\")"
   ]
  },
  {
   "cell_type": "code",
   "execution_count": 460,
   "metadata": {},
   "outputs": [
    {
     "data": {
      "text/plain": [
       "[12, 12, 12]\n",
       "[12, 12, 12]"
      ]
     },
     "execution_count": 460,
     "metadata": {},
     "output_type": "execute_result"
    }
   ],
   "source": [
    "M*N"
   ]
  },
  {
   "cell_type": "code",
   "execution_count": 462,
   "metadata": {},
   "outputs": [
    {
     "data": {
      "text/plain": [
       "[3, 2]\n",
       "[2, 3]"
      ]
     },
     "execution_count": 462,
     "metadata": {},
     "output_type": "execute_result"
    }
   ],
   "source": [
    "M+i2"
   ]
  },
  {
   "cell_type": "code",
   "execution_count": 464,
   "metadata": {},
   "outputs": [
    {
     "data": {
      "text/plain": [
       "False"
      ]
     },
     "execution_count": 464,
     "metadata": {},
     "output_type": "execute_result"
    }
   ],
   "source": [
    "M==i2"
   ]
  },
  {
   "cell_type": "code",
   "execution_count": 466,
   "metadata": {},
   "outputs": [
    {
     "ename": "ValueError",
     "evalue": "Matrices must be same size",
     "output_type": "error",
     "traceback": [
      "\u001b[0;31m---------------------------------------------------------------------------\u001b[0m",
      "\u001b[0;31mValueError\u001b[0m                                Traceback (most recent call last)",
      "Cell \u001b[0;32mIn[466], line 1\u001b[0m\n\u001b[0;32m----> 1\u001b[0m N\u001b[38;5;241m-\u001b[39mi2\n",
      "Cell \u001b[0;32mIn[439], line 204\u001b[0m, in \u001b[0;36mMatrix.__sub__\u001b[0;34m(self, other)\u001b[0m\n\u001b[1;32m    203\u001b[0m \u001b[38;5;28;01mdef\u001b[39;00m \u001b[38;5;21m__sub__\u001b[39m(\u001b[38;5;28mself\u001b[39m,other):\n\u001b[0;32m--> 204\u001b[0m     \u001b[38;5;28;01mreturn\u001b[39;00m \u001b[38;5;28mself\u001b[39m\u001b[38;5;241m.\u001b[39msub(other)\n",
      "Cell \u001b[0;32mIn[439], line 148\u001b[0m, in \u001b[0;36mMatrix.sub\u001b[0;34m(self, other)\u001b[0m\n\u001b[1;32m    146\u001b[0m \u001b[38;5;28;01mdef\u001b[39;00m \u001b[38;5;21msub\u001b[39m(\u001b[38;5;28mself\u001b[39m,other):\n\u001b[1;32m    147\u001b[0m     \u001b[38;5;28;01mif\u001b[39;00m \u001b[38;5;28mself\u001b[39m\u001b[38;5;241m.\u001b[39m_n_rows \u001b[38;5;241m!=\u001b[39m other\u001b[38;5;241m.\u001b[39m_n_rows \u001b[38;5;129;01mor\u001b[39;00m \u001b[38;5;28mself\u001b[39m\u001b[38;5;241m.\u001b[39m_m_cols \u001b[38;5;241m!=\u001b[39m other\u001b[38;5;241m.\u001b[39m_m_cols:\n\u001b[0;32m--> 148\u001b[0m         \u001b[38;5;28;01mraise\u001b[39;00m \u001b[38;5;167;01mValueError\u001b[39;00m(\u001b[38;5;124m\"\u001b[39m\u001b[38;5;124mMatrices must be same size\u001b[39m\u001b[38;5;124m\"\u001b[39m)\n\u001b[1;32m    149\u001b[0m     \u001b[38;5;28;01melse\u001b[39;00m:\n\u001b[1;32m    150\u001b[0m         other_negative \u001b[38;5;241m=\u001b[39m other\u001b[38;5;241m.\u001b[39mscalarmul(\u001b[38;5;241m-\u001b[39m\u001b[38;5;241m1\u001b[39m)\n",
      "\u001b[0;31mValueError\u001b[0m: Matrices must be same size"
     ]
    }
   ],
   "source": [
    "N-i2 #error"
   ]
  },
  {
   "cell_type": "code",
   "execution_count": 468,
   "metadata": {},
   "outputs": [
    {
     "data": {
      "text/plain": [
       "[5, 0]\n",
       "[0, 5]"
      ]
     },
     "execution_count": 468,
     "metadata": {},
     "output_type": "execute_result"
    }
   ],
   "source": [
    "i2*5"
   ]
  },
  {
   "cell_type": "code",
   "execution_count": 470,
   "metadata": {},
   "outputs": [
    {
     "data": {
      "text/plain": [
       "[2.0, 2.0, 2.0]\n",
       "[2.0, 2.0, 2.0]"
      ]
     },
     "execution_count": 470,
     "metadata": {},
     "output_type": "execute_result"
    }
   ],
   "source": [
    "(1/6)*(M*N)"
   ]
  },
  {
   "cell_type": "markdown",
   "metadata": {},
   "source": [
    "6. Demonstrate the basic properties of matrices with your matrix class by creating two 2 by 2 example matrices using your Matrix class and illustrating the following:\n",
    "\n",
    "$$\n",
    "(AB)C=A(BC)\n",
    "$$\n",
    "$$\n",
    "A(B+C)=AB+AC\n",
    "$$\n",
    "$$\n",
    "AB\\neq BA\n",
    "$$\n",
    "$$\n",
    "AI=A\n",
    "$$"
   ]
  },
  {
   "cell_type": "code",
   "execution_count": 490,
   "metadata": {},
   "outputs": [
    {
     "name": "stdout",
     "output_type": "stream",
     "text": [
      "[2, 2]\n",
      "[2, 2]\n",
      "\n",
      "[3, 3]\n",
      "[3, 3]\n",
      "\n",
      "[4, 0]\n",
      "[4, 4]\n",
      "\n",
      "[1, 0]\n",
      "[0, 1]\n"
     ]
    }
   ],
   "source": [
    "A = constant(2,2,2)\n",
    "B = constant(2,2,3)\n",
    "I = eye(2)\n",
    "C = constant(2,2,4)\n",
    "C[1,2] = 0\n",
    "\n",
    "print(A,B,C,I,sep=\"\\n\\n\")"
   ]
  },
  {
   "cell_type": "code",
   "execution_count": 492,
   "metadata": {},
   "outputs": [
    {
     "data": {
      "text/plain": [
       "True"
      ]
     },
     "execution_count": 492,
     "metadata": {},
     "output_type": "execute_result"
    }
   ],
   "source": [
    "(A*B)*C == A*(B*C)"
   ]
  },
  {
   "cell_type": "code",
   "execution_count": 494,
   "metadata": {},
   "outputs": [
    {
     "data": {
      "text/plain": [
       "True"
      ]
     },
     "execution_count": 494,
     "metadata": {},
     "output_type": "execute_result"
    }
   ],
   "source": [
    "A*(B+C) == A*B + A*C"
   ]
  },
  {
   "cell_type": "code",
   "execution_count": 496,
   "metadata": {},
   "outputs": [
    {
     "data": {
      "text/plain": [
       "False"
      ]
     },
     "execution_count": 496,
     "metadata": {},
     "output_type": "execute_result"
    }
   ],
   "source": [
    "A*C == C*A"
   ]
  },
  {
   "cell_type": "code",
   "execution_count": 498,
   "metadata": {},
   "outputs": [
    {
     "data": {
      "text/plain": [
       "True"
      ]
     },
     "execution_count": 498,
     "metadata": {},
     "output_type": "execute_result"
    }
   ],
   "source": [
    "A*I == A"
   ]
  },
  {
   "cell_type": "code",
   "execution_count": null,
   "metadata": {},
   "outputs": [],
   "source": []
  }
 ],
 "metadata": {
  "kernelspec": {
   "display_name": "Python 3 (ipykernel)",
   "language": "python",
   "name": "python3"
  },
  "language_info": {
   "codemirror_mode": {
    "name": "ipython",
    "version": 3
   },
   "file_extension": ".py",
   "mimetype": "text/x-python",
   "name": "python",
   "nbconvert_exporter": "python",
   "pygments_lexer": "ipython3",
   "version": "3.12.4"
  }
 },
 "nbformat": 4,
 "nbformat_minor": 4
}
