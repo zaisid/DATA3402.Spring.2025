{
 "cells": [
  {
   "cell_type": "markdown",
   "metadata": {},
   "source": [
    "# Lab 6"
   ]
  },
  {
   "cell_type": "markdown",
   "metadata": {},
   "source": [
    "You are tasked with evaluating card counting strategies for black jack. In order to do so, you will use object oriented programming to create a playable casino style black jack game where a computer dealer plays against $n$ computer players and possibily one human player. If you don't know the rules of blackjack or card counting, please google it. \n",
    "\n",
    "A few requirements:\n",
    "* The game should utilize multiple 52-card decks. Typically the game is played with 6 decks.\n",
    "* Players should have chips.\n",
    "* Dealer's actions are predefined by rules of the game (typically hit on 16). \n",
    "* The players should be aware of all shown cards so that they can count cards.\n",
    "* Each player could have a different strategy.\n",
    "* The system should allow you to play large numbers of games, study the outcomes, and compare average winnings per hand rate for different strategies."
   ]
  },
  {
   "cell_type": "markdown",
   "metadata": {},
   "source": [
    "1. Begin by creating a classes to represent cards and decks. The deck should support more than one 52-card set. The deck should allow you to shuffle and draw cards. Include a \"plastic\" card, placed randomly in the deck. Later, when the plastic card is dealt, shuffle the cards before the next deal."
   ]
  },
  {
   "cell_type": "code",
   "execution_count": 32,
   "metadata": {},
   "outputs": [],
   "source": [
    "class Cards:\n",
    "    def __init__(self,suit,num):\n",
    "        self._suit=suit\n",
    "        self._num=num\n",
    "        \n",
    "    def __str__(self):\n",
    "        if self._suit == \"plastic\":\n",
    "            return \"Plastic card\"\n",
    "        return f\"{self._num} of {self._suit}\"\n",
    "\n",
    "    def __call__(self): #card value\n",
    "        if isinstance(self._num, int):\n",
    "            return self._num\n",
    "        elif self._num == \"A\":\n",
    "            return 1\n",
    "        else:\n",
    "            return 10\n",
    "\n",
    "    def plastic_card(self):\n",
    "        return Cards(\"plastic\",0)\n",
    "\n",
    "    #def __getitem__(self,ind):\n",
    "    #    if ind == 0:\n",
    "    #        return self._suit\n",
    "    #    elif ind == 1:\n",
    "    #        return self._num\n",
    "    #    else:\n",
    "    #        raise ValueError(\"Card index out of range\")\n",
    "        \n",
    "import random\n",
    "class Deck:\n",
    "    def __init__(self,n=6):\n",
    "        self._deck = self.make_deck(n)\n",
    "        self._drawn = list()\n",
    "    \n",
    "    def make_deck(n=1):\n",
    "        suits = [\"Hearts\",\"Clubs\",\"Diamonds\",\"Spades\"]\n",
    "        numbers = [\"A\",2,3,4,5,6,7,8,9,10,\"J\",\"Q\",\"K\"]\n",
    "        \n",
    "        cards = []\n",
    "        while n>0:\n",
    "            for num in numbers:\n",
    "                for suit in suits:\n",
    "                    card = Cards(suit,num)\n",
    "                    cards.append(card)\n",
    "            n-=1\n",
    "        cards.add_plastic_card()\n",
    "        return cards\n",
    "\n",
    "    def add_plastic_card(self):\n",
    "        plastic=random.randint(int(0.75*len(self._deck)),int(0.80*len(self._deck))) #put card in the last ~25% of the deck\n",
    "        self._deck.insert(plastic, Cards.plastic_card())\n",
    "\n",
    "    def shuffle(self):\n",
    "        for ind,card in enumerate(self._deck):\n",
    "            if card() == 0:\n",
    "                del self._deck[ind] #take out plastic card for reshuffle\n",
    "            \n",
    "        random.shuffle(self._deck)\n",
    "        self._drawn = list()\n",
    "        self.add_plastic_card() #add plastic back in\n",
    "        print(\"Deck shuffled\")\n",
    "\n",
    "    def draw(self,num=1):\n",
    "        while num > 0:\n",
    "            if self._deck[0]() == 0:\n",
    "                print(\"Plastic card drawn\")\n",
    "                self.shuffle()\n",
    "                continue\n",
    "            self._drawn.append(self._deck.pop(0))\n",
    "            num -= 1\n",
    "        return self._drawn[-1]\n",
    "\n",
    "    def discard_pile(self):\n",
    "        return self._drawn"
   ]
  },
  {
   "cell_type": "markdown",
   "metadata": {},
   "source": [
    "2. Now design your game on a UML diagram. You may want to create classes to represent, players, a hand, and/or the game. As you work through the lab, update your UML diagram. At the end of the lab, submit your diagram (as pdf file) along with your notebook. "
   ]
  },
  {
   "cell_type": "markdown",
   "metadata": {},
   "source": [
    "![UML](Blackjack_UML.png)"
   ]
  },
  {
   "cell_type": "markdown",
   "metadata": {},
   "source": [
    "3. Begin with implementing the skeleton (ie define data members and methods/functions, but do not code the logic) of the classes in your UML diagram."
   ]
  },
  {
   "cell_type": "code",
   "execution_count": null,
   "metadata": {},
   "outputs": [],
   "source": [
    "class Player:\n",
    "    def __init__(self,name,chips=100,strategy=None):\n",
    "        self._name = str(name).strip().title()\n",
    "        self._chips = abs(int(chips))\n",
    "        self._hand = list()\n",
    "        self._current_bet = 0\n",
    "        self._strategy = strategy\n",
    "\n",
    "    def bet(self,amount):\n",
    "        self._current_bet = amount\n",
    "        # if win, chips += current bet\n",
    "        # if bust, chips -= current bet\n",
    "\n",
    "    def double_down(self):\n",
    "        self.current_bet *= 2\n",
    "\n",
    "    def new_hand(self,deck):\n",
    "        self._hand = Hand(deck) #deck will come from deal() in Game class\n",
    "\n",
    "    def hit(self,n=1):\n",
    "        self._hand.add_card(n)\n",
    "\n",
    "    def stand(self):\n",
    "        self.hit(0)\n",
    "\n",
    "    def change_strat(self,new_strat):\n",
    "        self._strategy = new_strat\n",
    "\n",
    "    def split"
   ]
  },
  {
   "cell_type": "code",
   "execution_count": null,
   "metadata": {},
   "outputs": [],
   "source": [
    "class Hand:\n",
    "    def __init__(self,deck,n=2):\n",
    "        self._Hand = list(deck.draw(n))\n",
    "        self._value = self.__calc_value(self)\n",
    "\n",
    "    def __calc_value(self):\n",
    "        for card in self._Hand:\n",
    "            self._value() += card()\n",
    "\n",
    "    def add_card(self,deck):\n",
    "        self._Hand.append(deck.draw())\n",
    "        self.__calc_value()"
   ]
  },
  {
   "cell_type": "code",
   "execution_count": null,
   "metadata": {},
   "outputs": [],
   "source": [
    "class Strategy:\n",
    "    "
   ]
  },
  {
   "cell_type": "code",
   "execution_count": null,
   "metadata": {},
   "outputs": [],
   "source": []
  },
  {
   "cell_type": "code",
   "execution_count": null,
   "metadata": {},
   "outputs": [],
   "source": []
  },
  {
   "cell_type": "code",
   "execution_count": null,
   "metadata": {},
   "outputs": [],
   "source": []
  },
  {
   "cell_type": "code",
   "execution_count": null,
   "metadata": {},
   "outputs": [],
   "source": []
  },
  {
   "cell_type": "markdown",
   "metadata": {},
   "source": [
    "4. Complete the implementation by coding the logic of all functions. For now, just implement the dealer player and human player."
   ]
  },
  {
   "cell_type": "markdown",
   "metadata": {},
   "source": [
    "5.  Test. Demonstrate game play. For example, create a game of several dealer players and show that the game is functional through several rounds."
   ]
  },
  {
   "cell_type": "markdown",
   "metadata": {},
   "source": [
    "6. Implement a new player with the following strategy:\n",
    "\n",
    "    * Assign each card a value: \n",
    "        * Cards 2 to 6 are +1 \n",
    "        * Cards 7 to 9 are 0 \n",
    "        * Cards 10 through Ace are -1\n",
    "    * Compute the sum of the values for all cards seen so far.\n",
    "    * Hit if sum is very negative, stay if sum is very positive. Select a threshold for hit/stay, e.g. 0 or -2.  "
   ]
  },
  {
   "cell_type": "markdown",
   "metadata": {},
   "source": [
    "7. Create a test scenario where one player, using the above strategy, is playing with a dealer and 3 other players that follow the dealer's strategy. Each player starts with same number of chips. Play 50 rounds (or until the strategy player is out of money). Compute the strategy player's winnings. You may remove unnecessary printouts from your code (perhaps implement a verbose/quiet mode) to reduce the output."
   ]
  },
  {
   "cell_type": "markdown",
   "metadata": {},
   "source": [
    "8. Create a loop that runs 100 games of 50 rounds, as setup in previous question, and store the strategy player's chips at the end of the game (aka \"winnings\") in a list. Histogram the winnings. What is the average winnings per round? What is the standard deviation. What is the probabilty of net winning or lossing after 50 rounds?\n"
   ]
  },
  {
   "cell_type": "markdown",
   "metadata": {},
   "source": [
    "9. Repeat previous questions scanning the value of the threshold. Try at least 5 different threshold values. Can you find an optimal value?"
   ]
  },
  {
   "cell_type": "markdown",
   "metadata": {},
   "source": [
    "10. Create a new strategy based on web searches or your own ideas. Demonstrate that the new strategy will result in increased or decreased winnings. "
   ]
  },
  {
   "cell_type": "markdown",
   "metadata": {},
   "source": [
    "- Basic strategy\n",
    "- No Bust strategy"
   ]
  },
  {
   "cell_type": "code",
   "execution_count": null,
   "metadata": {},
   "outputs": [],
   "source": []
  }
 ],
 "metadata": {
  "kernelspec": {
   "display_name": "Python 3 (ipykernel)",
   "language": "python",
   "name": "python3"
  },
  "language_info": {
   "codemirror_mode": {
    "name": "ipython",
    "version": 3
   },
   "file_extension": ".py",
   "mimetype": "text/x-python",
   "name": "python",
   "nbconvert_exporter": "python",
   "pygments_lexer": "ipython3",
   "version": "3.12.4"
  }
 },
 "nbformat": 4,
 "nbformat_minor": 4
}
